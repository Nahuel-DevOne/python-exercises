{
 "cells": [
  {
   "cell_type": "markdown",
   "id": "8fc83ef7-3ce1-47bf-9d0b-f24f19354c6d",
   "metadata": {},
   "source": [
    "# `Extra 2`"
   ]
  },
  {
   "cell_type": "markdown",
   "id": "1fc3325c-9840-44b2-b49a-9afc9aa0c0f8",
   "metadata": {},
   "source": [
    "### La población aproximada de España a 1 de enero de 2022 es de 47.500.000 habitantes.\n",
    "- a. ¿Cuál será la población española en 2050 si, en un escenario positivo, se espera un crecimiento anual del 0,4%?\n",
    "- b. ¿Cuál será la población española en 2050 si, en un escenario estancado, se estima un crecimiento anual del 0,01%?\n",
    "- c. ¿Cuál será la población española en 2050 si, en un escenario negativo, se estima un decrecimiento anual del 0,2%?"
   ]
  },
  {
   "cell_type": "code",
   "execution_count": 37,
   "id": "ae52d04b-cb25-4c07-be5f-10102f423324",
   "metadata": {},
   "outputs": [
    {
     "name": "stdout",
     "output_type": "stream",
     "text": [
      "Escenario positivo en el 2050: 53117492.870568946\n",
      "Escenario estancado en el 2050: 47633179.70570731\n",
      "Escenario negativo en el 2050: 50233080.59153816\n"
     ]
    }
   ],
   "source": [
    "anio = 2022\n",
    "poblacion = 47500000\n",
    "\n",
    "while anio < 2050:\n",
    "    anio += 1\n",
    "    poblacion *= 1.004\n",
    "    # print(f'{anio}: {poblacion}')\n",
    "    \n",
    "poblacion_positiva = poblacion\n",
    "print(f'Escenario positivo en el {anio}: {poblacion_positiva}')\n",
    "        \n",
    "poblacion = 47500000\n",
    "anio = 2022\n",
    "while anio < 2050:\n",
    "    anio += 1\n",
    "    poblacion *= 1.0001\n",
    "    # print(f'{anio}: {poblacion}')\n",
    "    \n",
    "poblacion_estancada = poblacion\n",
    "print(f'Escenario estancado en el {anio}: {poblacion_estancada}')\n",
    "\n",
    "poblacion = 47500000\n",
    "anio = 2022\n",
    "while anio < 2050:\n",
    "    anio += 1\n",
    "    poblacion *= 1.002\n",
    "    # print(f'{anio}: {poblacion}')\n",
    "    \n",
    "poblacion_negativa = poblacion\n",
    "print(f'Escenario negativo en el {anio}: {poblacion_negativa}')"
   ]
  },
  {
   "cell_type": "markdown",
   "id": "f5bf166e-fd95-4a51-92cb-3b7ac2621019",
   "metadata": {},
   "source": [
    "### Crea un programa, a partir de un bucle for, que muestre por pantalla la tabla de multiplicar de un número del 1 al 9 que el usuario seleccione."
   ]
  },
  {
   "cell_type": "code",
   "execution_count": 47,
   "id": "4c564c83-2407-4b5a-bb5f-13f3e798aefa",
   "metadata": {},
   "outputs": [
    {
     "name": "stdout",
     "output_type": "stream",
     "text": [
      "Ingresa un número del 1 al 9:  33\n"
     ]
    }
   ],
   "source": [
    "numero = int(input(\"Ingresa un número del 1 al 9: \"))\n",
    "if numero <= 9 and numero >= 1 :\n",
    "    for i in range(1, 11):\n",
    "        print(f'{numero} x {i} = {numero * i}')"
   ]
  }
 ],
 "metadata": {
  "kernelspec": {
   "display_name": "Python 3 (ipykernel)",
   "language": "python",
   "name": "python3"
  },
  "language_info": {
   "codemirror_mode": {
    "name": "ipython",
    "version": 3
   },
   "file_extension": ".py",
   "mimetype": "text/x-python",
   "name": "python",
   "nbconvert_exporter": "python",
   "pygments_lexer": "ipython3",
   "version": "3.9.13"
  }
 },
 "nbformat": 4,
 "nbformat_minor": 5
}
