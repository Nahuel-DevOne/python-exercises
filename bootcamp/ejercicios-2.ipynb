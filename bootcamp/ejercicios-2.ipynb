{
 "cells": [
  {
   "cell_type": "markdown",
   "id": "8e76ccaf-e8c0-41fa-9f67-5ada7ba7ac24",
   "metadata": {},
   "source": [
    "# **`Ejercicios 2`**"
   ]
  },
  {
   "cell_type": "markdown",
   "id": "40f5a1a5-1512-4451-b483-e7f50db3491a",
   "metadata": {},
   "source": [
    "### *Ejercicio 1.3.1.*\n",
    "\n",
    "#### Vamos a simular la comprobación del código PIN de una tarjeta de crédito. Imagina que tu código PIN es 1234, crea un programa que te solicite que introduzcas tu código PIN y que te devuelva “El PIN es incorrecto. Inténtelo de nuevo: ”, mientras que no introduzcas el código correcto. Si introduces el código correcto se mostrará en pantalla el mensaje “PIN aceptado”. Prueba el programa con dos códigos incorrectos y con el código correcto, haz una captura de pantalla y compártela en el foro en este foro.\n",
    "\n"
   ]
  },
  {
   "cell_type": "code",
   "execution_count": 3,
   "id": "55f47a7c-055a-4c4a-9cac-8be0a048076a",
   "metadata": {},
   "outputs": [
    {
     "name": "stdin",
     "output_type": "stream",
     "text": [
      "Ingrese su número PIN: 2345\n"
     ]
    },
    {
     "name": "stdout",
     "output_type": "stream",
     "text": [
      "El PIN es incorrecto. Inténtelo de nuevo por favor.\n"
     ]
    },
    {
     "name": "stdin",
     "output_type": "stream",
     "text": [
      "Ingrese su número PIN: 4321\n"
     ]
    },
    {
     "name": "stdout",
     "output_type": "stream",
     "text": [
      "El PIN es incorrecto. Inténtelo de nuevo por favor.\n"
     ]
    },
    {
     "name": "stdin",
     "output_type": "stream",
     "text": [
      "Ingrese su número PIN: 1234\n"
     ]
    },
    {
     "name": "stdout",
     "output_type": "stream",
     "text": [
      "PIN aceptado\n"
     ]
    }
   ],
   "source": [
    "pin = 1234\n",
    "nro_ingresado = int(input('Ingrese su número PIN:'))\n",
    "\n",
    "while nro_ingresado != pin :\n",
    "    print('El PIN es incorrecto. Inténtelo de nuevo por favor.')\n",
    "    nro_ingresado = int(input('Ingrese su número PIN:'))\n",
    "print('PIN aceptado')    \n",
    "    "
   ]
  },
  {
   "cell_type": "markdown",
   "id": "6e94adf4-97fe-4a93-8862-6d06c5a99fac",
   "metadata": {},
   "source": [
    "### *Ejercicio 1.3.2.*\n",
    "\n",
    "#### Crea un programa que te vaya solicitando números hasta que introduzcas el número 0 y que, cuando esto ocurra, te devuelva la suma de todos los números introducidos."
   ]
  },
  {
   "cell_type": "code",
   "execution_count": 11,
   "id": "d109ed26-b016-44c2-9007-9c31e58b9049",
   "metadata": {},
   "outputs": [
    {
     "name": "stdin",
     "output_type": "stream",
     "text": [
      "Ingresa un número. Si introduces 0 (cero) finalizará el ciclo: 1\n",
      "Ingresa un número. Si introduces 0 (cero) finalizará el ciclo: 2\n",
      "Ingresa un número. Si introduces 0 (cero) finalizará el ciclo: 3\n",
      "Ingresa un número. Si introduces 0 (cero) finalizará el ciclo: 4\n",
      "Ingresa un número. Si introduces 0 (cero) finalizará el ciclo: 5\n",
      "Ingresa un número. Si introduces 0 (cero) finalizará el ciclo: 0\n"
     ]
    },
    {
     "name": "stdout",
     "output_type": "stream",
     "text": [
      "La suma de todos los números ingresados es: 15.0\n"
     ]
    }
   ],
   "source": [
    "nro_ingresado = float(input('Ingresa un número. Si introduces 0 (cero) finalizará el ciclo:'))\n",
    "sumatoria_nros = 0\n",
    "\n",
    "while nro_ingresado != 0 :\n",
    "    sumatoria_nros += nro_ingresado\n",
    "    nro_ingresado = float(input('Ingresa un número. Si introduces 0 (cero) finalizará el ciclo:'))\n",
    "    \n",
    "print(f'La suma de todos los números ingresados es: {sumatoria_nros}')                "
   ]
  },
  {
   "cell_type": "markdown",
   "id": "fb5767d0-0f1b-41aa-bff4-034386db06de",
   "metadata": {},
   "source": [
    "### *Ejercicio 1.3.3.*\n",
    "\n",
    "#### Imagina que quieres ahorrar una cantidad de dinero específica, y para ello vas guardando cada vez una cantidad diferente de dinero en una hucha. Crea un programa que te indique cuando has conseguido guardar en la hucha la cantidad de dinero que quieres ahorrar. Para ello, primero tienes que preguntar “¿Cuánto dinero quieres ahorrar?”, después pregunta “¿Cuánto dinero metes en la hucha?” tantas veces como sea necesario hasta llegar a la cantidad que quieres ahorrar. Cuando hayas llegado o superado esa cantidad, lanza el mensaje “Genial, has conseguido llegar a tu objetivo y has ahorrado xxx”. "
   ]
  },
  {
   "cell_type": "code",
   "execution_count": 12,
   "id": "54f869a9-554e-4433-b9fe-1c64064e31ec",
   "metadata": {},
   "outputs": [
    {
     "name": "stdin",
     "output_type": "stream",
     "text": [
      "¿Cuánto dinero quieres ahorrar? 100\n",
      "Cuánto dinero quieres ahorrar 20\n",
      "Cuánto dinero quieres ahorrar 30\n",
      "Cuánto dinero quieres ahorrar 40\n",
      "Cuánto dinero quieres ahorrar 11\n"
     ]
    },
    {
     "name": "stdout",
     "output_type": "stream",
     "text": [
      "Genial, has conseguido llegar a tu objetivo y has ahorrado 101.0\n"
     ]
    }
   ],
   "source": [
    "dinero_ahorrado = 0\n",
    "\n",
    "dinero_objetivo = float(input('¿Cuánto dinero quieres ahorrar?'))\n",
    "\n",
    "while dinero_ahorrado <= dinero_objetivo :\n",
    "    dinero_ahorrado += float(input('Cuánto dinero quieres ahorrar'))\n",
    "    \n",
    "print(f'Genial, has conseguido llegar a tu objetivo y has ahorrado {dinero_ahorrado}')    \n"
   ]
  },
  {
   "cell_type": "markdown",
   "id": "2e35bcc5-e56d-4748-ab9a-85cafe77eaa3",
   "metadata": {},
   "source": [
    "### *Ejercicio 1.3.5.*\n",
    "\n",
    "#### Crea un programa que solicite un número positivo a través de la consola y que devuelva la suma de todos sus dígitos. Por ejemplo, si introduces el número 1234, el resultado será 10."
   ]
  },
  {
   "cell_type": "code",
   "execution_count": 44,
   "id": "caabdf1e-5e38-4646-8f39-72b7d6c6a5e6",
   "metadata": {},
   "outputs": [
    {
     "name": "stdin",
     "output_type": "stream",
     "text": [
      "Ingrese un número entero positivo: 1234511223344\n"
     ]
    },
    {
     "name": "stdout",
     "output_type": "stream",
     "text": [
      "35\n"
     ]
    }
   ],
   "source": [
    "nro_ingresado = input('Ingrese un número entero positivo:')\n",
    "resultado = 0\n",
    "\n",
    "for num in nro_ingresado :\n",
    "    resultado += int(num)\n",
    "    \n",
    "print(resultado)\n",
    "    "
   ]
  },
  {
   "cell_type": "markdown",
   "id": "40ea5b1f-0753-4e98-805f-bed609028023",
   "metadata": {},
   "source": [
    "### *Ejercicio 1.3.6.*\n",
    "\n",
    "#### Crea un programa que te solicite una palabra por la consola y que te devuelva la palabra que has escrito hasta que escribas la palabra salir, que es la que hará que el programa termine."
   ]
  },
  {
   "cell_type": "code",
   "execution_count": 48,
   "id": "eb48503d-7e09-4bd6-9ca8-9d86c90ee87f",
   "metadata": {},
   "outputs": [
    {
     "name": "stdin",
     "output_type": "stream",
     "text": [
      "Ingresa una palabra: Hola\n"
     ]
    },
    {
     "name": "stdout",
     "output_type": "stream",
     "text": [
      "Hola\n"
     ]
    },
    {
     "name": "stdin",
     "output_type": "stream",
     "text": [
      "Ingresa una palabra: Chau\n"
     ]
    },
    {
     "name": "stdout",
     "output_type": "stream",
     "text": [
      "Chau\n"
     ]
    },
    {
     "name": "stdin",
     "output_type": "stream",
     "text": [
      "Ingresa una palabra: salir\n"
     ]
    },
    {
     "name": "stdout",
     "output_type": "stream",
     "text": [
      "Fin del programa\n"
     ]
    }
   ],
   "source": [
    "palabra_ingresada = input('Ingresa una palabra:')\n",
    "palabra_fin = 'salir'\n",
    "\n",
    "while palabra_ingresada != palabra_fin :\n",
    "    print(palabra_ingresada)\n",
    "    palabra_ingresada = input('Ingresa una palabra:')\n",
    "    \n",
    "print('Fin del programa')    "
   ]
  },
  {
   "cell_type": "markdown",
   "id": "136579a0-0da0-41bf-8708-ec6386b314cf",
   "metadata": {},
   "source": [
    "### *Ejercicio 1.3.7.*\n",
    "\n",
    "#### Crea un programa que muestre por pantalla los números del 0 al 5 y el resultado de elevarlos al cuadrado. El resultado a mostrar sería, por ejemplo, de la forma:\n",
    "\n",
    "- “El cuadrado del número 0 es 0.” \n",
    "\n",
    "- “El cuadrado del número 1 es 1.” "
   ]
  },
  {
   "cell_type": "code",
   "execution_count": 49,
   "id": "af5513e6-bc38-410e-a9d2-dabcb957c03b",
   "metadata": {},
   "outputs": [
    {
     "name": "stdout",
     "output_type": "stream",
     "text": [
      "El cuadrado del número 0 es: 0\n",
      "El cuadrado del número 1 es: 1\n",
      "El cuadrado del número 2 es: 4\n",
      "El cuadrado del número 3 es: 9\n",
      "El cuadrado del número 4 es: 16\n",
      "El cuadrado del número 5 es: 25\n"
     ]
    }
   ],
   "source": [
    "for num in range(6) :\n",
    "    print(f'El cuadrado del número {num} es: {num**2}')\n",
    "    "
   ]
  },
  {
   "cell_type": "markdown",
   "id": "18bf4627-cb30-44d7-a920-50c019083035",
   "metadata": {},
   "source": [
    "### *Ejercicio 1.3.8.*\n",
    "\n",
    "#### Crea un programa que muestre por pantalla los versos de la canción infantil Un elefante se balanceaba, hasta que en la tela haya 20 elefantes. Los versos de la canción se mostrarán de la forma:\n",
    "\n",
    "#### 1 elefante se balanceaba\n",
    "\n",
    "#### sobre la tela de una araña,\n",
    "\n",
    "#### como veía que no se caía,\n",
    "\n",
    "#### fue a llamar otro elefante.\n",
    "\n",
    "#### 2 elefantes se balanceaban\n",
    "\n",
    "#### sobre la tela de una araña,\n",
    "\n",
    "#### como veían que no se caía,\n",
    "\n",
    "#### fueron a llamar a otro elefante.\n",
    "\n",
    "…\n",
    "\n",
    "…\n",
    "\n",
    "#### 20 elefantes se balanceaban\n",
    "\n",
    "#### sobre la tela de una araña,\n",
    "\n",
    "#### como veían que no se caía,\n",
    "\n",
    "#### fueron a llamar a otro elefante."
   ]
  },
  {
   "cell_type": "code",
   "execution_count": 58,
   "id": "f09df544-23d7-429f-9567-2cb1dc863014",
   "metadata": {},
   "outputs": [
    {
     "name": "stdout",
     "output_type": "stream",
     "text": [
      "1 elefante se balanceaba\n",
      "sobre la tela de una araña,\n",
      "como veía que no se caía,\n",
      "fue a llamar otro elefante.\n",
      "2 elefantes se balanceaban\n",
      "sobre la tela de una araña,\n",
      "como veía que no se caían,\n",
      "fueron a llamar otro elefante.\n",
      "3 elefantes se balanceaban\n",
      "sobre la tela de una araña,\n",
      "como veía que no se caían,\n",
      "fueron a llamar otro elefante.\n",
      "4 elefantes se balanceaban\n",
      "sobre la tela de una araña,\n",
      "como veía que no se caían,\n",
      "fueron a llamar otro elefante.\n",
      "5 elefantes se balanceaban\n",
      "sobre la tela de una araña,\n",
      "como veía que no se caían,\n",
      "fueron a llamar otro elefante.\n",
      "6 elefantes se balanceaban\n",
      "sobre la tela de una araña,\n",
      "como veía que no se caían,\n",
      "fueron a llamar otro elefante.\n",
      "7 elefantes se balanceaban\n",
      "sobre la tela de una araña,\n",
      "como veía que no se caían,\n",
      "fueron a llamar otro elefante.\n",
      "8 elefantes se balanceaban\n",
      "sobre la tela de una araña,\n",
      "como veía que no se caían,\n",
      "fueron a llamar otro elefante.\n",
      "9 elefantes se balanceaban\n",
      "sobre la tela de una araña,\n",
      "como veía que no se caían,\n",
      "fueron a llamar otro elefante.\n",
      "10 elefantes se balanceaban\n",
      "sobre la tela de una araña,\n",
      "como veía que no se caían,\n",
      "fueron a llamar otro elefante.\n",
      "11 elefantes se balanceaban\n",
      "sobre la tela de una araña,\n",
      "como veía que no se caían,\n",
      "fueron a llamar otro elefante.\n",
      "12 elefantes se balanceaban\n",
      "sobre la tela de una araña,\n",
      "como veía que no se caían,\n",
      "fueron a llamar otro elefante.\n",
      "13 elefantes se balanceaban\n",
      "sobre la tela de una araña,\n",
      "como veía que no se caían,\n",
      "fueron a llamar otro elefante.\n",
      "14 elefantes se balanceaban\n",
      "sobre la tela de una araña,\n",
      "como veía que no se caían,\n",
      "fueron a llamar otro elefante.\n",
      "15 elefantes se balanceaban\n",
      "sobre la tela de una araña,\n",
      "como veía que no se caían,\n",
      "fueron a llamar otro elefante.\n",
      "16 elefantes se balanceaban\n",
      "sobre la tela de una araña,\n",
      "como veía que no se caían,\n",
      "fueron a llamar otro elefante.\n",
      "17 elefantes se balanceaban\n",
      "sobre la tela de una araña,\n",
      "como veía que no se caían,\n",
      "fueron a llamar otro elefante.\n",
      "18 elefantes se balanceaban\n",
      "sobre la tela de una araña,\n",
      "como veía que no se caían,\n",
      "fueron a llamar otro elefante.\n",
      "19 elefantes se balanceaban\n",
      "sobre la tela de una araña,\n",
      "como veía que no se caían,\n",
      "fueron a llamar otro elefante.\n",
      "20 elefantes se balanceaban\n",
      "sobre la tela de una araña,\n",
      "como veía que no se caían,\n",
      "fueron a llamar otro elefante.\n"
     ]
    }
   ],
   "source": [
    "for num in range(20):\n",
    "    if num == 0 :\n",
    "        print(f'''{num + 1} elefante se balanceaba\n",
    "sobre la tela de una araña,\n",
    "como veía que no se caía,\n",
    "fue a llamar otro elefante.''')\n",
    "    else:\n",
    "        print(f'''{num + 1} elefantes se balanceaban\n",
    "sobre la tela de una araña,\n",
    "como veía que no se caían,\n",
    "fueron a llamar otro elefante.''')\n",
    "    "
   ]
  },
  {
   "cell_type": "markdown",
   "id": "4b04a16e-08b2-4374-bacc-a438088999ef",
   "metadata": {},
   "source": [
    "### *Ejercicio 1.3.9.*\n",
    "\n",
    "#### Crea un programa que calcule los divisores de un número positivo. Para ello solicita que se introduzca un número mayor que cero y devuelve todos sus divisores. Ojo, si el número es 0 o negativo, lanza un mensaje que indique el número no mayor que cero. Puedes seguir este ejemplo:\n",
    "\n",
    "##### Introduce un número mayor que cero: 4\n",
    "\n",
    "##### Los divisores del número 4 son 1 2 4"
   ]
  },
  {
   "cell_type": "code",
   "execution_count": 89,
   "id": "d0641582-b065-4db7-ba5b-a8dcf3212af8",
   "metadata": {},
   "outputs": [
    {
     "name": "stdin",
     "output_type": "stream",
     "text": [
      "Ingrese un número entero mayor a cero: -10\n"
     ]
    },
    {
     "name": "stdout",
     "output_type": "stream",
     "text": [
      "Su número -10 no es mayor a cero\n"
     ]
    },
    {
     "name": "stdin",
     "output_type": "stream",
     "text": [
      "Ingrese un número entero mayor a cero: 0\n"
     ]
    },
    {
     "name": "stdout",
     "output_type": "stream",
     "text": [
      "Su número 0 no es mayor a cero\n"
     ]
    },
    {
     "name": "stdin",
     "output_type": "stream",
     "text": [
      "Ingrese un número entero mayor a cero: 18\n"
     ]
    },
    {
     "name": "stdout",
     "output_type": "stream",
     "text": [
      "Los divisores del numero 18 son: 1 2 3 6 9 18 "
     ]
    }
   ],
   "source": [
    "numero = int(input('Ingrese un número entero mayor a cero:'))\n",
    "\n",
    "while numero <= 0 :\n",
    "    print(f'Su número {numero} no es mayor a cero')\n",
    "    numero = int(input('Ingrese un número entero mayor a cero:'))\n",
    "    \n",
    "print(f'Los divisores del numero {numero} son:', end = ' ')\n",
    "for num in range(1, numero + 1) :\n",
    "    if numero % num == 0 :\n",
    "        print(num, end = ' ')\n",
    "        "
   ]
  },
  {
   "cell_type": "markdown",
   "id": "71575b9e-1af7-4227-9a68-02ef05ad84a6",
   "metadata": {},
   "source": [
    "### *Ejercicio 1.3.10.*\n",
    "\n",
    "#### Crea un programa que cuente las veces que aparece una letra determinada en una frase. Para ello, pide al usuario que introduzca una frase a través de la consola y pídele, además, que introduzca una letra. El programa devolverá una frase similar a “La letra p aparece 2 veces en la frase: Pero en qué estás pensando”. "
   ]
  },
  {
   "cell_type": "code",
   "execution_count": 111,
   "id": "ff540840-c1da-4695-a5d0-9cf6d0582ccc",
   "metadata": {},
   "outputs": [
    {
     "name": "stdin",
     "output_type": "stream",
     "text": [
      "Ingrese una frase: Yo soy Iron Man\n",
      "Ingrese una letra: z\n"
     ]
    },
    {
     "name": "stdout",
     "output_type": "stream",
     "text": [
      "La letra \"z\" aparece 0 veces en la frase: \"yo soy iron man\"\n"
     ]
    }
   ],
   "source": [
    "frase = input('Ingrese una frase:').lower()\n",
    "letra = input('Ingrese una letra:').lower()\n",
    "cantidad = 0\n",
    "\n",
    "for let in frase :\n",
    "    if let == letra:\n",
    "        cantidad += 1\n",
    "        \n",
    "print(f'La letra \"{letra}\" aparece {cantidad} veces en la frase: \"{frase}\"')\n",
    "            "
   ]
  },
  {
   "cell_type": "markdown",
   "id": "2736fb7e-be03-43d4-8752-a64ff63d355f",
   "metadata": {},
   "source": [
    "### *Ejercicio 1.3.11.*\n",
    "\n",
    "#### Crea un programa que muestre por pantalla los números que hay entre dos números dados, pero saltándose un número sí y otro no. Un ejemplo sería el siguiente:\n",
    "\n",
    "#### Introduce un número: 1 \n",
    "\n",
    "#### Introduce otro número mayor que el anterior: 10\n",
    "\n",
    "1\n",
    "\n",
    "3\n",
    "\n",
    "5\n",
    "\n",
    "7\n",
    "\n",
    "9\n",
    "\n",
    "#### Ojo, si el número introducido en segundo lugar es menor o igual que el introducido en primer lugar, el programa lanzará un mensaje de error indicando que el número no es válido por no ser mayor o igual que el anterior. "
   ]
  },
  {
   "cell_type": "code",
   "execution_count": 9,
   "id": "e1f3865c-75c0-4783-ad0f-90ec21779fd0",
   "metadata": {},
   "outputs": [
    {
     "name": "stdin",
     "output_type": "stream",
     "text": [
      "Ingrese un número entero: 11\n",
      "Ingrese un número entero mayor al anterior: -20\n"
     ]
    },
    {
     "name": "stdout",
     "output_type": "stream",
     "text": [
      "Error: El segundo numero a ingresar debe ser mayor al primero\n"
     ]
    },
    {
     "name": "stdin",
     "output_type": "stream",
     "text": [
      "Ingrese un número entero mayor a 11: 11\n"
     ]
    },
    {
     "name": "stdout",
     "output_type": "stream",
     "text": [
      "Error: El segundo numero a ingresar debe ser mayor al primero\n"
     ]
    },
    {
     "name": "stdin",
     "output_type": "stream",
     "text": [
      "Ingrese un número entero mayor a 11: 32\n"
     ]
    },
    {
     "name": "stdout",
     "output_type": "stream",
     "text": [
      "11\n",
      "13\n",
      "15\n",
      "17\n",
      "19\n",
      "21\n",
      "23\n",
      "25\n",
      "27\n",
      "29\n",
      "31\n"
     ]
    }
   ],
   "source": [
    "nro_1 = int(input('Ingrese un número entero:'))\n",
    "nro_2 = int(input('Ingrese un número entero mayor al anterior:'))\n",
    "\n",
    "while nro_1 >= nro_2:\n",
    "    print('Error: El segundo numero a ingresar debe ser mayor al primero')\n",
    "    nro_2 = int(input(f'Ingrese un número entero mayor a {nro_1}:'))\n",
    "\n",
    "for num in range(nro_1, nro_2, 2):\n",
    "    print(num)\n",
    "    "
   ]
  },
  {
   "cell_type": "markdown",
   "id": "0dfc4050-5524-4191-a5a9-b56d06f5d12e",
   "metadata": {},
   "source": [
    "### Ejercicio 1.3.12.\n",
    "\n",
    "#### Crea un programa que, al introducirle un número mayor que 2, muestre por pantalla si el número es primo o no lo es. Propón dos formas de resolver este ejercicio, una utilizando while y otra utilizando for."
   ]
  },
  {
   "cell_type": "code",
   "execution_count": 28,
   "id": "54cf55bf-fef2-4455-953f-6281b8b292b4",
   "metadata": {},
   "outputs": [
    {
     "name": "stdin",
     "output_type": "stream",
     "text": [
      "Ingresa un número mayor a 2: 17\n"
     ]
    },
    {
     "name": "stdout",
     "output_type": "stream",
     "text": [
      "El número ingresado 17 es primo porque tiene 2 divisores\n"
     ]
    }
   ],
   "source": [
    "num = 1\n",
    "cantidad_divisores = 0\n",
    "nro_ingresado = int(input('Ingresa un número mayor a 2:'))\n",
    "\n",
    "# Usando while:\n",
    "# while nro_ingresado <= 2:\n",
    "#     nro_ingresado = int(input('Error: el número debe ser mayor a 2. Ingresa un número mayor a 2:'))\n",
    "\n",
    "# while nro_ingresado >= num:\n",
    "#     if nro_ingresado % num == 0:\n",
    "#         cantidad_divisores += 1\n",
    "#     num += 1 \n",
    "\n",
    "# if cantidad_divisores <= 2:\n",
    "#     print(f'El número ingresado {nro_ingresado} es primo porque tiene {cantidad_divisores} divisores')\n",
    "# else:\n",
    "#     print(f'El número ingresado no es primo, ya que tiene {cantidad_divisores} divisores')\n",
    "    \n",
    "# Usando for\n",
    "for numero in range(num, nro_ingresado + 1):\n",
    "    if nro_ingresado % numero == 0:\n",
    "        cantidad_divisores += 1\n",
    "    num += 1 \n",
    "\n",
    "if cantidad_divisores <= 2:\n",
    "    print(f'El número ingresado {nro_ingresado} es primo porque tiene {cantidad_divisores} divisores')\n",
    "else:\n",
    "    print(f'El número ingresado no es primo, ya que tiene {cantidad_divisores} divisores')"
   ]
  },
  {
   "cell_type": "markdown",
   "id": "5209079a-efc2-4a0e-9d42-6dad84461b99",
   "metadata": {},
   "source": [
    "### Ejercicio 1.4.7.\n",
    "\n",
    "#### Crea un programa que solo tenga tres líneas de código, una para pedir al usuario que escriba un valor, otra para pedir al usuario que escriba otro valor, y una última para sacar por pantalla la frase “El mayor valor es: x” (donde x será el mayor de los dos valores que el usuario ha introducido). "
   ]
  },
  {
   "cell_type": "code",
   "execution_count": 29,
   "id": "148a7e24-dcee-47a4-bf8e-3015ebda433d",
   "metadata": {},
   "outputs": [
    {
     "name": "stdin",
     "output_type": "stream",
     "text": [
      "Introduce un valor numérico: 14.05\n",
      "Introduce otro valor numérico: 13.99\n"
     ]
    },
    {
     "name": "stdout",
     "output_type": "stream",
     "text": [
      "El mayor valor es: 14.05\n"
     ]
    }
   ],
   "source": [
    "nro_1 = float(input('Introduce un valor numérico:'))\n",
    "nro_2 = float(input('Introduce otro valor numérico:'))\n",
    "print('El mayor valor es:', max(nro_1,nro_2))"
   ]
  },
  {
   "cell_type": "markdown",
   "id": "f9147f46-be62-4606-94d9-3b50ee037b1f",
   "metadata": {},
   "source": [
    "### Ejercicio 1.4.8.\n",
    "\n",
    "#### Crea un programa que solicite dos números al usuario, x e y. Mientras el valor de x más 1, por 2, sea mayor que el valor de y, muestra por pantalla “El valor z es mayor que el valor y”, donde “z” será el valor de realizar la operación anterior e “y” el valor introducido en segundo lugar por el usuario. Después, suma uno a “y” y resta 1 a “z”. \n",
    "\n",
    "#### Cuando no se cumpla la condición se mostrará en pantalla “z es menor que y”, donde “z” e “y” se sustituirán por sus valores correspondientes en ese momento. "
   ]
  },
  {
   "cell_type": "code",
   "execution_count": 33,
   "id": "7335372e-45fb-43cd-95e4-e14e820f864a",
   "metadata": {},
   "outputs": [
    {
     "name": "stdin",
     "output_type": "stream",
     "text": [
      "Ingresa un número: 6\n",
      "Ingresa otro número: 4\n"
     ]
    },
    {
     "name": "stdout",
     "output_type": "stream",
     "text": [
      "El valor de 14 es mayor que el valor de 4\n",
      "El valor de 13 es mayor que el valor de 5\n",
      "El valor de 12 es mayor que el valor de 6\n",
      "El valor de 11 es mayor que el valor de 7\n",
      "El valor de 10 es mayor que el valor de 8\n",
      "9 es menor o igual que 9\n"
     ]
    }
   ],
   "source": [
    "x = int(input('Ingresa un número:'))\n",
    "y = int(input('Ingresa otro número:'))\n",
    "z = (x + 1) * 2\n",
    "\n",
    "while z > y :\n",
    "    print(f'El valor de {z} es mayor que el valor de {y}')\n",
    "    y += 1\n",
    "    z -= 1\n",
    "\n",
    "print(f'{z} es menor o igual que {y}')  \n"
   ]
  },
  {
   "cell_type": "markdown",
   "id": "7777aa6c-f0a4-433c-826b-e3a5c568dc46",
   "metadata": {},
   "source": [
    "### Ejercicio 1.4.9.\n",
    "\n",
    "#### Crea un programa que solicite dos números al usuario por pantalla, a y b, siendo ambos distintos de 0, y que muestre por pantalla la frase “Se cumple la condición solicitada para a y b (siendo a y b sustituidos por su valor correspondiente)”. Después, duplica el valor de a y b mientras se cumpla que el resultado de sumar tres más seis y multiplicarlo por dos sea mayor que el número “a” introducido por el usuario y, además, que ese número “a” sea también mayor que el resultado de dividir la suma de veinte más diez dividido entre el número “b” introducido por el usuario. \n",
    "\n",
    "#### Cuando no se cumpla la condición el programa mostrará el mensaje “No se cumple la condición solicitada para a y b (siendo a y b sustituidos por su valor correspondiente)”. Ojo, si alguno de los valores introducidos por el usuario es 0 deberá mostrarse un mensaje que diga “Ninguno de los números puede ser 0. "
   ]
  },
  {
   "cell_type": "code",
   "execution_count": 37,
   "id": "c1c5cf47-907d-463f-9d94-e855b808b4fd",
   "metadata": {},
   "outputs": [
    {
     "name": "stdin",
     "output_type": "stream",
     "text": [
      "Ingrese un número entero distinto de cero: 0\n",
      "Ingrese otro número entero distinto de cero: 0\n"
     ]
    },
    {
     "name": "stdout",
     "output_type": "stream",
     "text": [
      "Ninguno de los números puede ser 0\n"
     ]
    },
    {
     "name": "stdin",
     "output_type": "stream",
     "text": [
      "Ingrese un número entero distinto de cero: 3\n",
      "Ingrese otro número entero distinto de cero: 4\n"
     ]
    },
    {
     "name": "stdout",
     "output_type": "stream",
     "text": [
      "Se cumple la condición solicitada para 3 y 4\n"
     ]
    }
   ],
   "source": [
    "a = int(input('Ingrese un número entero distinto de cero:'))\n",
    "b = int(input('Ingrese otro número entero distinto de cero:'))\n",
    "\n",
    "while a == 0 or b == 0 :\n",
    "    print('Ninguno de los números puede ser 0')\n",
    "    a = int(input('Ingrese un número entero distinto de cero:'))\n",
    "    b = int(input('Ingrese otro número entero distinto de cero:'))\n",
    "    \n",
    "print(f'Se cumple la condición solicitada para {a} y {b}')\n",
    "\n",
    "condicion = (3+6)*2 > a and a > (20+10)/b\n",
    "while condicion:\n",
    "    a *= 2\n",
    "    b *= 2\n",
    "    "
   ]
  },
  {
   "cell_type": "markdown",
   "id": "8a623683-ff7c-46f1-be60-6341528bf61d",
   "metadata": {},
   "source": [
    "### *Ejercicio 1.4.10*"
   ]
  },
  {
   "cell_type": "code",
   "execution_count": null,
   "id": "fc4852d0-3f87-4211-8ff2-2d98dbb2c634",
   "metadata": {},
   "outputs": [],
   "source": []
  },
  {
   "cell_type": "markdown",
   "id": "ca8ad64f-18e1-4e71-a820-410412712491",
   "metadata": {},
   "source": [
    "### Ejercicio 1.4.11.\n",
    "\n",
    "#### Crea un programa que le solicite al usuario dos números, a y b y que, si el resultado de realizar la operación (3+5*8)<3 and ((-6*4/3)+2<2) or a+2>b, es verdadero, imprima por pantalla los números del 0 al 9, mientras que si el resultado es falso, imprima las letras a, b, c, d y e.  \n",
    "\n",
    "#### Ejecuta el código con distintos valores para a y b"
   ]
  },
  {
   "cell_type": "code",
   "execution_count": 2,
   "id": "0d24ddf6-2036-4eb4-8cc7-cecdcb0b9e7f",
   "metadata": {},
   "outputs": [
    {
     "name": "stdin",
     "output_type": "stream",
     "text": [
      "Ingrese un número entero: 1\n",
      "Ingrese otro número entero: 10\n"
     ]
    },
    {
     "name": "stdout",
     "output_type": "stream",
     "text": [
      "a b c d e\n"
     ]
    }
   ],
   "source": [
    "a = int(input('Ingrese un número entero:'))\n",
    "b = int(input('Ingrese otro número entero:'))\n",
    "\n",
    "condicion = (3+5*8)<3 and ((-6*4/3)+2<2) or a+2>b\n",
    "\n",
    "if condicion:\n",
    "    for num in range(10):\n",
    "        print(num, end =' ')\n",
    "else:\n",
    "    print('a', 'b', 'c', 'd', 'e')\n",
    "    "
   ]
  }
 ],
 "metadata": {
  "kernelspec": {
   "display_name": "Python 3 (ipykernel)",
   "language": "python",
   "name": "python3"
  },
  "language_info": {
   "codemirror_mode": {
    "name": "ipython",
    "version": 3
   },
   "file_extension": ".py",
   "mimetype": "text/x-python",
   "name": "python",
   "nbconvert_exporter": "python",
   "pygments_lexer": "ipython3",
   "version": "3.9.13"
  }
 },
 "nbformat": 4,
 "nbformat_minor": 5
}
