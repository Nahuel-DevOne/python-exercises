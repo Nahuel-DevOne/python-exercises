{
 "cells": [
  {
   "cell_type": "markdown",
   "id": "8854142b-d7dc-4689-820f-8512efe4752b",
   "metadata": {},
   "source": [
    "# **`Ejercicios 1`**"
   ]
  },
  {
   "cell_type": "markdown",
   "id": "b8e6f222-c37b-42c9-85ba-605693f274e7",
   "metadata": {},
   "source": [
    "### *Ejercicio 1.1.1.*\n",
    "\n",
    "#### Escribe en tu editor de código la frase “Estoy empezando este curso” y haz que aparezca en pantalla. Haz una captura de pantalla y compártela con tus compañeros en el foro dentro este hilo.\n"
   ]
  },
  {
   "cell_type": "code",
   "execution_count": 2,
   "id": "091954a7-e26a-4a78-8ff8-44fc6c4ad871",
   "metadata": {},
   "outputs": [
    {
     "name": "stdout",
     "output_type": "stream",
     "text": [
      "Estoy empezando este curso\n"
     ]
    }
   ],
   "source": [
    "frase = 'Estoy empezando este curso'\n",
    "print(frase)"
   ]
  },
  {
   "cell_type": "markdown",
   "id": "dd5c7e44-cc51-497e-a6c0-44e95e963b30",
   "metadata": {},
   "source": [
    "### Ejercicio 1.1.2 \n",
    "#### Pirámides de números"
   ]
  },
  {
   "cell_type": "code",
   "execution_count": 42,
   "id": "9938b080-2eef-4335-b40d-73df3961e2c1",
   "metadata": {},
   "outputs": [
    {
     "name": "stdout",
     "output_type": "stream",
     "text": [
      "0\n",
      "\n",
      "1 2\n",
      "\n",
      "3 4 5\n",
      "\n",
      "6 7 8 9\n",
      "\n",
      "Lo mismo usando un ciclo for\n",
      "\n",
      "0 \n",
      "\n",
      "1 2 \n",
      "\n",
      "3 4 5 \n",
      "\n",
      "6 7 8 9 \n",
      "\n"
     ]
    }
   ],
   "source": [
    "print(\"0\")\n",
    "print()\n",
    "print(\"1 2\")\n",
    "print()\n",
    "print(\"3 4 5\")\n",
    "print()\n",
    "print(\"6 7 8 9\")\n",
    "\n",
    "print()\n",
    "print('Lo mismo usando un ciclo for')\n",
    "print()\n",
    "rows = 4 # número de filas en la pirámide\n",
    "num = 0  # se inicializa en 0, y luego permite seguir el valor del número en cada iteración\n",
    "\n",
    "for i in range(rows):  # 1. genera cuatro filas\n",
    "    for j in range(i+1):  # 2. genera la cantidad de números en cada fila (1, 2, 3, 4)\n",
    "        print(num, end=\" \") # imprime el número con un espacio al final\n",
    "        num += 1 # acumula el valor del número y le va sumando 1 en cada iteración\n",
    "    print()  # genera un salto de línea después de imprimir cada fila\n",
    "    print()  # genera otro salto de línea para darle el espacio entre fila y fila"
   ]
  },
  {
   "cell_type": "code",
   "execution_count": 45,
   "id": "0a69e70c-d312-4a2a-aef2-fc7f1629c090",
   "metadata": {},
   "outputs": [
    {
     "name": "stdout",
     "output_type": "stream",
     "text": [
      "Usando solo print y espacios\n",
      "      0\n",
      "\n",
      "    1 2\n",
      "\n",
      "  3 4 5\n",
      "\n",
      "6 7 8 9\n"
     ]
    }
   ],
   "source": [
    "print('Usando solo print y espacios')\n",
    "print(\"      0\")\n",
    "print()\n",
    "print(\"    1 2\")\n",
    "print()\n",
    "print(\"  3 4 5\")\n",
    "print()\n",
    "print(\"6 7 8 9\")"
   ]
  },
  {
   "cell_type": "code",
   "execution_count": 46,
   "id": "32fafe00-1210-41ee-a012-7a61e810f24e",
   "metadata": {},
   "outputs": [
    {
     "name": "stdout",
     "output_type": "stream",
     "text": [
      "Usando un ciclo for\n",
      "    0 \n",
      "\n",
      "   1 2 \n",
      "\n",
      "  3 4 5 \n",
      "\n",
      " 6 7 8 9 \n",
      "\n"
     ]
    }
   ],
   "source": [
    "print('Usando un ciclo for')\n",
    "rows = 4\n",
    "num = 0\n",
    "\n",
    "for i in range(rows):\n",
    "    print(\" \"*(rows-i), end=\"\")\n",
    "    for j in range(i+1):\n",
    "        print(num, end=\" \")\n",
    "        num += 1\n",
    "    print()\n",
    "    print()"
   ]
  },
  {
   "cell_type": "markdown",
   "id": "2f4666ff-3e74-474b-9c0d-30a5bc7fa5cc",
   "metadata": {},
   "source": [
    "### Ejercicio 1.1.3 \n",
    "#### PDA"
   ]
  },
  {
   "cell_type": "code",
   "execution_count": 59,
   "id": "c7cdffa6-6fae-4f51-8ebc-b8e171ee33fb",
   "metadata": {},
   "outputs": [
    {
     "name": "stdout",
     "output_type": "stream",
     "text": [
      "PPPPPP DDD A \n",
      "P P D D A A \n",
      "P P D D A A\n",
      "PPPPP D D AAAAA\n",
      "P D D A A\n",
      "P D D A A\n",
      "P DDD A A\n",
      "\n",
      "\n",
      "PPPPPP  DDD      A  \n",
      "P    P  D  D    A A  \n",
      "P    P  D   D  A   A\n",
      "PPPPP   D   D  AAAAA\n",
      "P       D   D  A   A\n",
      "P       D   D  A   A\n",
      "P       DDD    A   A\n"
     ]
    }
   ],
   "source": [
    "print('PPPPPP DDD A ')\n",
    "print('P P D D A A ')\n",
    "print('P P D D A A')\n",
    "print('PPPPP D D AAAAA')\n",
    "print('P D D A A')\n",
    "print('P D D A A')\n",
    "print('P DDD A A')\n",
    "print()\n",
    "print()\n",
    "print('PPPPPP  DDD      A  ')\n",
    "print('P    P  D  D    A A  ')\n",
    "print('P    P  D   D  A   A')\n",
    "print('PPPPP   D   D  AAAAA')\n",
    "print('P       D   D  A   A')\n",
    "print('P       D   D  A   A')\n",
    "print('P       DDD    A   A')\n"
   ]
  },
  {
   "cell_type": "markdown",
   "id": "89e1e1c8-34d6-4813-ac59-be9427cf671c",
   "metadata": {},
   "source": [
    "### Ejercicio 1.1.4\n",
    "#### Creando la variable calificacion e imprimiéndola por pantalla"
   ]
  },
  {
   "cell_type": "code",
   "execution_count": 5,
   "id": "8dea4837-89cd-4985-ad25-a8fd6e038db2",
   "metadata": {},
   "outputs": [
    {
     "name": "stdout",
     "output_type": "stream",
     "text": [
      "8.5\n"
     ]
    }
   ],
   "source": [
    "calificacion = 8.5\n",
    "print(calificacion)"
   ]
  },
  {
   "cell_type": "markdown",
   "id": "116cfa18-5400-4022-b15c-8bc7f27fb6c5",
   "metadata": {},
   "source": [
    "### Ejercicio 1.1.5.\n",
    "\n",
    "#### Crea un programa que te pregunta tu nombre en la consola, por ejemplo, con el mensaje “Introduce tu nombre”, y que te devuelva en pantalla tu nombre y la nota de la variable calificación del ejercicio anterior con este formato “nombre: calificación”.\n",
    "\n",
    "#### Lo que se vería si introduces, por ejemplo, el nombre Juan, es lo siguiente:\n",
    "\n",
    "##### Introduce tu nombre: Juan\n",
    "##### Juan: 8.5"
   ]
  },
  {
   "cell_type": "code",
   "execution_count": 7,
   "id": "917d7121-4d01-44b9-9f4f-3f3e24f7c1f3",
   "metadata": {},
   "outputs": [
    {
     "name": "stdin",
     "output_type": "stream",
     "text": [
      "Introduce tu nombre: Nahuel\n"
     ]
    },
    {
     "name": "stdout",
     "output_type": "stream",
     "text": [
      "Nahuel: 8.5\n"
     ]
    }
   ],
   "source": [
    "calificacion = 8.5\n",
    "nombre = input('Introduce tu nombre:')\n",
    "print(f'{nombre}: {calificacion}')\n"
   ]
  },
  {
   "cell_type": "markdown",
   "id": "a8b4d0d7-cc09-498d-9760-c6d14f4e1fe7",
   "metadata": {},
   "source": [
    "### Ejercicio 1.1.7.\n",
    "\n",
    "#### Crea un programa que te pida que introduzcas un número entero, y almacena ese número en una variable; después que te pida que introduzcas un número decimal, y almacénalo en otra variable; en una tercera variable guarda la suma de esos dos números y muestra el resultado de la suma en pantalla; ahora, el programa te pedirá que introduzcas otro número entero, que guardarás en otra variable; guarda en una última variable el valor de multiplicar la suma anterior por el nuevo número entero y muestra en pantalla el resultado. En pantalla verás algo como esto:\n",
    "\n",
    "#### Introduce un número entero:\n",
    "\n",
    "#### Introduce un número decimal:\n",
    "\n",
    "#### El resultado de la suma es\n",
    "\n",
    "#### Introduce otro número entero:\n",
    "\n",
    "#### La multiplicación de la suma por el entero es "
   ]
  },
  {
   "cell_type": "code",
   "execution_count": 14,
   "id": "98c861ac-1862-40bc-b6d2-943582968bb2",
   "metadata": {},
   "outputs": [
    {
     "name": "stdin",
     "output_type": "stream",
     "text": [
      "Introduce un número entero: 10\n",
      "Introduce un número decimal: 2.5\n"
     ]
    },
    {
     "name": "stdout",
     "output_type": "stream",
     "text": [
      "El resultado de la suma es: 12.5\n"
     ]
    },
    {
     "name": "stdin",
     "output_type": "stream",
     "text": [
      "Introduce otro número entero: -3\n"
     ]
    },
    {
     "name": "stdout",
     "output_type": "stream",
     "text": [
      "La multiplicación de la suma por el entero es: -37.5\n"
     ]
    }
   ],
   "source": [
    "num_entero_1 = int(input('Introduce un número entero:'))\n",
    "num_decimal = float(input('Introduce un número decimal:'))\n",
    "suma_entero_decimal = num_entero_1 + num_decimal\n",
    "print(f'El resultado de la suma es: {suma_entero_decimal}')\n",
    "num_entero_2 = int(input('Introduce otro número entero:'))\n",
    "producto = num_entero_2 * suma_entero_decimal\n",
    "print(f'La multiplicación de la suma por el entero es: {producto}')\n"
   ]
  },
  {
   "cell_type": "code",
   "execution_count": 10,
   "id": "532b5644-eaa0-4ce9-b3a6-c328b3df1990",
   "metadata": {},
   "outputs": [
    {
     "name": "stdout",
     "output_type": "stream",
     "text": [
      "3\n",
      "<class 'int'>\n",
      "16\n",
      "18\n"
     ]
    }
   ],
   "source": [
    "valor1= 5-2\n",
    "print(valor1)\n",
    "print(type(valor1))\n",
    "\n",
    "Y = 14 + 2\n",
    "14 - 2\n",
    "\n",
    "print(Y)\n",
    "\n",
    "Z = 18\n",
    "Z + 2\n",
    "print(Z)"
   ]
  },
  {
   "cell_type": "markdown",
   "id": "43b2a047-4a14-4467-b08c-a765b96aa43b",
   "metadata": {},
   "source": [
    "### Ejercicio 1.1.12.\n",
    "\n",
    "- #### Crea un programa que resuelva una ecuación cuadrática de la forma ax2+bx+c = 0. Para ello utiliza la fórmula x=(−b±√b2−4ac)/2a.\n",
    "- #### Ten en cuenta que esta fórmula te va a ofrecer dos soluciones diferentes, una solución para la opción de la suma en el numerando (-b+√(b2-4ac)) y otra solución para la opción de resta en el numerando (-b-√(b2-4ac)).\n",
    "- #### Primero, solicita que se introduzca en la consola un valor para el coeficiente a, luego solicita que se introduzca un valor para el coeficiente b y otro valor para el coeficiente c. Después calcula los dos resultados y muéstralos por pantalla. Un ejemplo de cómo se vería sería:\n",
    "\n",
    "Introduce el valor de a:\n",
    "\n",
    "Introduce el valor de b:\n",
    "\n",
    "Introduce el valor de c:\n",
    "\n",
    "El valor de la primera raíz es\n",
    "\n",
    "El valor de la segunda raíz es"
   ]
  },
  {
   "cell_type": "code",
   "execution_count": 21,
   "id": "0608924f-dee8-4aee-8e8f-5001be8774da",
   "metadata": {},
   "outputs": [
    {
     "name": "stdin",
     "output_type": "stream",
     "text": [
      "Introduce el valor de a: -1\n",
      "Introduce el valor de b: 0\n",
      "Introduce el valor de c: 9\n"
     ]
    },
    {
     "name": "stdout",
     "output_type": "stream",
     "text": [
      "El valor de la primera raíz es: -3.000\n",
      "El valor de la segunda raíz es: 3.000\n"
     ]
    }
   ],
   "source": [
    "a = float(input('Introduce el valor de a:'))\n",
    "b = float(input('Introduce el valor de b:'))\n",
    "c = float(input('Introduce el valor de c:'))\n",
    "\n",
    "x_1 = (-b + (b**2 - 4*a*c)**(1/2)) / (2*a)\n",
    "x_2 = (-b - (b**2 - 4*a*c)**(1/2)) / (2*a)\n",
    "\n",
    "print(f'El valor de la primera raíz es: {x_1:.3f}')\n",
    "print(f'El valor de la segunda raíz es: {x_2:.3f}')\n",
    "       "
   ]
  },
  {
   "cell_type": "markdown",
   "id": "32af123b-132d-4f5e-a934-1adc15f4d687",
   "metadata": {},
   "source": [
    "### Ejercicio 1.1.13.\n",
    "\n",
    "#### Crea un programa que calcule el índice de masa corporal, teniendo en cuenta que la fórmula que tenéis que usar para calcularlo es el peso en kilogramos dividido entre el cuadrado de la estatura en metros (peso/(estatura)2). Para ello deberéis preguntar en la consola por el peso, en kilogramos, por la estatura, en metros, y devolveréis el resultado precedido por la frase “Tu índice de masa corporal es:  “."
   ]
  },
  {
   "cell_type": "code",
   "execution_count": 25,
   "id": "bd632f29-082e-40c0-a0b4-02f0d9bc9e0f",
   "metadata": {},
   "outputs": [
    {
     "name": "stdin",
     "output_type": "stream",
     "text": [
      "Introduce tu peso en kilogramos: 101\n",
      "Introduce tu altura en metros: 1.9\n"
     ]
    },
    {
     "name": "stdout",
     "output_type": "stream",
     "text": [
      "Tu índice de masa corporal es: 28.0\n"
     ]
    }
   ],
   "source": [
    "peso = float(input('Introduce tu peso en kilogramos:'))\n",
    "estatura = float(input('Introduce tu altura en metros:'))\n",
    "\n",
    "imc = peso / (estatura ** 2)\n",
    "\n",
    "print(f'Tu índice de masa corporal es: {imc:.1f}')\n"
   ]
  },
  {
   "cell_type": "markdown",
   "id": "73c3c692-697f-4eaa-ae22-cfacb200bbaa",
   "metadata": {},
   "source": [
    "### Ejercicio 1.1.14.\n",
    "\n",
    "#### Crea un programa que calcule cuál será el saldo de tu plan de pensiones durante los dos próximos años, si los intereses que te va a generar son de un 3% anual. Para ello solicita el saldo de la cuenta, que se introducirá a través de la consola, y devuelve el saldo después del primer año y el saldo después del segundo año."
   ]
  },
  {
   "cell_type": "code",
   "execution_count": 29,
   "id": "36afd1e4-d0b4-48e5-8112-c6e43cd8e5bd",
   "metadata": {},
   "outputs": [
    {
     "name": "stdin",
     "output_type": "stream",
     "text": [
      "Introduce el saldo de la cuenta, de tu plan de pensiones: 1000000\n"
     ]
    },
    {
     "name": "stdout",
     "output_type": "stream",
     "text": [
      "Tu saldo después del primer año será: 1030000.0\n",
      "Tu saldo después del segundo año será: 1060900.0\n"
     ]
    }
   ],
   "source": [
    "saldo_cuenta = float(input('Introduce el saldo de la cuenta, de tu plan de pensiones:'))\n",
    "saldo_cuenta_1 = saldo_cuenta * 1.03\n",
    "saldo_cuenta_2 = saldo_cuenta_1 * 1.03\n",
    "\n",
    "print(f'Tu saldo después del primer año será: {saldo_cuenta_1}')\n",
    "print(f'Tu saldo después del segundo año será: {saldo_cuenta_2}')"
   ]
  },
  {
   "cell_type": "markdown",
   "id": "8a6c7ec6-bbd0-4c0e-9422-9975d189afbc",
   "metadata": {},
   "source": [
    "### Ejercicio 1.1.15\n",
    "\n",
    "#### Vas a viajar a Londres y tienes algunos dólares americanos y algunos euros, pero no tienes libras. Crea un programa en el que introduzcas por la consola cuántos dólares tienes y cuántos euros tienes y te calcule a cuántas libras equivalen. En pantalla se vería algo como esto:\n",
    "\n",
    "#### ¿Cuántos dólares tienes?\n",
    "#### ¿Cuántos euros tienes?\n",
    "#### Entonces tienes (xxxx) libras.\n",
    "##### Puedes usar el tipo de cambio 1 dólar americano = 0,83 libras y 1 euro = 0,88 libras.Puedes usar el tipo de cambio 1 dólar americano = 0,83 libras y 1 euro = 0,88 libras."
   ]
  },
  {
   "cell_type": "code",
   "execution_count": 31,
   "id": "95c7bc30-854a-442a-9e4f-be863f1570ae",
   "metadata": {},
   "outputs": [
    {
     "name": "stdin",
     "output_type": "stream",
     "text": [
      "¿Cuántos dólares tienes? 100\n",
      "¿Cuántos euros tienes? 100\n"
     ]
    },
    {
     "name": "stdout",
     "output_type": "stream",
     "text": [
      "Entonces tienes 171.0 libras.\n"
     ]
    }
   ],
   "source": [
    "dolares = float(input('¿Cuántos dólares tienes?'))\n",
    "euros = float(input('¿Cuántos euros tienes?'))\n",
    "cambio_dolar = 0.83\n",
    "cambio_euro = 0.88\n",
    "\n",
    "libras = dolares * cambio_dolar + euros * cambio_euro\n",
    "\n",
    "print(f'Entonces tienes {libras} libras.')\n"
   ]
  },
  {
   "cell_type": "markdown",
   "id": "232e6d4e-3472-4894-b9d3-efbadcf49783",
   "metadata": {},
   "source": [
    "### Ejercicio 1.1.16"
   ]
  },
  {
   "cell_type": "code",
   "execution_count": 3,
   "id": "d54aed42-bfa1-4fb9-83d4-8497caa857ce",
   "metadata": {},
   "outputs": [
    {
     "name": "stdout",
     "output_type": "stream",
     "text": [
      "Python\n"
     ]
    }
   ],
   "source": [
    "texto = 'Python Data Analyst'\n",
    "\n",
    "Resultado = texto[0:6]\n",
    "\n",
    "print(Resultado)"
   ]
  },
  {
   "cell_type": "markdown",
   "id": "e7710a61-ef7c-4fe0-834b-9d3354b03401",
   "metadata": {},
   "source": [
    "### Ejercicio 1.1.17.\n",
    "\n",
    "#### Crea un programa que solicite introducir una palabra en la consola y que calcule el número de letras que tiene esa palabra. Devuelve por pantalla la palabra y el número de letras que la componen tal y como se muestra en el siguiente ejemplo:\n",
    "\n",
    "#### Introduce una palabra: casa\n",
    "\n",
    "#### casa tiene 4 letras"
   ]
  },
  {
   "cell_type": "code",
   "execution_count": 5,
   "id": "3782296d-596e-47b1-b309-212ca89cabf8",
   "metadata": {},
   "outputs": [
    {
     "name": "stdin",
     "output_type": "stream",
     "text": [
      "Introduce una palabra: casa\n"
     ]
    },
    {
     "name": "stdout",
     "output_type": "stream",
     "text": [
      "casa tiene 4 letras\n"
     ]
    }
   ],
   "source": [
    "palabra = input('Introduce una palabra:')\n",
    "cantidad_letras = len(palabra)\n",
    "\n",
    "print(f'{palabra} tiene {cantidad_letras} letras')\n"
   ]
  },
  {
   "cell_type": "markdown",
   "id": "cc648bf7-00aa-48cb-9f5e-4a2bd454d8d8",
   "metadata": {},
   "source": [
    "### Ejercicio 1.2.1\n",
    "\n",
    "#### Imagina que creas un programa equivalente a lanzar una moneda al aire para obtener cara o cruz. Teniendo en cuenta que la siguiente declaración de una variable Numero = random.randint (0, 1), va a proporcionar a esta el valor 0 o el valor 1 de forma aleatoria, es decir, algunas veces Numero será igual a 0 y otras Numero será igual 1, y que el 0 es igual a obtener cara y 1 es igual a obtener cruz al tirar la moneda, si ejecutas el siguiente fragmento de código:"
   ]
  },
  {
   "cell_type": "code",
   "execution_count": 35,
   "id": "a9de1e01-3660-4f9c-9013-68fbb6dcdc91",
   "metadata": {},
   "outputs": [
    {
     "name": "stdout",
     "output_type": "stream",
     "text": [
      "Cara\n"
     ]
    }
   ],
   "source": [
    "import random \n",
    "\n",
    "Numero = random.randint(0, 1) \n",
    "\n",
    "if Numero > 0.5: \n",
    "\n",
    "    print('Cara') \n",
    "\n",
    "else: \n",
    "\n",
    "    print('Cruz') "
   ]
  },
  {
   "cell_type": "markdown",
   "id": "e062f486-4ce8-445f-8df1-5df7cfad4780",
   "metadata": {},
   "source": [
    "### Ejercicio 1.2.2.\n",
    "\n",
    "#### Crea un programa que le pregunte a un usuario a través de la consola cuál es su edad y que devuelva la frase “Eres menor de edad” o “Eres mayor de edad”, según corresponda."
   ]
  },
  {
   "cell_type": "code",
   "execution_count": 42,
   "id": "61389dd7-4015-45c7-a6fe-115d6d0eb23d",
   "metadata": {},
   "outputs": [
    {
     "name": "stdin",
     "output_type": "stream",
     "text": [
      "¿Cuál es tu edad? 18\n"
     ]
    },
    {
     "name": "stdout",
     "output_type": "stream",
     "text": [
      "Eres mayor de edad\n"
     ]
    }
   ],
   "source": [
    "edad = int(input('¿Cuál es tu edad?'))\n",
    "es_mayor = edad >= 18 and edad <= 120\n",
    "es_menor = edad < 18 and edad > 0\n",
    "\n",
    "if(es_mayor):\n",
    "    print('Eres mayor de edad')\n",
    "elif(es_menor):\n",
    "    print('Eres menor de edad')\n",
    "else:\n",
    "    print('Edad no válida, el rango de edad debe estar 1 y 120 años.')\n",
    "    "
   ]
  },
  {
   "cell_type": "markdown",
   "id": "c78b5c3f-9d2a-44ee-a60f-8800b1a5d6ba",
   "metadata": {},
   "source": [
    "### Ejercicio 1.2.3.\n",
    "\n",
    "#### Crea un programa que solicite al usuario un número entero y devuelva la frase “Este número es par” si el número introducido es par, y “Este número es impar” si el número introducido es impar"
   ]
  },
  {
   "cell_type": "code",
   "execution_count": 47,
   "id": "b6dfcf4f-c873-4fd3-90cd-dd5dc51e314f",
   "metadata": {},
   "outputs": [
    {
     "name": "stdin",
     "output_type": "stream",
     "text": [
      "Introduce un número entero: 31\n"
     ]
    },
    {
     "name": "stdout",
     "output_type": "stream",
     "text": [
      "Este número es impar\n"
     ]
    }
   ],
   "source": [
    "numero = int(input('Introduce un número entero:'))\n",
    "es_par = numero % 2 == 0\n",
    "\n",
    "if es_par:\n",
    "    print('Este número es par')\n",
    "else:\n",
    "    print('Este número es impar')"
   ]
  },
  {
   "cell_type": "markdown",
   "id": "2ef1d875-f2fe-44f9-81b4-141d3f4915d8",
   "metadata": {},
   "source": [
    "### Ejercicio 1.2.4.\n",
    "\n",
    "#### Crea un programa que solicite por pantalla dos números enteros, el numerador y el denominador de una división, y que devuelva el resultado de realizar la división. OJO, ten en cuenta que si el denominador es 0 la división no se puede realizar."
   ]
  },
  {
   "cell_type": "code",
   "execution_count": 53,
   "id": "45c1ffa6-d9d1-4eb7-8660-e679e9e7d616",
   "metadata": {},
   "outputs": [
    {
     "name": "stdin",
     "output_type": "stream",
     "text": [
      "Introduce un número entero: 30\n",
      "Introduce un número entero DISTINTO DE CERO: 2\n"
     ]
    },
    {
     "name": "stdout",
     "output_type": "stream",
     "text": [
      "El resultado de la división entre 30 y 2 es: 15.0\n"
     ]
    }
   ],
   "source": [
    "numerador = int(input('Introduce un número entero:'))\n",
    "denominador = int(input('Introduce un número entero DISTINTO DE CERO:'))\n",
    "\n",
    "if denominador == 0:\n",
    "    print('No existe la división por cero')\n",
    "else:\n",
    "    cociente = numerador / denominador\n",
    "    print(f'El resultado de la división entre {numerador} y {denominador} es: {cociente}')\n",
    "        "
   ]
  },
  {
   "cell_type": "markdown",
   "id": "1074f1b8-d31e-43c2-b7af-6bf6bde911ba",
   "metadata": {},
   "source": [
    "### Ejercicio 1.2.5\n",
    "\n",
    "#### Crea un programa que solicite al usuario un número y devuelva el valor absoluto de ese número. Ten en cuenta que el valor absoluto de un número positivo es el mismo número, y el valor absoluto de un número negativo es ese mismo número en positivo."
   ]
  },
  {
   "cell_type": "code",
   "execution_count": 56,
   "id": "48e5f7aa-3683-4498-80c9-775968cf0d4f",
   "metadata": {},
   "outputs": [
    {
     "name": "stdin",
     "output_type": "stream",
     "text": [
      "Introduce un número: -10\n"
     ]
    },
    {
     "name": "stdout",
     "output_type": "stream",
     "text": [
      "El valor absoluto de -10.0 es: 10.0\n"
     ]
    }
   ],
   "source": [
    "valor = float(input('Introduce un número:'))\n",
    "valor_absoluto = abs(valor)\n",
    "\n",
    "print(f'El valor absoluto de {valor} es: {valor_absoluto}')\n"
   ]
  },
  {
   "cell_type": "markdown",
   "id": "a867b870-af79-44b4-a530-e18680e99b62",
   "metadata": {},
   "source": [
    "### Ejercicio 1.2.6.\n",
    "\n",
    "#### Si en el ejercicio anterior has utilizado las cláusulas if y else, reescribe el programa solo utilizando la cláusula if. Si en el ejercicio anterior has utilizado solo la cláusula if, reescríbelo utilizando las cláusulas if y else"
   ]
  },
  {
   "cell_type": "code",
   "execution_count": 6,
   "id": "57b965ae-5abc-42a2-b4d1-03015f4457b5",
   "metadata": {},
   "outputs": [
    {
     "name": "stdin",
     "output_type": "stream",
     "text": [
      "Introduce un número -10\n"
     ]
    },
    {
     "name": "stdout",
     "output_type": "stream",
     "text": [
      "El valor absoluto de -10.0 es: 10.0\n"
     ]
    }
   ],
   "source": [
    "valor = float(input('Introduce un número'))\n",
    "valor_negativo = valor < 0\n",
    "\n",
    "if valor_negativo:\n",
    "    valor *= -1\n",
    "    print(f'El valor absoluto de -{valor} es: {valor}')\n",
    "else:\n",
    "    print(f'El valor absoluto de {valor} es: {valor}')"
   ]
  },
  {
   "cell_type": "markdown",
   "id": "d1dc331b-5ee9-4892-9b96-9fdde42c2adb",
   "metadata": {},
   "source": [
    "### Ejercicio 1.2.7.\n",
    "\n",
    "#### Crea un programa que compare el año actual con un año cualquiera. Para ello solicita al usuario que introduzca el año actual, después solicítale que introduzca un año cualquiera y devuelve la comparativa. Es decir, si el año actual es anterior al año cualquiera, un ejemplo sería:\n",
    "\n",
    "- ##### Introduce el año en el que estamos: 2023 \n",
    "- ##### Introduce un año cualquiera: 2026 \n",
    "- ##### Quedan 3 años para llegar al año 2026. \n",
    "\n",
    "#### Si, por el contrario, el año actual es posterior al año cualquiera, un ejemplo de la comparativa sería:\n",
    "\n",
    "- ##### Introduce el año en el que estamos: 2020 \n",
    "- ##### Introduce un año cualquiera: 1980 \n",
    "- ##### Desde el año 1980 han pasado 40 años.\n",
    "\n",
    "#### En caso de que el año sea el mismo, la respuesta sería “Ambos años son el mismo.”"
   ]
  },
  {
   "cell_type": "code",
   "execution_count": 11,
   "id": "3f3b15ed-bfc2-4b22-87f5-37a56bc7ddad",
   "metadata": {},
   "outputs": [
    {
     "name": "stdin",
     "output_type": "stream",
     "text": [
      "Introduce el año actual: 2023\n",
      "Introduce un año cualquiera: 2023\n"
     ]
    },
    {
     "name": "stdout",
     "output_type": "stream",
     "text": [
      "Ambos años son el mismo\n"
     ]
    }
   ],
   "source": [
    "anio_actual = int(input('Introduce el año actual:'))\n",
    "anio_cualquiera = int(input('Introduce un año cualquiera:'))\n",
    "anio_futuro = anio_cualquiera > anio_actual\n",
    "anio_pasado = anio_actual > anio_cualquiera\n",
    "\n",
    "if anio_futuro:\n",
    "    anios_restantes = anio_cualquiera - anio_actual\n",
    "    print(f'Quedan {anios_restantes} año/s para llegar al {anio_cualquiera}')\n",
    "elif anio_pasado:\n",
    "    anios_transcurridos = anio_actual - anio_cualquiera\n",
    "    print(f'Desde el año {anio_cualquiera} han pasado {anios_transcurridos} año/s')\n",
    "else:\n",
    "    print('Ambos años son el mismo')\n"
   ]
  },
  {
   "cell_type": "markdown",
   "id": "81d29f76-3d6b-44b0-9386-8ac215ecd26e",
   "metadata": {},
   "source": [
    "### Ejercicio 1.2.8.\n",
    "\n",
    "#### Crea un programa que pida al usuario dos nombres de personas y los compare, devolviendo “Ambos nombres comienzan por la misma letra” si se cumple esa condición, devolviendo “Ambos nombres terminan por la misma letra” si se cumple esa condición, devolviendo “Ambos nombres comienzan y terminan por la misma letra” si se cumple esa condición, o “Los nombres no coinciden” si no se cumple ninguna de las condiciones anteriores."
   ]
  },
  {
   "cell_type": "code",
   "execution_count": 18,
   "id": "371eb642-825f-4eb7-83ff-40f774142f06",
   "metadata": {},
   "outputs": [
    {
     "name": "stdin",
     "output_type": "stream",
     "text": [
      "Introduce un nombre de persona VIctoriA\n",
      "Introduce otro nombre de persona valeNTIna\n"
     ]
    },
    {
     "name": "stdout",
     "output_type": "stream",
     "text": [
      "Ambos nombres comienzan y terminan con la misma letra\n"
     ]
    }
   ],
   "source": [
    "nombre_1 = input('Introduce un nombre de persona:').upper()\n",
    "nombre_2 = input('Introduce otro nombre de persona:').upper()\n",
    "primer_letra = nombre_1[0] == nombre_2[0]\n",
    "ultima_letra = nombre_1[-1] == nombre_2[-1]\n",
    "\n",
    "if primer_letra and ultima_letra:\n",
    "    print('Ambos nombres comienzan y terminan con la misma letra')\n",
    "elif primer_letra:\n",
    "    print('Ambos nombres comienzan con la misma letra')\n",
    "elif ultima_letra:\n",
    "    print('Ambos nombres terminan con la última letra')\n",
    "else:\n",
    "    print('Los nombres no coinciden')\n"
   ]
  },
  {
   "cell_type": "markdown",
   "id": "01ac27fe-bcff-49f0-8f57-c58fefe0cbd5",
   "metadata": {},
   "source": [
    "### Ejercicio 1.2.9.\n",
    "\n",
    "#### Crea un programa que calcule cuál sería el salario de una persona que va a recibir un aumento este año, en función de su salario actual, teniendo en cuenta que si su salario actual es menor de 15.000 recibirá un 10% de subida, que si su salario actual está entre 15.000 y 20.000 recibirá un 5% de subida y que si su salario es mayor de 20.000 recibirá un 2,5% de subida. "
   ]
  },
  {
   "cell_type": "code",
   "execution_count": 22,
   "id": "11d38fde-f054-4d8d-ae08-f5ebb76f1c03",
   "metadata": {},
   "outputs": [
    {
     "name": "stdin",
     "output_type": "stream",
     "text": [
      "Ingrese su salario: 20000\n"
     ]
    },
    {
     "name": "stdout",
     "output_type": "stream",
     "text": [
      "Su salario será de 21000.0\n"
     ]
    }
   ],
   "source": [
    "salario = float(input('Ingrese su salario:'))\n",
    "salario_menor = salario < 15000\n",
    "salario_mayor = salario > 20000\n",
    "\n",
    "if salario_mayor:\n",
    "    salario *= 1.025\n",
    "    print(f'Su salario será de {salario}')\n",
    "elif salario_menor:\n",
    "    salario *= 1.1\n",
    "    print(f'Su salario será de {salario}')\n",
    "else:\n",
    "    salario *= 1.05\n",
    "    print(f'Su salario será de {salario}')\n"
   ]
  },
  {
   "cell_type": "markdown",
   "id": "415b5566-1a32-4b26-bc47-d23837f29a5d",
   "metadata": {},
   "source": [
    "### Ejercicio 1.2.10.\n",
    "\n",
    "#### Crea un programa que calcule el precio de una entrada al teatro teniendo en cuenta la siguiente información:\n",
    "\n",
    "    ● Si la entrada es de tipo 1, situada en el patio de butacas, el precio es 60, pero si está en la entreplanta, tipo 2, es de 45.\n",
    "\n",
    "    ● Si la persona que va a ver el espectáculo es menor de edad o es mayor de 65 años, la entrada tendrá un descuento del 20%.\n",
    "\n",
    "    ● Además, si se compran 4 o más entradas a la vez, habrá un descuento adicional del 2%."
   ]
  },
  {
   "cell_type": "code",
   "execution_count": 82,
   "id": "a4c85933-a2b5-41d8-8e19-f2e7f2a1cd72",
   "metadata": {},
   "outputs": [
    {
     "name": "stdin",
     "output_type": "stream",
     "text": [
      "Hola, bienvenido a nuestro teatro. ¿Qué tipo de entrada desea? Seleccione el número: 1. Patio de Butacas 2. Entreplanta 1\n",
      "¿Cuántas entradas desea? 4\n"
     ]
    },
    {
     "name": "stdout",
     "output_type": "stream",
     "text": [
      "Ingrese las edadades de cada uno:\n"
     ]
    },
    {
     "name": "stdin",
     "output_type": "stream",
     "text": [
      "Ingrese edad: 4\n",
      "Ingrese edad: 8\n",
      "Ingrese edad: 34\n",
      "Ingrese edad: 35\n"
     ]
    },
    {
     "name": "stdout",
     "output_type": "stream",
     "text": [
      "El precio para 4 integrante/s es de 211.68\n"
     ]
    }
   ],
   "source": [
    "# variables, sobre el precio de las entradas\n",
    "precio_1 = 60 # patio de butacas\n",
    "precio_2 = 45 # entreplanta\n",
    "# listas\n",
    "edades = []\n",
    "personas_descuento = []\n",
    "\n",
    "tipo_entrada = int(input('Hola, bienvenido a nuestro teatro. ¿Qué tipo de entrada desea? Seleccione el número: 1. Patio de Butacas 2. Entreplanta'))\n",
    "\n",
    "while tipo_entrada != 1 and tipo_entrada != 2 :\n",
    "    print('Debe introducir 1 o 2')\n",
    "    tipo_entrada = int(input('¿Qué tipo de entrada desea? Seleccione el número: 1. Patio de Butacas 2. Entreplanta'))\n",
    "\n",
    "entradas = int(input('¿Cuántas entradas desea?'))\n",
    "print('Ingrese las edadades de cada uno:')\n",
    "\n",
    "for integrante in range(entradas):\n",
    "    edades.append(int(input('Ingrese edad:')))\n",
    "\n",
    "for edad in edades:\n",
    "    if edad > 65 or edad < 18 :\n",
    "        personas_descuento.append(edad)\n",
    "\n",
    "cantidad_personas_dto = len(personas_descuento)\n",
    "descuento = cantidad_personas_dto * 0.2\n",
    "descuento_cantidad = 0.98\n",
    "\n",
    "if tipo_entrada == 1:\n",
    "    if entradas >= 4 and cantidad_personas_dto > 0 :\n",
    "        precio = precio_1 * (entradas - descuento) * descuento_cantidad\n",
    "        print(f'El precio para {entradas} integrante/s es de {precio}')\n",
    "    elif entradas < 4 and cantidad_personas_dto > 0:\n",
    "        precio = precio_1 * (entradas - descuento)\n",
    "        print(f'El precio para {entradas} integrante/s es de {precio}')\n",
    "    else:\n",
    "        precio = precio_1 * entradas\n",
    "        print(f'El precio para {entradas} integrante/s es de {precio}')\n",
    "        \n",
    "if tipo_entrada == 2:\n",
    "    if entradas >= 4 and cantidad_personas_dto > 0 :\n",
    "        precio = precio_2 * (entradas - descuento) * descuento_cantidad\n",
    "        print(f'El precio para {entradas} integrante/s es de {precio}')\n",
    "    elif entradas < 4 and cantidad_personas_dto > 0:\n",
    "        precio = precio_2 * (entradas - descuento)\n",
    "        print(f'El precio para {entradas} integrante/s es de {precio}')\n",
    "    else:\n",
    "        precio = precio_2 * entradas\n",
    "        print(f'El precio para {entradas} integrante/s es de {precio}')"
   ]
  },
  {
   "cell_type": "markdown",
   "id": "4d069b17-73cc-46b6-800e-72d84700acc1",
   "metadata": {},
   "source": [
    "### Ejercicio 1.2.11.\n",
    "\n",
    "#### Vamos a adivinar el futuro jugando con una bola mágica que tiene 8 respuestas diferentes y que te devuelve una de ellas aleatoriamente cuando le haces una pregunta que se pueda responder con sí o no. Las 8 posibles respuestas son:\n",
    "\n",
    "   ● Sí, definitivamente sí.\n",
    "\n",
    "   ● Probablemente.\n",
    "\n",
    "   ● No lo sé, pregunta de nuevo.\n",
    "\n",
    "   ● Prueba más tarde.\n",
    "\n",
    "   ● Mejor que no lo sepas.\n",
    "\n",
    "   ● No, definitivamente no.\n",
    "\n",
    "   ● No pinta muy bien.\n",
    "\n",
    "   ● Tengo dudas al respecto."
   ]
  },
  {
   "cell_type": "code",
   "execution_count": 87,
   "id": "e0ade3a2-6d8c-422e-bc51-e30468986bb8",
   "metadata": {},
   "outputs": [
    {
     "name": "stdin",
     "output_type": "stream",
     "text": [
      "Escribe tu pregunta, te responderé con la verdad te guste o no: ¿Seré algún día un excelente Python Data Analyst?\n"
     ]
    },
    {
     "name": "stdout",
     "output_type": "stream",
     "text": [
      "Sí, definitivamente sí\n"
     ]
    }
   ],
   "source": [
    "import random\n",
    "# respuestas posibles\n",
    "respuesta_1 = 'Sí, definitivamente sí'\n",
    "respuesta_2 = 'Probablemente'\n",
    "respuesta_3 = 'No lo sé, pregunta de nuevo'\n",
    "respuesta_4 = 'Prueba más tarde'\n",
    "respuesta_5 = 'Mejor que no lo sepas'\n",
    "respuesta_6 = 'No, definitivamente no'\n",
    "respuesta_7 = 'No pinta muy bien'\n",
    "respuesta_8 = 'Tengo dudas al respecto'\n",
    "# lista\n",
    "bola_magica = [respuesta_1, respuesta_2, respuesta_3, respuesta_4, respuesta_5, respuesta_6, respuesta_7, respuesta_8]\n",
    "# inicia app\n",
    "pregunta = input('Escribe tu pregunta, te responderé con la verdad te guste o no:')\n",
    "respuesta = random.choice(bola_magica)\n",
    "print(respuesta)"
   ]
  },
  {
   "cell_type": "markdown",
   "id": "5d19719b-32cb-42be-aebe-420b89fb1913",
   "metadata": {},
   "source": [
    "### Ejercicio 1.2.12.\n",
    "\n",
    "#### Crea un programa que detecte si una persona es un emprendedor visionario, especialista, persuasivo o social, siguiendo las siguientes pautas:\n",
    "\n",
    "   ● Realiza la siguiente pregunta y facilita las siguientes opciones para que el usuario pueda elegir una de ellas y la introduzca por pantalla:\n",
    "\n",
    "    o  ¿Cuál de estas palabras te define mejor? Elige una e introduce 1, si te sientes identificado con la primera opción, 2, si te sientes identificado con la segunda, etc.\n",
    "         1. Soñador\n",
    "\n",
    "         2. Objetivo\n",
    "\n",
    "         3. Influenciador\n",
    "\n",
    "         4. Sensible\n",
    "         \n",
    "#### Si selecciona la opción 1, suma un punto al emprendedor visionario; si selecciona la opción 2, suma un punto al emprendedor especialista; si selecciona la opción 3, suma un punto al emprendedor persuasivo; y si selecciona la opción 4, suma un punto al emprendedor social. \n",
    "\n",
    "#### Si la respuesta no es uno de estos números o incluye otra cosa, muestra un mensaje de “La respuesta no es válida.”\n",
    "\n",
    "   ● Realiza la siguiente pregunta y facilita las siguientes opciones:\n",
    "\n",
    "    o Cuando vas a empezar un nuevo proyecto, ¿qué es lo primero en lo que piensas? Elige una de las siguientes opciones e introduce 1, si tu elección en la primera opción, 2, si es la segunda, etc    \n",
    "         \n",
    "         1. En lo que puede salir bien y lo que puede salir mal, para prevenir las consecuencias. \n",
    "\n",
    "         2. En lo que el proyecto va a aportar a los demás.\n",
    "\n",
    "         3. En las ideas que se me pasan por la cabeza para llevarlo a cabo.\n",
    "\n",
    "         4. En cómo voy a motivar al equipo para llevarlo a cabo.\n",
    "         \n",
    "#### Si selecciona la opción 1, suma un punto al emprendedor especialista, si la opción es la 2, suma un punto al emprendedor social, si la opción es la 3, suma un punto al emprendedor visionario y si la opción es la 4, suma un punto al emprendedor persuasivo. Si la respuesta no es uno de estos números o incluye otra cosa, muestra un mensaje de “La respuesta no es válida.”\n",
    "\n",
    "   ●  Realiza la siguiente pregunta y facilita las siguientes opciones:\n",
    "\n",
    "         o  ¿Cómo crees que se deben llevar a cabo los proyectos? Elige una de las siguientes opciones e introduce 1, si tu elección en la primera opción, 2, si es la segunda, etc.\n",
    "\n",
    "         1. Con pasión y constancia.\n",
    "\n",
    "         2. Centrándose en un foco concreto cada vez.\n",
    "\n",
    "         3. Pensando en el equipo.\n",
    "\n",
    "         4. De forma íntegra.         \n",
    " \n",
    "#### si selecciona la opción 1, suma un punto al emprendedor visionario, si selecciona la opción 2, suma un punto al emprendedor especialista, si selecciona la opción 3, suma un punto al emprendedor persuasivo y si selecciona la opción 4, suma un punto al emprendedor social. Si la respuesta no es uno de estos números o incluye otra cosa, muestra un mensaje de “La respuesta no es válida.”\n",
    "\n",
    "   ●  Indica cuál es la solución, que corresponderá con el tipo de emprendedor que tenga la puntuación más alta. Si dos o tres tipos de emprendedores tienen la misma puntuación, indícalos todos. "
   ]
  },
  {
   "cell_type": "code",
   "execution_count": 132,
   "id": "013db856-1e1c-4312-a60d-47a12511123a",
   "metadata": {},
   "outputs": [
    {
     "name": "stdout",
     "output_type": "stream",
     "text": [
      "Contesta las siguientes preguntas:\n",
      "\n",
      "¿Cuál de estas palabras te define mejor?\n"
     ]
    },
    {
     "name": "stdin",
     "output_type": "stream",
     "text": [
      "1.Soñador 2.Objetivo 3.Influenciador 4.Sensible 1\n"
     ]
    },
    {
     "name": "stdout",
     "output_type": "stream",
     "text": [
      "\n",
      "Cuando vas a empezar un nuevo proyecto, ¿qué es lo primero en lo que piensas?\n"
     ]
    },
    {
     "name": "stdin",
     "output_type": "stream",
     "text": [
      "\n",
      "        \n",
      " 1. En lo que puede salir bien y lo que puede salir mal, para prevenir las consecuencias. \n",
      "        \n",
      " 2. En lo que el proyecto va a aportar a los demás.\n",
      "        \n",
      " 3. En las ideas que se me pasan por la cabeza para llevarlo a cabo.\n",
      "        \n",
      " 4. En cómo voy a motivar al equipo para llevarlo a cabo. 1\n"
     ]
    },
    {
     "name": "stdout",
     "output_type": "stream",
     "text": [
      "\n",
      "¿Cómo crees que se deben llevar a cabo los proyectos?\n"
     ]
    },
    {
     "name": "stdin",
     "output_type": "stream",
     "text": [
      "\n",
      "        \n",
      " 1. Con pasión y constancia.\n",
      "        \n",
      " 2. Centrándose en un foco concreto cada vez.\n",
      "        \n",
      " 3. Pensando en el equipo.\n",
      "        \n",
      " 4. De forma íntegra.  3\n"
     ]
    },
    {
     "name": "stdout",
     "output_type": "stream",
     "text": [
      "\n",
      "{'visionario': 1, 'especialista': 1, 'persuasivo': 1, 'social': 0}\n",
      "Eres un emprendedor:\n",
      "1 visionario\n",
      "2 especialista\n",
      "3 persuasivo\n"
     ]
    }
   ],
   "source": [
    "emprendedor = {\n",
    "    'visionario': 0,\n",
    "    'especialista': 0,\n",
    "    'persuasivo': 0,\n",
    "    'social': 0\n",
    "}\n",
    "\n",
    "print('Contesta las siguientes preguntas:\\n')\n",
    "print('¿Cuál de estas palabras te define mejor?')\n",
    "\n",
    "opcion_1 = int(input('1.Soñador 2.Objetivo 3.Influenciador 4.Sensible'))\n",
    "\n",
    "while opcion_1 != 1 and opcion_1 != 2 and opcion_1 != 3 and opcion_1 != 4 :\n",
    "    print('La respuesta no es válida')\n",
    "    opcion_1 = int(input('1.Soñador 2.Objetivo 3.Influenciador 4.Sensible'))\n",
    "\n",
    "if opcion_1 == 1 :\n",
    "    emprendedor['visionario'] += 1\n",
    "if opcion_1 == 2 :\n",
    "    emprendedor['especialista'] += 1\n",
    "if opcion_1 == 3 :\n",
    "    emprendedor['persuasivo'] += 1\n",
    "if opcion_1 == 4 :\n",
    "    emprendedor['social'] += 1\n",
    "    \n",
    "print('\\nCuando vas a empezar un nuevo proyecto, ¿qué es lo primero en lo que piensas?')\n",
    "\n",
    "opcion_2 = int(input('''\n",
    "        \\n 1. En lo que puede salir bien y lo que puede salir mal, para prevenir las consecuencias. \n",
    "        \\n 2. En lo que el proyecto va a aportar a los demás.\n",
    "        \\n 3. En las ideas que se me pasan por la cabeza para llevarlo a cabo.\n",
    "        \\n 4. En cómo voy a motivar al equipo para llevarlo a cabo.'''))\n",
    "\n",
    "while opcion_2 != 1 and opcion_2 != 2 and opcion_2 != 3 and opcion_2 != 4 :\n",
    "    print('La respuesta no es válida')\n",
    "    opcion_2 = int(input('''\n",
    "        \\n 1. En lo que puede salir bien y lo que puede salir mal, para prevenir las consecuencias. \n",
    "        \\n 2. En lo que el proyecto va a aportar a los demás.\n",
    "        \\n 3. En las ideas que se me pasan por la cabeza para llevarlo a cabo.\n",
    "        \\n 4. En cómo voy a motivar al equipo para llevarlo a cabo.'''))\n",
    "\n",
    "if opcion_2 == 1 :\n",
    "    emprendedor['especialista'] += 1\n",
    "if opcion_2 == 2 :\n",
    "    emprendedor['social'] += 1\n",
    "if opcion_2 == 3 :\n",
    "    emprendedor['visionario'] += 1\n",
    "if opcion_2 == 4 :\n",
    "    emprendedor['persuasivo'] += 1\n",
    "    \n",
    "print('\\n¿Cómo crees que se deben llevar a cabo los proyectos?')\n",
    "\n",
    "opcion_3 = int(input('''\n",
    "        \\n 1. Con pasión y constancia.\n",
    "        \\n 2. Centrándose en un foco concreto cada vez.\n",
    "        \\n 3. Pensando en el equipo.\n",
    "        \\n 4. De forma íntegra. '''))\n",
    "\n",
    "while opcion_3 != 1 and opcion_3 != 2 and opcion_3 != 3 and opcion_3 != 4 :\n",
    "    print('La respuesta no es válida')\n",
    "    opcion_3 = int(input('''\n",
    "        \\n 1. Con pasión y constancia.\n",
    "        \\n 2. Centrándose en un foco concreto cada vez.\n",
    "        \\n 3. Pensando en el equipo.\n",
    "        \\n 4. De forma íntegra. '''))\n",
    "\n",
    "if opcion_3 == 1 :\n",
    "    emprendedor['visionario'] += 1\n",
    "if opcion_3 == 2 :\n",
    "    emprendedor['especialista'] += 1\n",
    "if opcion_3 == 3 :\n",
    "    emprendedor['persuasivo'] += 1\n",
    "if opcion_3 == 4 :\n",
    "    emprendedor['social'] += 1\n",
    "\n",
    "print()    \n",
    "print(emprendedor)    \n",
    "resultados = [key for key, value in emprendedor.items() if value == max(emprendedor.values())]\n",
    "print(f'Eres un emprendedor:')\n",
    "for x,y in enumerate(resultados):\n",
    "    print(x+1, y)\n",
    "    "
   ]
  }
 ],
 "metadata": {
  "kernelspec": {
   "display_name": "Python 3 (ipykernel)",
   "language": "python",
   "name": "python3"
  },
  "language_info": {
   "codemirror_mode": {
    "name": "ipython",
    "version": 3
   },
   "file_extension": ".py",
   "mimetype": "text/x-python",
   "name": "python",
   "nbconvert_exporter": "python",
   "pygments_lexer": "ipython3",
   "version": "3.9.13"
  }
 },
 "nbformat": 4,
 "nbformat_minor": 5
}
