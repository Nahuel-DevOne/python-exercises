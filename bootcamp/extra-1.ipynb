{
 "cells": [
  {
   "cell_type": "markdown",
   "id": "da41e77d-be51-42a6-ac92-bbdf9f6e8f6d",
   "metadata": {},
   "source": [
    "# `Extra 1`"
   ]
  },
  {
   "cell_type": "markdown",
   "id": "7e413193-9d49-4f65-a75e-0126c690a051",
   "metadata": {},
   "source": [
    "### 1. Crea dos variables llamadas nombre y edad, asigna un valor a cada una y luego imprime ## en la consola un mensaje que combine ambas variables en una oración.\n"
   ]
  },
  {
   "cell_type": "code",
   "execution_count": 11,
   "id": "d5e32023-e1fa-4c5e-819d-c740151eba70",
   "metadata": {},
   "outputs": [
    {
     "name": "stdout",
     "output_type": "stream",
     "text": [
      "Nahuel tiene 34\n"
     ]
    }
   ],
   "source": [
    "nombre = 'Nahuel'\n",
    "edad = 18\n",
    "\n",
    "print(f'{nombre} tiene {edad}')"
   ]
  },
  {
   "cell_type": "markdown",
   "id": "35ea227e-07f9-4284-8bbb-c6ea6ee11516",
   "metadata": {},
   "source": [
    "### 2. Crea un programa que pida introducir un número que quedará asignado a una variable llamada precio. Luego, haz lo mismo con otra variable \n",
    "### llamada descuento. Finalmente, calcula el precio con descuento del producto y almacena el resultado en una nueva variable llamada \n",
    "### precio_descuento. Muestra el resultado por pantalla.\n",
    "\n"
   ]
  },
  {
   "cell_type": "code",
   "execution_count": 19,
   "id": "6ea2e0e7-86bf-4802-a96b-b9a8f025f7b7",
   "metadata": {},
   "outputs": [
    {
     "name": "stdout",
     "output_type": "stream",
     "text": [
      "Por favor escribe un numero 1000\n"
     ]
    },
    {
     "name": "stdout",
     "output_type": "stream",
     "text": [
      "900.0\n"
     ]
    }
   ],
   "source": [
    "precio = int(input('Por favor escribe un numero'))\n",
    "descuento = 0.1\n",
    "\n",
    "precio_descuento = precio - (precio * descuento)\n",
    "\n",
    "print(precio_descuento)"
   ]
  },
  {
   "cell_type": "markdown",
   "id": "41c43f4c-9b07-4ba8-ae31-9daf660f7a67",
   "metadata": {},
   "source": [
    "### 6. Crea un programa que pida introducir un número entero y compruebe si es múltiplo de 7 (es decir, si al dividir dicho número entre 7, su resto es cero).\n",
    "\n",
    "### 7. Al programa anterior, agrégale una condición más que nos indique si el número es múltiplo de 3.\n"
   ]
  },
  {
   "cell_type": "code",
   "execution_count": 22,
   "id": "bd69b4b1-3356-444b-9297-ba633569b949",
   "metadata": {},
   "outputs": [
    {
     "name": "stdout",
     "output_type": "stream",
     "text": [
      "Por favor, ingresa un número entero 10\n"
     ]
    },
    {
     "name": "stdout",
     "output_type": "stream",
     "text": [
      "No es múltiplo de 3 ni de 7\n"
     ]
    }
   ],
   "source": [
    "num_entero = int(input(\"Por favor, ingresa un número entero\"))\n",
    "es_multiplo_siete = num_entero % 7 == 0\n",
    "es_multiplo_tres = num_entero % 3 == 0\n",
    "es_multiplo_tres_y_siete = num_entero \n",
    "\n",
    "if(es_multiplo_siete):\n",
    "    print('El número es múltiplo de 7')\n",
    "elif(es_multiplo_tres):\n",
    "    print('El número es múltiplo de 3')\n",
    "else:\n",
    "    print('No es múltiplo de 3 ni de 7')\n",
    "\n",
    "    "
   ]
  }
 ],
 "metadata": {
  "kernelspec": {
   "display_name": "Python 3 (ipykernel)",
   "language": "python",
   "name": "python3"
  },
  "language_info": {
   "codemirror_mode": {
    "name": "ipython",
    "version": 3
   },
   "file_extension": ".py",
   "mimetype": "text/x-python",
   "name": "python",
   "nbconvert_exporter": "python",
   "pygments_lexer": "ipython3",
   "version": "3.9.13"
  }
 },
 "nbformat": 4,
 "nbformat_minor": 5
}
