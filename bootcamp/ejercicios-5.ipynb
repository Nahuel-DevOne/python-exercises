{
 "cells": [
  {
   "cell_type": "markdown",
   "id": "e88b5d0d-d06e-47fe-b247-95be87eac00a",
   "metadata": {},
   "source": [
    "# **`Ejercicios 5: Funciones`**"
   ]
  },
  {
   "cell_type": "markdown",
   "id": "a544b112-0165-4c59-a973-0c5abdd98b15",
   "metadata": {},
   "source": [
    "### Ejercicio 1.7.1.\n",
    "\n",
    "#### Crea una función que se llame escribir y que imprima por pantalla el texto “Estoy en la Escuela de Talento Digital”."
   ]
  },
  {
   "cell_type": "code",
   "execution_count": 3,
   "id": "30f7757d-c47d-4ab2-8f51-39dcaa88239f",
   "metadata": {},
   "outputs": [
    {
     "name": "stdout",
     "output_type": "stream",
     "text": [
      "Estoy en la Escuela de Talento Digital\n"
     ]
    }
   ],
   "source": [
    "def escribir():\n",
    "    print('Estoy en la Escuela de Talento Digital')\n",
    "\n",
    "escribir()    "
   ]
  },
  {
   "cell_type": "markdown",
   "id": "53f71cfc-fdc5-46d0-94b0-3041db3c2474",
   "metadata": {},
   "source": [
    "### Ejercicio 1.7.2.\n",
    "\n",
    "#### Crea una función a la que le pases como parámetro un nombre e imprima por pantalla “nombre está en la Escuela de Talento Digital”."
   ]
  },
  {
   "cell_type": "code",
   "execution_count": 8,
   "id": "aacf3f9f-344f-4575-a1a2-20bdff1ec534",
   "metadata": {},
   "outputs": [
    {
     "name": "stdout",
     "output_type": "stream",
     "text": [
      "Nahuel está en la Escuela de Talento Digital\n",
      "Elon Musk está en la Escuela de Talento Digital\n",
      "Sam Altman está en la Escuela de Talento Digital\n"
     ]
    }
   ],
   "source": [
    "def imprimir_presentacion(nombre):\n",
    "    print(f'{nombre} está en la Escuela de Talento Digital')\n",
    "\n",
    "imprimir_presentacion('Nahuel')\n",
    "imprimir_presentacion('Elon Musk')\n",
    "imprimir_presentacion('Sam Altman')"
   ]
  },
  {
   "cell_type": "markdown",
   "id": "2330895f-07cc-476d-a60c-f96d8b863a86",
   "metadata": {},
   "source": [
    "### Ejercicio 1.7.3.\n",
    "\n",
    "#### Crea una función a la que le pases como parámetro una cifra e imprima en pantalla el valor de esa cifra multiplicado por tres."
   ]
  },
  {
   "cell_type": "code",
   "execution_count": 11,
   "id": "46f610b1-3553-4dc8-846f-f611d3a33013",
   "metadata": {},
   "outputs": [
    {
     "name": "stdout",
     "output_type": "stream",
     "text": [
      "0\n",
      "3\n",
      "12\n",
      "21\n"
     ]
    }
   ],
   "source": [
    "def triplicar_numero(numero = 0):\n",
    "    numero_triplicado = numero * 3\n",
    "    print(f'{numero_triplicado}')\n",
    "\n",
    "triplicar_numero()\n",
    "triplicar_numero(1)\n",
    "triplicar_numero(4)\n",
    "triplicar_numero(7)"
   ]
  },
  {
   "cell_type": "markdown",
   "id": "a9fbed81-bbc2-403a-9b1e-fc8ac53ee8f4",
   "metadata": {},
   "source": [
    "### Ejercicio 1.7.4.\n",
    "\n",
    "#### Utilizando la función que has creado en el ejercicio 1.7.3., muestra por pantalla la tabla de multiplicar del 3. Por ejemplo, la tabla de multiplicar del 1 se mostraría así:\n",
    "\n",
    "0 \n",
    "\n",
    "1 \n",
    "\n",
    "2 \n",
    "\n",
    "3 \n",
    "\n",
    "4 \n",
    "\n",
    "5 \n",
    "\n",
    "6 \n",
    "\n",
    "7 \n",
    "\n",
    "8 \n",
    "\n",
    "9 \n",
    "\n",
    "10 "
   ]
  },
  {
   "cell_type": "code",
   "execution_count": 13,
   "id": "4585f79e-5593-4e05-a25c-b55cfe4207cc",
   "metadata": {},
   "outputs": [
    {
     "name": "stdout",
     "output_type": "stream",
     "text": [
      "0\n",
      "\n",
      "3\n",
      "\n",
      "6\n",
      "\n",
      "9\n",
      "\n",
      "12\n",
      "\n",
      "15\n",
      "\n",
      "18\n",
      "\n",
      "21\n",
      "\n",
      "24\n",
      "\n",
      "27\n",
      "\n",
      "30\n",
      "\n"
     ]
    }
   ],
   "source": [
    "def triplicar_numero(numero = 0):\n",
    "    numero_triplicado = numero * 3\n",
    "    print(f'{numero_triplicado}')\n",
    "\n",
    "for num in range(11):\n",
    "    triplicar_numero(num)\n",
    "    print()\n"
   ]
  },
  {
   "cell_type": "markdown",
   "id": "c567c646-ea7b-4b5b-8455-60fb10970992",
   "metadata": {},
   "source": [
    "### Ejercicio 1.7.5.\n",
    "\n",
    "#### Crea una función a la que le pases dos números e imprima por pantalla la suma de ambos."
   ]
  },
  {
   "cell_type": "code",
   "execution_count": 14,
   "id": "0c090922-4b75-4970-a01d-6fda6551a53a",
   "metadata": {},
   "outputs": [
    {
     "name": "stdout",
     "output_type": "stream",
     "text": [
      "0\n",
      "6\n",
      "120\n"
     ]
    }
   ],
   "source": [
    "def suma_numeros(a=0, b=0):\n",
    "    suma = a + b\n",
    "    print(suma)\n",
    "    \n",
    "suma_numeros()\n",
    "suma_numeros(1,5)\n",
    "suma_numeros(20,100)"
   ]
  },
  {
   "cell_type": "markdown",
   "id": "d19205c9-466d-4b30-8dbe-739860c45b4b",
   "metadata": {},
   "source": [
    "### Ejercicio 1.7.6.\n",
    "\n",
    "#### Crea una función con un parámetro que muestre por pantalla “El número es par” si el parámetro introducido es par y que muestre “El número es impar” si el parámetro es impar."
   ]
  },
  {
   "cell_type": "code",
   "execution_count": 15,
   "id": "c9b72322-1982-419c-b163-24de0a083e1f",
   "metadata": {},
   "outputs": [
    {
     "name": "stdout",
     "output_type": "stream",
     "text": [
      "El número es par\n",
      "El número es par\n",
      "El número es impar\n",
      "El número es impar\n",
      "El número es par\n"
     ]
    }
   ],
   "source": [
    "def es_par(num):\n",
    "    num_par = num % 2 == 0\n",
    "    if num_par:\n",
    "        print('El número es par')\n",
    "    else:\n",
    "        print('El número es impar')\n",
    "\n",
    "es_par(0)\n",
    "es_par(4)\n",
    "es_par(5)\n",
    "es_par(1001)\n",
    "es_par(1040)"
   ]
  },
  {
   "cell_type": "markdown",
   "id": "0d085657-4486-473f-bf4f-bf68713154e4",
   "metadata": {},
   "source": [
    "### Ejercicio 1.7.7.\n",
    "\n",
    "#### Crea una función que reciba un número y muestre por pantalla su factorial."
   ]
  },
  {
   "cell_type": "code",
   "execution_count": 30,
   "id": "a8981cb5-e01c-41dc-8de9-b821919a3d82",
   "metadata": {},
   "outputs": [
    {
     "name": "stdout",
     "output_type": "stream",
     "text": [
      "24\n",
      "720\n",
      "40320\n",
      "1\n",
      "Math ERROR\n"
     ]
    }
   ],
   "source": [
    "def factorial(num):\n",
    "    res = 1\n",
    "    if num > 0:\n",
    "        while num > 0:\n",
    "            res *= num\n",
    "            num -= 1\n",
    "        print(res)\n",
    "    elif num == 0:\n",
    "        print(1)\n",
    "    else:\n",
    "        print('Math ERROR')\n",
    "\n",
    "factorial(4)\n",
    "factorial(6)\n",
    "factorial(8)\n",
    "factorial(0)\n",
    "factorial(-4)"
   ]
  },
  {
   "cell_type": "markdown",
   "id": "eba2a058-6106-462d-a731-46c3ff60111d",
   "metadata": {},
   "source": [
    "### Ejercicio 1.7.8.\n",
    "\n",
    "#### Crea una función que calcule la media de los números que pasemos como parámetros y la muestre por pantalla. Ten en cuenta que podemos pasarle dos números como podemos pasarle diez, no lo tenemos definido en un principio."
   ]
  },
  {
   "cell_type": "code",
   "execution_count": 46,
   "id": "fbbd9314-4b48-42b2-bdb2-92d6d127a49a",
   "metadata": {},
   "outputs": [
    {
     "name": "stdout",
     "output_type": "stream",
     "text": [
      "9.0\n",
      "9.0\n",
      "7.75\n"
     ]
    }
   ],
   "source": [
    "def calcular_media(*nums):\n",
    "    suma = sum(nums)\n",
    "    cantidad = len(nums)\n",
    "    media = suma/cantidad\n",
    "    print(round(media,2))\n",
    "\n",
    "calcular_media(8,9,10)\n",
    "calcular_media(8,9,9,10)\n",
    "calcular_media(5,7,9,10)"
   ]
  },
  {
   "cell_type": "markdown",
   "id": "6032aa33-1655-4776-90b9-22004b8d4cab",
   "metadata": {},
   "source": [
    "### Ejercicio 1.7.9.\n",
    "\n",
    "#### Crea una función que dados dos números muestre por pantalla todos los números que hay entre ellos, incluidos ambos."
   ]
  },
  {
   "cell_type": "code",
   "execution_count": 10,
   "id": "31443a5b-a34b-4e90-9241-06e06d2d23fe",
   "metadata": {},
   "outputs": [
    {
     "name": "stdout",
     "output_type": "stream",
     "text": [
      "-4 -3 -2 -1 0 1 2 3 4 5 6 7 8 9 10 11 \n",
      "15 16 17 18 19 20 21 22 23 24 25 26 27 28 29 30 31 32 33 34 35 36 37 38 39 40 \n"
     ]
    }
   ],
   "source": [
    "def imprimir_numeros(a:int, b:int):\n",
    "    for num in range(a, b+1):\n",
    "        print(num, end=' ')\n",
    "    print()    \n",
    "\n",
    "imprimir_numeros(-4,11)\n",
    "imprimir_numeros(15,40)"
   ]
  },
  {
   "cell_type": "markdown",
   "id": "96edf609-4dda-450f-b16f-4739d7655126",
   "metadata": {},
   "source": [
    "### Ejercicio 1.7.10.\n",
    "\n",
    "#### Crea una función que dados una serie de números identifique el máximo y el mínimo y muestre por pantalla “El máximo es: x”, siendo x el mayor de los números, y “El mínimo es: y”, siendo y el menor de los números."
   ]
  },
  {
   "cell_type": "code",
   "execution_count": 13,
   "id": "4638532e-76dc-46df-bd8e-6ec7cdecd3d5",
   "metadata": {},
   "outputs": [
    {
     "name": "stdout",
     "output_type": "stream",
     "text": [
      "El máximo es: 100\n",
      "El mínimo es: 0\n"
     ]
    }
   ],
   "source": [
    "def imprimir_max_min(*nums):\n",
    "    maximo = max(nums)\n",
    "    minimo = min(nums)\n",
    "    print(f'El máximo es: {maximo}')\n",
    "    print(f'El mínimo es: {minimo}')\n",
    "\n",
    "imprimir_max_min(2,3,46,1,33,0,100)    "
   ]
  },
  {
   "cell_type": "markdown",
   "id": "b1cebe5d-d7b8-4a0a-86dd-4ff9aa95c538",
   "metadata": {},
   "source": [
    "### Ejercicio 1.7.11.\n",
    "\n",
    "#### Crea una función a la que se introduzca un texto como parámetro y muestre por pantalla el número de caracteres que tiene ese texto."
   ]
  },
  {
   "cell_type": "code",
   "execution_count": 19,
   "id": "f0f66a7b-7ece-4c41-b6bb-26ebdf3d3c7f",
   "metadata": {},
   "outputs": [
    {
     "name": "stdout",
     "output_type": "stream",
     "text": [
      "El número de caracteres que tiene \"hola mundo\" es de 10\n",
      "El número de caracteres que tiene \"Soy un Python Data Analyst\" es de 26\n"
     ]
    }
   ],
   "source": [
    "def imprime_nro_caracteres(texto:str):\n",
    "    cantidad = 0\n",
    "    for caracter in texto:\n",
    "        cantidad += 1\n",
    "    print(f'El número de caracteres que tiene \"{texto}\" es de {cantidad}')    \n",
    "\n",
    "def imprime_longitud(texto:str):\n",
    "    caracteres = len(texto)\n",
    "    print(f'El número de caracteres que tiene \"{texto}\" es de {caracteres}')\n",
    "    \n",
    "imprime_nro_caracteres('hola mundo') \n",
    "imprime_longitud('Soy un Python Data Analyst')"
   ]
  },
  {
   "cell_type": "markdown",
   "id": "b45b75c1-bfa5-4209-bcca-b70cd5df058c",
   "metadata": {},
   "source": [
    "### Ejercicio 1.7.12.\n",
    "\n",
    "#### Crea un programa que te de la opción de cambiar horas, minutos y segundos a segundos o segundos a horas, minutos y segundos. Para ello sigue los siguientes pasos:\n",
    "\n",
    "Crea una función a la que le introduzcas tres parámetros (horas, minutos, segundos) y que calcule a cuántos segundos equivalen, mostrando el resultado por pantalla.\n",
    "Crea una función a la que le introduzcas un parámetro (segundos) y muestre por pantalla a cuantas horas, minutos y segundos corresponderían a esos segundos.\n",
    "Crea un programa que te muestre dos opciones:\n",
    "                    \n",
    "      (1) Convertir a segundos\n",
    "\n",
    "      (2) Convertir a horas, minutos y segundos\n",
    "\n",
    "      Si el usuario elige la opción 1, se le pedirán las horas, minutos y segundos que quiere transformar en segundos y se usará la primera función para mostrar por pantalla el número de segundos correspondiente.\n",
    "\n",
    "      Si el usuario elige la opción 2, se le pedirán los segundos, se convertirán en horas, minutos y segundos usando la segunda función para mostrar el resultado por pantalla."
   ]
  },
  {
   "cell_type": "code",
   "execution_count": 31,
   "id": "5e0dc0aa-ea21-40da-9684-2b6fd475d6d7",
   "metadata": {},
   "outputs": [
    {
     "name": "stdout",
     "output_type": "stream",
     "text": [
      "¿Qué te gustaría hacer?\n"
     ]
    },
    {
     "name": "stdin",
     "output_type": "stream",
     "text": [
      "1. Convertir el tiempo a segundos \n",
      "2. Convertir los segundos a horas, minutos y segundos \n",
      " 2\n",
      "Introduce los segundos: 7435\n"
     ]
    },
    {
     "name": "stdout",
     "output_type": "stream",
     "text": [
      "7435 segundos son: 2 hora/s, 3 minuto/s y 55 segundo/s\n"
     ]
    }
   ],
   "source": [
    "def tiempo_segundos(horas:int, minutos:int, segundos:int):\n",
    "    tiempo = segundos + minutos * 60 + horas * 3600\n",
    "    print(f'El tiempo en segundos es: {tiempo} segundo/s')\n",
    "\n",
    "def tiempo_hms(segundos):\n",
    "    horas = segundos // 3600 # calculando las horas\n",
    "    minutos = (segundos % 3600) // 60 # calculando los minutos del resto del tiempo de horas\n",
    "    segundos_restantes = segundos % 60 # calculando los segundos del resto de la división entre cantidad de segundos y 60\n",
    "    print(f'{segundos} segundos son: {horas} hora/s, {minutos} minuto/s y {segundos_restantes} segundo/s')\n",
    "    \n",
    "while True:\n",
    "    print('¿Qué te gustaría hacer?')\n",
    "    opcion = int(input('1. Convertir el tiempo a segundos \\n2. Convertir los segundos a horas, minutos y segundos \\n'))\n",
    "    if opcion == 1:\n",
    "        horas = int(input('Introduce las horas:'))\n",
    "        minutos = int(input('Introduce los minutos:'))\n",
    "        segundos = int(input('Introduce los segundos:'))\n",
    "        tiempo_segundos(horas, minutos, segundos)\n",
    "        break\n",
    "    elif opcion == 2:\n",
    "        segundos = int(input('Introduce los segundos:'))\n",
    "        tiempo_hms(segundos)\n",
    "        break\n",
    "    else:\n",
    "        print('Ingresa el número 1 o 2 para las opciones.')"
   ]
  },
  {
   "cell_type": "markdown",
   "id": "be7a11b7-0c25-4f92-95ba-48a10460c82b",
   "metadata": {},
   "source": [
    "### Ejercicio 1.7.13.\n",
    "\n",
    "#### Crea un programa que le pida al usuario texto y compruebe si este contiene la @. En caso de que la contenga devolverá “El texto contiene la @” y en caso contrario “El texto no contiene la @”. Utiliza una función para realizar la comprobación."
   ]
  },
  {
   "cell_type": "code",
   "execution_count": 2,
   "id": "7b7e7632-c80d-4316-955a-22081e82b877",
   "metadata": {},
   "outputs": [
    {
     "name": "stdout",
     "output_type": "stream",
     "text": [
      "El texto \"hola mundo\" no contiene la @\n",
      "El texto \"nahuel.developer1@gmail.com\" contiene la @\n"
     ]
    }
   ],
   "source": [
    "def comprueba_arroba(texto:str):\n",
    "    if '@' in texto:\n",
    "        print(f'El texto \"{texto}\" contiene la @')\n",
    "    else:\n",
    "        print(f'El texto \"{texto}\" no contiene la @')\n",
    "\n",
    "comprueba_arroba('hola mundo')\n",
    "comprueba_arroba('nahuel.developer1@gmail.com')"
   ]
  },
  {
   "cell_type": "markdown",
   "id": "b536bdef-4e96-4e01-a8f6-9164a55e8347",
   "metadata": {},
   "source": [
    "### *Ejercicio 1.7.14.*\n",
    "\n",
    "#### Crea un programa que pida al usuario una cantidad y un porcentaje de impuestos a pagar y calcule el importe total de la cantidad más el porcentaje de impuestos indicado y lo muestre por pantalla. Es decir, si mi factura es de 300 y tengo que sumarle el 10% de impuestos, el importe total sería 330. \n",
    "\n",
    "#### Utiliza una función con dos parámetros, el importe inicial y el porcentaje de impuestos, y que devuelva el importe total."
   ]
  },
  {
   "cell_type": "code",
   "execution_count": 10,
   "id": "dd44bf23-0713-4c9c-bf18-ed4771a17a61",
   "metadata": {},
   "outputs": [
    {
     "name": "stdin",
     "output_type": "stream",
     "text": [
      "Hola, ingrese una cantidad a pagar: 1000\n",
      "Ingrese el porcentaje de impuesto correspondiente: 35\n"
     ]
    },
    {
     "name": "stdout",
     "output_type": "stream",
     "text": [
      "El importe total a pagar es: 1350.0\n"
     ]
    }
   ],
   "source": [
    "def calcula_importe(cantidad:float, impuesto:float): \n",
    "    total = cantidad * (1 + impuesto / 100)\n",
    "    print('El importe total a pagar es:', round(total,2))\n",
    "\n",
    "cantidad = float(input('Hola, ingrese una cantidad a pagar:'))\n",
    "impuesto = float(input('Ingrese el porcentaje de impuesto correspondiente:'))\n",
    "calcula_importe(cantidad, impuesto)"
   ]
  },
  {
   "cell_type": "markdown",
   "id": "9e3f9247-0c57-4b4a-8e8b-bf81bf100efa",
   "metadata": {},
   "source": [
    "### Ejercicio 1.7.15.\n",
    "\n",
    "#### Crea una función en la que el usuario pueda introducir todos los números que quiera, siendo el último el cero, y calcule la suma de todos ellos. Después ejecútala tres veces con tres grupos de números diferentes y muestra por pantalla el máximo resultado siguiendo a la frase “El máximo es x\"."
   ]
  },
  {
   "cell_type": "code",
   "execution_count": 13,
   "id": "adef8edc-13a2-464f-b6d6-05bea950e09f",
   "metadata": {},
   "outputs": [
    {
     "name": "stdout",
     "output_type": "stream",
     "text": [
      "Escriba la primera tanda de números:\n"
     ]
    },
    {
     "name": "stdin",
     "output_type": "stream",
     "text": [
      "Ingrese un número. Si no desea seguir ingresando números, escriba 0 (cero): 2\n",
      "Ingrese un número. Si no desea seguir ingresando números, escriba 0 (cero): 3\n",
      "Ingrese un número. Si no desea seguir ingresando números, escriba 0 (cero): 0\n"
     ]
    },
    {
     "name": "stdout",
     "output_type": "stream",
     "text": [
      "Escriba la segunda tanda de números:\n"
     ]
    },
    {
     "name": "stdin",
     "output_type": "stream",
     "text": [
      "Ingrese un número. Si no desea seguir ingresando números, escriba 0 (cero): 1\n",
      "Ingrese un número. Si no desea seguir ingresando números, escriba 0 (cero): 2\n",
      "Ingrese un número. Si no desea seguir ingresando números, escriba 0 (cero): 3\n",
      "Ingrese un número. Si no desea seguir ingresando números, escriba 0 (cero): 0\n"
     ]
    },
    {
     "name": "stdout",
     "output_type": "stream",
     "text": [
      "Escriba la tercera tanda de números:\n"
     ]
    },
    {
     "name": "stdin",
     "output_type": "stream",
     "text": [
      "Ingrese un número. Si no desea seguir ingresando números, escriba 0 (cero): 1\n",
      "Ingrese un número. Si no desea seguir ingresando números, escriba 0 (cero): 2\n",
      "Ingrese un número. Si no desea seguir ingresando números, escriba 0 (cero): 3\n",
      "Ingrese un número. Si no desea seguir ingresando números, escriba 0 (cero): 4\n",
      "Ingrese un número. Si no desea seguir ingresando números, escriba 0 (cero): 5\n",
      "Ingrese un número. Si no desea seguir ingresando números, escriba 0 (cero): 6\n",
      "Ingrese un número. Si no desea seguir ingresando números, escriba 0 (cero): 0\n"
     ]
    },
    {
     "name": "stdout",
     "output_type": "stream",
     "text": [
      "El máximo es: 21.0\n"
     ]
    }
   ],
   "source": [
    "def suma_numeros():\n",
    "    numero = float(input('Ingrese un número. Si no desea seguir ingresando números, escriba 0 (cero):'))\n",
    "    contador = 0\n",
    "    while numero != 0:\n",
    "        contador += numero\n",
    "        numero = float(input('Ingrese un número. Si no desea seguir ingresando números, escriba 0 (cero):'))\n",
    "    return contador\n",
    "\n",
    "print('Escriba la primera tanda de números:')\n",
    "suma1 = suma_numeros()\n",
    "print('Escriba la segunda tanda de números:')\n",
    "suma2 = suma_numeros()\n",
    "print('Escriba la tercera tanda de números:')\n",
    "suma3 = suma_numeros()\n",
    "\n",
    "print(f'El máximo es:', max(suma1, suma2, suma3))\n"
   ]
  },
  {
   "cell_type": "markdown",
   "id": "f76e829e-22ed-4f42-a009-ade40f214812",
   "metadata": {},
   "source": [
    "Si tienes el siguiente código:\n",
    "\n",
    "def maximo(a,b): \n",
    "\n",
    "   if x>y: \n",
    "       return x \n",
    "   else: \n",
    "       return y \n",
    "\n",
    "def minimo(a,b): \n",
    "\n",
    "   if x<y: \n",
    "       return x \n",
    "   else: \n",
    "       return y \n",
    "\n",
    "x=int(input(\"Un número: \")) \n",
    "\n",
    "y=int(input(\"Otro número: \")) \n",
    "\n",
    "print(maximo(x-3, minimo(x+2, y-5)))\n",
    "\n",
    "Si tienes los valores x = 5 e y = 1 y lo ejecutas, por pantalla mostrará que la solución es 5, pero, realmente, debería mostrar que la solución es 2. El código es erróneo, pero ¿cuál es el error? \n",
    "\n",
    "print(maximo(5-3, minimo(5+2, 1-5)))\n",
    "print(maximo(2, minimo(7, -4)))"
   ]
  },
  {
   "cell_type": "code",
   "execution_count": 18,
   "id": "8e75ed51-1fe3-4351-b591-f4887b01b67e",
   "metadata": {},
   "outputs": [
    {
     "name": "stdout",
     "output_type": "stream",
     "text": [
      "5\n"
     ]
    }
   ],
   "source": [
    "def maximo(a,b): \n",
    "    if x > y: \n",
    "        return x \n",
    "    else: \n",
    "        return y \n",
    "\n",
    "def minimo(a,b):\n",
    "    if x<y: \n",
    "        return x \n",
    "    else: \n",
    "        return y \n",
    "x = 5\n",
    "y = 1\n",
    "# print(maximo(x-3, minimo(x+2, y-5)))\n",
    "print(maximo(5-3, minimo(5+2, 1-5)))\n",
    "# Notar que esta función no hace uso de los argumentos, sino de los valores x e y únicamente"
   ]
  },
  {
   "cell_type": "code",
   "execution_count": 19,
   "id": "0a66be31-3b6c-40b4-8021-66f8baa4b5f1",
   "metadata": {},
   "outputs": [
    {
     "name": "stdout",
     "output_type": "stream",
     "text": [
      "2\n"
     ]
    }
   ],
   "source": [
    "# ejercicio corregido\n",
    "def maximo(x,y): \n",
    "    if x > y: \n",
    "        return x \n",
    "    else: \n",
    "        return y \n",
    "\n",
    "def minimo(x,y):\n",
    "    if x<y: \n",
    "        return x \n",
    "    else: \n",
    "        return y \n",
    "x = 5\n",
    "y = 1\n",
    "\n",
    "print(maximo(x-3, minimo(x+2, y-5)))"
   ]
  },
  {
   "cell_type": "markdown",
   "id": "5296d663-e7a4-45db-9c07-d8d58b968201",
   "metadata": {},
   "source": [
    "### Ejercicio 1.7.17.\n",
    "\n",
    "#### En el ejercicio 1.7.7, has creado una función que calculaba el factorial de un número, pero sin utilizar recursividad. Crea ahora una función que calcule el factorial de un número, utilizando recursividad."
   ]
  },
  {
   "cell_type": "code",
   "execution_count": 25,
   "id": "60fe8a0e-ed12-4433-a689-d4769e23b1bf",
   "metadata": {},
   "outputs": [
    {
     "name": "stdout",
     "output_type": "stream",
     "text": [
      "24\n",
      "720\n",
      "40320\n",
      "1\n",
      "Math ERROR\n"
     ]
    }
   ],
   "source": [
    "def factorial(num):\n",
    "    if num > 0:\n",
    "        return num * factorial(num - 1)\n",
    "    elif num == 0:\n",
    "        return 1\n",
    "    else:\n",
    "        return 'Math ERROR'\n",
    "\n",
    "print(factorial(4))\n",
    "print(factorial(6))\n",
    "print(factorial(8))\n",
    "print(factorial(0))\n",
    "print(factorial(-4))"
   ]
  },
  {
   "cell_type": "markdown",
   "id": "72a1f5be-4b61-44d6-a299-0a4d99b72aac",
   "metadata": {},
   "source": [
    "### Ejercicio 1.7.18.\n",
    "\n",
    "#### Utilizando la función creada en el ejercicio anterior, crea un programa que solicite números al usuario y, mientras este no incluya el número -1, le devuelva el factorial del número introducido y le solicite otro número. Cuando el usuario incluya el número -1, el programa finalizará y le mostrará al usuario de cuántos números ha calculado el factorial. Un ejemplo de ejecución sería:\n",
    "\n",
    "#### Incluye un número (si incluyes el -1 el programa se detiene): 6 \n",
    "\n",
    "#### El factorial de 6 es 720 \n",
    "\n",
    "#### Incluye un número (si incluyes el -1 el programa se detiene): 4 \n",
    "\n",
    "#### El factorial de 4 es 24 \n",
    "\n",
    "#### Incluye un número (si incluyes el -1 el programa se detiene): -1 \n",
    "\n",
    "#### Has calculado el factorial de 2 números. "
   ]
  },
  {
   "cell_type": "code",
   "execution_count": 8,
   "id": "c142ff5c-b2f1-4407-9017-907757b8052a",
   "metadata": {},
   "outputs": [
    {
     "name": "stdin",
     "output_type": "stream",
     "text": [
      "Ingrese un número, si ingresa -1 el programa finalizará: 0\n"
     ]
    },
    {
     "name": "stdout",
     "output_type": "stream",
     "text": [
      "El factorial de 0 es 1\n"
     ]
    },
    {
     "name": "stdin",
     "output_type": "stream",
     "text": [
      "Ingrese un número, si ingresa -1 el programa finalizará: -3\n"
     ]
    },
    {
     "name": "stdout",
     "output_type": "stream",
     "text": [
      "El factorial de -3 es Math ERROR\n"
     ]
    },
    {
     "name": "stdin",
     "output_type": "stream",
     "text": [
      "Ingrese un número, si ingresa -1 el programa finalizará: 4\n"
     ]
    },
    {
     "name": "stdout",
     "output_type": "stream",
     "text": [
      "El factorial de 4 es 24\n"
     ]
    },
    {
     "name": "stdin",
     "output_type": "stream",
     "text": [
      "Ingrese un número, si ingresa -1 el programa finalizará: 5\n"
     ]
    },
    {
     "name": "stdout",
     "output_type": "stream",
     "text": [
      "El factorial de 5 es 120\n"
     ]
    },
    {
     "name": "stdin",
     "output_type": "stream",
     "text": [
      "Ingrese un número, si ingresa -1 el programa finalizará: -1\n"
     ]
    },
    {
     "name": "stdout",
     "output_type": "stream",
     "text": [
      "Has calculado el factorial de 4 número/s. Fin del programa\n"
     ]
    }
   ],
   "source": [
    "def factorial(num):\n",
    "    if num > 0:\n",
    "        return num * factorial(num - 1)\n",
    "    elif num == 0:\n",
    "        return 1\n",
    "    else:\n",
    "        return 'Math ERROR'\n",
    "\n",
    "contador = 0    \n",
    "while True:\n",
    "    nro_usuario = int(input('Ingrese un número, si ingresa -1 el programa finalizará:'))\n",
    "    if nro_usuario == -1:\n",
    "        print(f'Has calculado el factorial de {contador} número/s. Fin del programa')\n",
    "        break\n",
    "    contador += 1    \n",
    "    print(f'El factorial de {nro_usuario} es {factorial(nro_usuario)}')       "
   ]
  },
  {
   "cell_type": "markdown",
   "id": "7bcf63fa-4745-4c08-89a0-2086369e753a",
   "metadata": {},
   "source": [
    "### Ejercicio 1.7.19\n",
    "\n",
    "#### Crea una función que, dado un número, calcule la suma de sus dígitos. "
   ]
  },
  {
   "cell_type": "code",
   "execution_count": 14,
   "id": "e41e7072-0791-4da6-b2f2-2320883d57cd",
   "metadata": {},
   "outputs": [
    {
     "name": "stdout",
     "output_type": "stream",
     "text": [
      "6\n",
      "21\n"
     ]
    }
   ],
   "source": [
    "def suma_digitos(numero):\n",
    "    suma = 0\n",
    "    for digito in str(numero):\n",
    "        suma += int(digito)\n",
    "    print(suma)    \n",
    "\n",
    "suma_digitos(123)      \n",
    "suma_digitos(123456)"
   ]
  },
  {
   "cell_type": "markdown",
   "id": "ac0a9a4e-8193-4971-8555-5a28aec6e750",
   "metadata": {},
   "source": [
    "### Ejercicio 1.7.20.\n",
    "\n",
    "#### Crea una función que, dado un número, compruebe si un número es primo. En caso de que lo sea, la función devolverá True, en caso de que no lo sea, devolverá False."
   ]
  },
  {
   "cell_type": "code",
   "execution_count": 20,
   "id": "d890d251-ee2e-4c3a-8b2d-48c6cc125aa8",
   "metadata": {},
   "outputs": [
    {
     "name": "stdout",
     "output_type": "stream",
     "text": [
      "True\n",
      "False\n",
      "True\n",
      "False\n",
      "True\n"
     ]
    }
   ],
   "source": [
    "# una forma de hacerla, recorriendo hasta el número anterior al numero y comprobando uno a uno los restos.\n",
    "def es_primo(numero):\n",
    "    if numero < 2:\n",
    "        return False\n",
    "    for i in range(2, numero):\n",
    "        if numero % i == 0: # con hallar un divisor distinto de 1 y el mismo número, ya no es primo\n",
    "            return False\n",
    "    return True\n",
    "\n",
    "# Otra forma de hacerlo, pero más eficiente\n",
    "# def es_primo(numero):\n",
    "#     if numero < 2:\n",
    "#         return False\n",
    "#     for i in range(2, int(numero**0.5)+1):\n",
    "#         if numero % i == 0:\n",
    "#             return False\n",
    "#     return True\n",
    "\n",
    "print(es_primo(2))\n",
    "print(es_primo(16))\n",
    "print(es_primo(17))\n",
    "print(es_primo(22))\n",
    "print(es_primo(23))"
   ]
  },
  {
   "cell_type": "markdown",
   "id": "03bef3c8-c365-45b6-954b-e168bf81f1ca",
   "metadata": {},
   "source": [
    "### Ejercicio 1.7.21.\n",
    "\n",
    "#### Utilizando las funciones que has creado en los ejercicios 1.7.17, 1.7.19 y 1.7.20, crea un programa que solicite al usuario que introduzca un número, compruebe si es primo, en ese caso, que calcule la suma de sus dígitos y, en caso contrario, que devuelva su factorial."
   ]
  },
  {
   "cell_type": "code",
   "execution_count": 31,
   "id": "d02be580-e40c-49d4-b9f4-e9d0658c688d",
   "metadata": {},
   "outputs": [
    {
     "name": "stdin",
     "output_type": "stream",
     "text": [
      "Ingrese un número entero: 41\n"
     ]
    },
    {
     "name": "stdout",
     "output_type": "stream",
     "text": [
      "La suma de los digitos de 41 es: 5\n"
     ]
    }
   ],
   "source": [
    "def factorial(num):\n",
    "    if num > 0:\n",
    "        return num * factorial(num - 1)\n",
    "    elif num == 0:\n",
    "        return 1\n",
    "    else:\n",
    "        return 'Math ERROR'\n",
    "\n",
    "def suma_digitos(numero):\n",
    "    suma = 0\n",
    "    for digito in str(numero):\n",
    "        suma += int(digito)\n",
    "    return suma    \n",
    "\n",
    "def es_primo(numero):\n",
    "    if numero < 2:\n",
    "        return False\n",
    "    for i in range(2, numero):\n",
    "        if numero % i == 0:\n",
    "            return False\n",
    "    return True\n",
    "\n",
    "nro_usuario = int(input('Ingrese un número entero:'))\n",
    "\n",
    "if es_primo(nro_usuario):\n",
    "    print(f'La suma de los digitos de {nro_usuario} es: {suma_digitos(nro_usuario)}')\n",
    "else:\n",
    "    print(f'El factorial de {nro_usuario} es: {factorial(nro_usuario)}')\n",
    "        "
   ]
  },
  {
   "cell_type": "markdown",
   "id": "0bd07ca3-d731-4253-9384-d0fc3e333a5c",
   "metadata": {},
   "source": [
    "### Ejercicio 1.7.22.\n",
    "\n",
    "#### Crea un programa que muestre por pantalla cuántos días tiene el mes del año concreto que te indique un usuario. Para ello necesitas crear dos funciones, una de ellas que te devuelva True si el año introducido es bisiesto, y otra que indique el número de días que tiene un mes de un año concreto, ambos introducidos como parámetros.\n",
    "\n",
    "#### Prueba con dos meses y años diferentes"
   ]
  },
  {
   "cell_type": "code",
   "execution_count": 36,
   "id": "43819bfb-31e7-4acf-a229-52bdbbbecf18",
   "metadata": {},
   "outputs": [
    {
     "name": "stdin",
     "output_type": "stream",
     "text": [
      "Introduce el mes (1-12):  4\n",
      "Introduce el año:  2023\n"
     ]
    },
    {
     "name": "stdout",
     "output_type": "stream",
     "text": [
      "El mes 4 del año 2023 tiene 30 días.\n"
     ]
    }
   ],
   "source": [
    "def es_bisiesto(anio):\n",
    "    # Devuelve True si el año introducido es bisiesto, False en caso contrario.\n",
    "    # Cualquier año divisible por 4 es un año bisiesto\n",
    "    return anio % 4 == 0 and (anio % 100 != 0 or anio % 400 == 0)\n",
    "\n",
    "def dias_del_mes(mes, anio):\n",
    "    # Devuelve el número de días que tiene un mes de un año concreto.\n",
    "    if mes == 2:\n",
    "        return 29 if es_bisiesto(anio) else 28\n",
    "    elif mes in [4, 6, 9, 11]:\n",
    "        return 30\n",
    "    else:\n",
    "        return 31\n",
    "\n",
    "# Pedimos al usuario que introduzca el mes y el año\n",
    "mes = int(input(\"Introduce el mes (1-12): \"))\n",
    "anio = int(input(\"Introduce el año: \"))\n",
    "\n",
    "# Mostramos por pantalla el número de días que tiene el año con el mes introducido\n",
    "print(f\"El mes {mes} del año {anio} tiene {dias_del_mes(mes, anio)} días.\")\n"
   ]
  },
  {
   "cell_type": "markdown",
   "id": "5df0590e-b4d1-4a93-971c-133aefa765f3",
   "metadata": {},
   "source": [
    "### Ejercicio 1.8.1.\n",
    "\n",
    "#### Hay una librería preinstalada en Python que permite trabajar con fechas y horas. Impórtala y, con uno de los objetos definidos en ella, que te permite representar fechas, utiliza una función ya definida para mostrar por pantalla la fecha de hoy. "
   ]
  },
  {
   "cell_type": "code",
   "execution_count": 25,
   "id": "d89ec2ce-2391-4949-ac6a-582b1e9494b1",
   "metadata": {},
   "outputs": [
    {
     "name": "stdout",
     "output_type": "stream",
     "text": [
      "2023-04-13 00:55:59.237963\n",
      "2023-04-13\n"
     ]
    }
   ],
   "source": [
    "from datetime import datetime as time\n",
    "\n",
    "fecha_1 = time.today()\n",
    "fecha_2 = date.today()\n",
    "print(fecha_1)\n",
    "print(fecha_2)"
   ]
  },
  {
   "cell_type": "markdown",
   "id": "609abf2b-3c2b-42b3-94ac-5fb849c5375a",
   "metadata": {},
   "source": [
    "### Ejercicio 1.8.2.\n",
    "\n",
    "#### Ahora, importa solo el objeto que te permite representar fechas y, utilizando la misma función del ejercicio anterior, muestra por pantalla la fecha de hoy."
   ]
  },
  {
   "cell_type": "code",
   "execution_count": 19,
   "id": "81f3de16-2ca8-4dde-a7ac-90c480d5f103",
   "metadata": {},
   "outputs": [
    {
     "name": "stdout",
     "output_type": "stream",
     "text": [
      "2023-04-13\n"
     ]
    }
   ],
   "source": [
    "from datetime import date\n",
    "\n",
    "fecha_actual = date.today()\n",
    "print(fecha_actual)"
   ]
  },
  {
   "cell_type": "markdown",
   "id": "de3df872-91d3-4038-a712-fab14ce91970",
   "metadata": {},
   "source": [
    "### Ejercicio 1.8.3.\n",
    "\n",
    "#### Utilizando el mismo objeto del ejercicio anterior, data la fecha (2023, 11, 25) y sustitúyela por la fecha (2023, 12, 26) utilizando el método replace, ya definido en ese objeto."
   ]
  },
  {
   "cell_type": "code",
   "execution_count": 23,
   "id": "8580c3d9-4877-4f59-ba99-8dcedacc87bc",
   "metadata": {},
   "outputs": [
    {
     "name": "stdout",
     "output_type": "stream",
     "text": [
      "2023-11-25\n",
      "2023-12-26\n"
     ]
    }
   ],
   "source": [
    "from datetime import date\n",
    "\n",
    "fecha = date(2023, 11, 25)\n",
    "fecha_corregida = fecha.replace(2023, 12, 26)\n",
    "print(fecha)\n",
    "print(fecha_corregida)"
   ]
  },
  {
   "cell_type": "markdown",
   "id": "b5075fdd-6aa3-47c5-b24a-7dcf231f4f95",
   "metadata": {},
   "source": [
    "### Ejercicio 1.8.4.\n",
    "\n",
    "#### ¿Qué función de la librería random utilizarías si quieres generar un número decimal aleatorio entre 0.0 y 1.0?"
   ]
  },
  {
   "cell_type": "code",
   "execution_count": 93,
   "id": "fa31364f-ed55-4fee-8b16-5ce3e60f6673",
   "metadata": {},
   "outputs": [
    {
     "name": "stdout",
     "output_type": "stream",
     "text": [
      "0.5373\n",
      "0.2948\n",
      "0.5766\n",
      "0.9424\n"
     ]
    }
   ],
   "source": [
    "import random as ran\n",
    "\n",
    "def generar_nro_aleatorio():\n",
    "    nro = round(ran.random(), 4)\n",
    "    print(nro)\n",
    "    \n",
    "generar_nro_aleatorio()\n",
    "generar_nro_aleatorio()\n",
    "generar_nro_aleatorio()\n",
    "generar_nro_aleatorio()"
   ]
  },
  {
   "cell_type": "markdown",
   "id": "fd30b0cc-478a-4b5b-9115-de1e21aace9a",
   "metadata": {},
   "source": [
    "### Ejercicio 1.8.5.\n",
    "\n",
    "#### Y si lo que quieres es generar un número decimal aleatorio entre 4 y 6, ¿qué función de la librería random utilizarías? Y si el número no es decimal, sino entero, ¿utilizarías una función diferente?\n"
   ]
  },
  {
   "cell_type": "code",
   "execution_count": 95,
   "id": "9ddaa920-c3db-4306-97f3-30ee8729522b",
   "metadata": {},
   "outputs": [
    {
     "name": "stdout",
     "output_type": "stream",
     "text": [
      "5.247096499984588\n",
      "4\n"
     ]
    }
   ],
   "source": [
    "import random as ran\n",
    "\n",
    "# para número decimal aleatorio entre 4 y 6\n",
    "nro_decimal_aleatorio = ran.uniform(4,6)\n",
    "print(nro_decimal_aleatorio)\n",
    "\n",
    "# para número entero aleatorio entre 4 y 6\n",
    "nro_entero_aleatorio = ran.randint(4,6)\n",
    "print(nro_entero_aleatorio)"
   ]
  },
  {
   "cell_type": "markdown",
   "id": "03f86f68-f210-4761-8413-8aec7d400a0f",
   "metadata": {},
   "source": [
    "### Ejercicio 1.8.6.\n",
    "\n",
    "#### ¿Qué librería preinstalada en Python te permite trabajar con archivos ZIP?"
   ]
  },
  {
   "cell_type": "markdown",
   "id": "4bc450c9-2937-48ca-9ca6-08796f916821",
   "metadata": {},
   "source": [
    "#### *`zipfile`*\n",
    "\n",
    "Tomado de la documentación oficial de Python, Python.org, zipfile permite trabajar con archivos ZIP. \n",
    "\"Este módulo proporciona herramientas para crear, leer, escribir, agregar y listar un archivo ZIP\"."
   ]
  },
  {
   "cell_type": "markdown",
   "id": "0dd809c1-1ad2-45f7-9546-5a0815660c2f",
   "metadata": {},
   "source": [
    "### Ejercicio 1.8.7.\n",
    "\n",
    "#### ¿Qué librería preinstalada en Python te permite leer y escribir archivos csv?"
   ]
  },
  {
   "cell_type": "markdown",
   "id": "87436308-2be2-433c-9243-d637e2872874",
   "metadata": {},
   "source": [
    "#### *`CSV`*\n",
    "\n",
    "La librería CSV (Comma Separated Values) permite leer y escribir archivos csv"
   ]
  }
 ],
 "metadata": {
  "kernelspec": {
   "display_name": "Python 3 (ipykernel)",
   "language": "python",
   "name": "python3"
  },
  "language_info": {
   "codemirror_mode": {
    "name": "ipython",
    "version": 3
   },
   "file_extension": ".py",
   "mimetype": "text/x-python",
   "name": "python",
   "nbconvert_exporter": "python",
   "pygments_lexer": "ipython3",
   "version": "3.9.13"
  }
 },
 "nbformat": 4,
 "nbformat_minor": 5
}
