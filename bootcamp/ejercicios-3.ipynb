{
 "cells": [
  {
   "cell_type": "markdown",
   "id": "d3eaf3ca-206d-46fe-91b1-4f492735eac9",
   "metadata": {},
   "source": [
    "# **`Ejercicios 3: Listas`**"
   ]
  },
  {
   "cell_type": "markdown",
   "id": "d0c1d811-bdb8-425b-99eb-fa84cfd0a33e",
   "metadata": {},
   "source": [
    "### Ejercicio 1.5.1.\n",
    "\n",
    "#### Crea un programa que almacene los colores rojo, verde, amarillo, azul y blanco en una lista y los muestre por pantalla."
   ]
  },
  {
   "cell_type": "code",
   "execution_count": 1,
   "id": "8228faed-c762-4f8b-92c2-d2ca89e4bfeb",
   "metadata": {},
   "outputs": [
    {
     "name": "stdout",
     "output_type": "stream",
     "text": [
      "['rojo', 'verde', 'amarillo', 'azul', 'blanco']\n"
     ]
    }
   ],
   "source": [
    "colores = ['rojo', 'verde', 'amarillo', 'azul', 'blanco']\n",
    "print(colores)"
   ]
  },
  {
   "cell_type": "markdown",
   "id": "88867262-c54d-4154-92de-0a8b127a9977",
   "metadata": {},
   "source": [
    "### *Ejercicio 1.5.2.*\n",
    "\n",
    "#### Crea un programa que escriba por pantalla el color verde de la lista anterior."
   ]
  },
  {
   "cell_type": "code",
   "execution_count": 2,
   "id": "56bcdcad-6549-4a20-bef0-b786918f7773",
   "metadata": {},
   "outputs": [
    {
     "name": "stdout",
     "output_type": "stream",
     "text": [
      "verde\n"
     ]
    }
   ],
   "source": [
    "print(colores[1])"
   ]
  },
  {
   "cell_type": "markdown",
   "id": "e37491ad-14ae-476e-9580-b506be0696e4",
   "metadata": {},
   "source": [
    "### Ejercicio 1.5.3.\n",
    "\n",
    "#### Crea un programa que escriba por pantalla el color azul de la lista anterior, pero, esta vez, muestra cómo hacerlo de dos formas diferentes, una con el índice en positivo y otra con el índice en negativo."
   ]
  },
  {
   "cell_type": "code",
   "execution_count": 3,
   "id": "53cfaf83-2f1e-45fc-8c14-d2fa133b3bf8",
   "metadata": {},
   "outputs": [
    {
     "name": "stdout",
     "output_type": "stream",
     "text": [
      "azul\n",
      "azul\n"
     ]
    }
   ],
   "source": [
    "print(colores[3])\n",
    "print(colores[-2])"
   ]
  },
  {
   "cell_type": "markdown",
   "id": "8cc4c4cb-4209-4bce-af94-beffe7e57c86",
   "metadata": {},
   "source": [
    "### *Ejercicio 1.5.5.*\n",
    "\n",
    "#### Crea un programa que añada a la lista [\"rojo\",\"verde\",\"amarillo\",\"azul\",\"blanco\"] el color negro."
   ]
  },
  {
   "cell_type": "code",
   "execution_count": 4,
   "id": "1c334061-9b7e-4050-9241-41790c823bda",
   "metadata": {},
   "outputs": [
    {
     "name": "stdout",
     "output_type": "stream",
     "text": [
      "['rojo', 'verde', 'amarillo', 'azul', 'blanco', 'negro']\n"
     ]
    }
   ],
   "source": [
    "colores = ['rojo', 'verde', 'amarillo', 'azul', 'blanco']\n",
    "colores.append('negro')\n",
    "print(colores)"
   ]
  },
  {
   "cell_type": "markdown",
   "id": "ceb9787a-68dc-4677-8851-bbe3a8595a8b",
   "metadata": {},
   "source": [
    "### *Ejercicio 1.5.6.*\n",
    "\n",
    "#### Crea un programa que construya una lista que contenga los números del 1 al 10 y muéstrala por pantalla."
   ]
  },
  {
   "cell_type": "code",
   "execution_count": 5,
   "id": "9bfbaeef-a8ae-493a-a849-61faa1095a52",
   "metadata": {},
   "outputs": [
    {
     "name": "stdout",
     "output_type": "stream",
     "text": [
      "[1, 2, 3, 4, 5, 6, 7, 8, 9, 10]\n"
     ]
    }
   ],
   "source": [
    "numeros = [num for num in range(1,11)]\n",
    "print(numeros)"
   ]
  },
  {
   "cell_type": "markdown",
   "id": "18b30174-e4c0-40e7-ae67-5ed16999c964",
   "metadata": {},
   "source": [
    "### *Ejercicio 1.5.7.*\n",
    "\n",
    "#### Crea una lista, como la anterior, pero esta vez que contenga los 10 números siguientes a un número dado por el usuario. Si, por ejemplo, el usuario introduce el número 10, la lista será [11, 12, 13, 14, 15, 16, 17, 18, 19, 20]."
   ]
  },
  {
   "cell_type": "code",
   "execution_count": 12,
   "id": "a8a78c66-34fe-4a08-9263-836e1e6ee394",
   "metadata": {},
   "outputs": [
    {
     "name": "stdin",
     "output_type": "stream",
     "text": [
      "Introduce un número entero: 80\n"
     ]
    },
    {
     "name": "stdout",
     "output_type": "stream",
     "text": [
      "[81, 82, 83, 84, 85, 86, 87, 88, 89, 90]\n"
     ]
    }
   ],
   "source": [
    "num_usuario = int(input('Introduce un número entero:'))\n",
    "numeros_usuario = [num for num in range(num_usuario + 1, num_usuario + 11)]\n",
    "print(numeros_usuario)"
   ]
  },
  {
   "cell_type": "markdown",
   "id": "ac9c2b8e-5462-4ba3-a997-55265f96741b",
   "metadata": {},
   "source": [
    "### *Ejercicio 1.5.8.*\n",
    "\n",
    "#### Crea un programa que, partiendo de una lista con las siguientes películas: El Padrino, Tiburón, Los Cazafantasmas, El Exorcista, Pulp Fiction, Star Wars, pregunte al usuario qué puntuación entre 1 y 10 le daría a cada una. Después, muestra por pantalla el mensaje “Las películas aprobadas son: “, seguido de la lista de películas con una puntuación mayor o igual a 5."
   ]
  },
  {
   "cell_type": "code",
   "execution_count": 13,
   "id": "708beee3-56a2-4f4a-9694-99c425200b73",
   "metadata": {},
   "outputs": [
    {
     "name": "stdout",
     "output_type": "stream",
     "text": [
      "Qué te parece \"El padrino?\n"
     ]
    },
    {
     "name": "stdin",
     "output_type": "stream",
     "text": [
      "¿Qué puntaje le darías del 1 al 10?: 1\n"
     ]
    },
    {
     "name": "stdout",
     "output_type": "stream",
     "text": [
      "Qué te parece \"Tiburón?\n"
     ]
    },
    {
     "name": "stdin",
     "output_type": "stream",
     "text": [
      "¿Qué puntaje le darías del 1 al 10?: 1\n"
     ]
    },
    {
     "name": "stdout",
     "output_type": "stream",
     "text": [
      "Qué te parece \"Los cazafantasmas?\n"
     ]
    },
    {
     "name": "stdin",
     "output_type": "stream",
     "text": [
      "¿Qué puntaje le darías del 1 al 10?: 1\n"
     ]
    },
    {
     "name": "stdout",
     "output_type": "stream",
     "text": [
      "Qué te parece \"El exorcista?\n"
     ]
    },
    {
     "name": "stdin",
     "output_type": "stream",
     "text": [
      "¿Qué puntaje le darías del 1 al 10?: 1\n"
     ]
    },
    {
     "name": "stdout",
     "output_type": "stream",
     "text": [
      "Qué te parece \"Pulp Fiction?\n"
     ]
    },
    {
     "name": "stdin",
     "output_type": "stream",
     "text": [
      "¿Qué puntaje le darías del 1 al 10?: 1\n"
     ]
    },
    {
     "name": "stdout",
     "output_type": "stream",
     "text": [
      "Qué te parece \"Star Wars?\n"
     ]
    },
    {
     "name": "stdin",
     "output_type": "stream",
     "text": [
      "¿Qué puntaje le darías del 1 al 10?: 1\n"
     ]
    },
    {
     "name": "stdout",
     "output_type": "stream",
     "text": [
      "Las peliculas aprobadas son:\n",
      "Ninguna porque no te gustó el listado de películas\n"
     ]
    }
   ],
   "source": [
    "peliculas = ['El padrino', 'Tiburón', 'Los cazafantasmas', 'El exorcista', 'Pulp Fiction', 'Star Wars']\n",
    "peliculas_aprobadas = []\n",
    "\n",
    "for pelicula in peliculas:\n",
    "    print(f'Qué te parece \"{pelicula}?')\n",
    "    calificacion = int(input('¿Qué puntaje le darías del 1 al 10?:'))\n",
    "    while calificacion > 10 or calificacion <= 0:\n",
    "        calificacion = int(input('Debes ingresar una califición del 1 al 10. ¿Qué puntaje le darías?:'))\n",
    "    if calificacion >= 5:\n",
    "        peliculas_aprobadas.append(pelicula)\n",
    "\n",
    "print('Las peliculas aprobadas son:')\n",
    "\n",
    "if len(peliculas_aprobadas) == 0:\n",
    "    print('Ninguna porque no te gustó el listado de películas')\n",
    "    \n",
    "for i, aprobada in enumerate(peliculas_aprobadas):\n",
    "    print(f'{i+1} - {aprobada}')\n",
    "    "
   ]
  },
  {
   "cell_type": "markdown",
   "id": "170343c9-e839-4a0d-820d-4439d4622eed",
   "metadata": {},
   "source": [
    "### *Ejercicio 1.5.9.*\n",
    "\n",
    "#### Repite el ejercicio anterior, pero, esta vez, crea la lista resultado eliminando de la lista principal las películas que no han obtenido una nota de 5 o superior."
   ]
  },
  {
   "cell_type": "code",
   "execution_count": 18,
   "id": "af685470-4f8e-4160-ad89-746ca02738bf",
   "metadata": {},
   "outputs": [
    {
     "name": "stdout",
     "output_type": "stream",
     "text": [
      "Qué te parece \"El padrino?\n"
     ]
    },
    {
     "name": "stdin",
     "output_type": "stream",
     "text": [
      "¿Qué puntaje le darías del 1 al 10?: 2\n"
     ]
    },
    {
     "name": "stdout",
     "output_type": "stream",
     "text": [
      "Qué te parece \"Tiburón?\n"
     ]
    },
    {
     "name": "stdin",
     "output_type": "stream",
     "text": [
      "¿Qué puntaje le darías del 1 al 10?: 3\n"
     ]
    },
    {
     "name": "stdout",
     "output_type": "stream",
     "text": [
      "Qué te parece \"Los cazafantasmas?\n"
     ]
    },
    {
     "name": "stdin",
     "output_type": "stream",
     "text": [
      "¿Qué puntaje le darías del 1 al 10?: 10\n"
     ]
    },
    {
     "name": "stdout",
     "output_type": "stream",
     "text": [
      "Qué te parece \"El exorcista?\n"
     ]
    },
    {
     "name": "stdin",
     "output_type": "stream",
     "text": [
      "¿Qué puntaje le darías del 1 al 10?: 4\n"
     ]
    },
    {
     "name": "stdout",
     "output_type": "stream",
     "text": [
      "Qué te parece \"Pulp Fiction?\n"
     ]
    },
    {
     "name": "stdin",
     "output_type": "stream",
     "text": [
      "¿Qué puntaje le darías del 1 al 10?: 1\n"
     ]
    },
    {
     "name": "stdout",
     "output_type": "stream",
     "text": [
      "Qué te parece \"Star Wars?\n"
     ]
    },
    {
     "name": "stdin",
     "output_type": "stream",
     "text": [
      "¿Qué puntaje le darías del 1 al 10?: 9\n"
     ]
    },
    {
     "name": "stdout",
     "output_type": "stream",
     "text": [
      "Las peliculas aprobadas son:\n",
      "1 - Los cazafantasmas\n",
      "2 - Star Wars\n",
      "Lista resultado: ['Los cazafantasmas', 'Star Wars']\n",
      "Lista peliculas: ['El padrino', 'Tiburón', 'Los cazafantasmas', 'El exorcista', 'Pulp Fiction', 'Star Wars']\n",
      "Lista peliculas actualizada: ['Los cazafantasmas', 'Star Wars']\n"
     ]
    }
   ],
   "source": [
    "peliculas = ['El padrino', 'Tiburón', 'Los cazafantasmas', 'El exorcista', 'Pulp Fiction', 'Star Wars']\n",
    "resultado = []\n",
    "\n",
    "for pelicula in peliculas:\n",
    "    print(f'Qué te parece \"{pelicula}?')\n",
    "    calificacion = int(input('¿Qué puntaje le darías del 1 al 10?:'))\n",
    "    while calificacion > 10 or calificacion <= 0:\n",
    "        calificacion = int(input('Debes ingresar una califición del 1 al 10. ¿Qué puntaje le darías?:'))    \n",
    "    if calificacion >= 5:\n",
    "        resultado.append(pelicula)\n",
    "\n",
    "print('Las peliculas aprobadas son:')\n",
    "\n",
    "if len(resultado) == 0:\n",
    "    print('Ninguna porque no te gustó el listado de películas')\n",
    "    \n",
    "for i, aprobada in enumerate(resultado):\n",
    "    print(f'{i+1} - {aprobada}')\n",
    "\n",
    "print('Lista resultado:', resultado)    \n",
    "print('Lista peliculas:', peliculas)\n",
    "peliculas = resultado #Actualizando el listado original de peliculas, por las películas aprobadas guardadas en la lista resultado.\n",
    "# Quedan eliminadas de la lista películas aquellas con calificación menor a 5\n",
    "print('Lista peliculas actualizada:', peliculas)"
   ]
  },
  {
   "cell_type": "markdown",
   "id": "6b9a2a3b-8599-4e11-9175-748f9aa67bae",
   "metadata": {},
   "source": [
    "#### *Ejercicio 1.5.11.*\n",
    "\n",
    "#### Crea un programa que elimine los elementos duplicados que haya en una lista. Por ejemplo, si tienes la lista [\"rojo\",\"verde\",\"amarillo\",\"azul\",\"blanco\",\"verde\",\"rojo\"], el resultado que aparecerá en pantalla será [\"rojo\",\"verde\",\"amarillo\",\"azul\",\"blanco]."
   ]
  },
  {
   "cell_type": "code",
   "execution_count": 37,
   "id": "f7daa0f4-19c3-4e9c-842f-7d2a3b7dd38e",
   "metadata": {},
   "outputs": [
    {
     "name": "stdout",
     "output_type": "stream",
     "text": [
      "['azul', 'rojo', 'verde', 'amarillo', 'blanco']\n",
      "['rojo', 'verde', 'amarillo', 'azul', 'blanco']\n",
      "['rojo', 'verde', 'amarillo', 'azul', 'blanco']\n"
     ]
    }
   ],
   "source": [
    "# usando set (la que vamos a ver en la próxima clase)\n",
    "colores = [\"rojo\",\"verde\",\"amarillo\",\"azul\",\"blanco\",\"verde\",\"rojo\"]\n",
    "colores_no_duplicados = [color for color in set(colores)]\n",
    "print(colores_no_duplicados)\n",
    "\n",
    "# usando una lista vacia y agregando los colores con un for\n",
    "colores = [\"rojo\",\"verde\",\"amarillo\",\"azul\",\"blanco\",\"verde\",\"rojo\"]\n",
    "colores_no_duplicados = []\n",
    "for color in colores:\n",
    "    if color not in colores_no_duplicados:\n",
    "        colores_no_duplicados.append(color)\n",
    "        \n",
    "print(colores_no_duplicados)        \n",
    "\n",
    "# usando la técnica prohíbida de Python, el último recurso de listas y diccionarios combinados\n",
    "colores = [\"rojo\",\"verde\",\"amarillo\",\"azul\",\"blanco\",\"verde\",\"rojo\"]\n",
    "colores_no_duplicados = list(dict.fromkeys(colores))\n",
    "print(colores_no_duplicados)\n"
   ]
  },
  {
   "cell_type": "markdown",
   "id": "03a5c96c-7eb0-480b-9e60-d8a65fe90fb3",
   "metadata": {},
   "source": [
    "### *Ejercicio 1.5.12.*\n",
    "\n",
    "#### Crea un programa en el que se recorra una lista y si uno de los elementos aparece solo una vez, se incluya dicho elemento para que aparezca al menos dos veces. \n",
    "#### Puedes utilizar la lista colores = ['rojo', 'verde', 'amarillo', 'azul', 'blanco', 'verde', 'rojo', 'rojo', 'verde'], \n",
    "#### donde el resultado sería ['rojo', 'verde', 'amarillo', 'azul', 'blanco', 'verde', 'rojo', 'rojo', 'verde', 'amarillo', 'azul', 'blanco']"
   ]
  },
  {
   "cell_type": "code",
   "execution_count": 1,
   "id": "52750106-bbc9-4981-b359-9e486c7c9dc7",
   "metadata": {},
   "outputs": [
    {
     "name": "stdout",
     "output_type": "stream",
     "text": [
      "['rojo', 'verde', 'amarillo', 'azul', 'blanco', 'verde', 'rojo', 'rojo', 'verde', 'amarillo', 'azul', 'blanco']\n"
     ]
    }
   ],
   "source": [
    "colores = ['rojo', 'verde', 'amarillo', 'azul', 'blanco', 'verde', 'rojo', 'rojo', 'verde']\n",
    "for color in colores:\n",
    "    if colores.count(color) == 1:\n",
    "        colores.append(color)\n",
    "print(colores)        \n"
   ]
  },
  {
   "cell_type": "markdown",
   "id": "aba92e23-871e-4d9d-88df-521aaa8e7986",
   "metadata": {},
   "source": [
    "### *Ejercicio 1.5.13.*\n",
    "\n",
    "#### Utiliza como base el programa creado en el ejercicio anterior y, en este caso, devuelve la lista ordenada alfabéticamente."
   ]
  },
  {
   "cell_type": "code",
   "execution_count": 9,
   "id": "10656301-4f80-43a1-9220-08c479443c87",
   "metadata": {},
   "outputs": [
    {
     "name": "stdout",
     "output_type": "stream",
     "text": [
      "['amarillo', 'amarillo', 'azul', 'azul', 'blanco', 'blanco', 'rojo', 'rojo', 'rojo', 'verde', 'verde', 'verde']\n"
     ]
    }
   ],
   "source": [
    "colores = ['rojo', 'verde', 'amarillo', 'azul', 'blanco', 'verde', 'rojo', 'rojo', 'verde']\n",
    "for color in colores:\n",
    "    if colores.count(color) == 1:\n",
    "        colores.append(color)\n",
    "\n",
    "colores.sort()        \n",
    "print(colores)    "
   ]
  },
  {
   "cell_type": "markdown",
   "id": "c4e40d04-1ac7-4a97-a28d-2f7f7727d463",
   "metadata": {},
   "source": [
    "### *Ejercicio 1.5.14.*\n",
    "\n",
    "#### Si tienes la lista numero = [25, 3, 16, 2, 21, 18, 1] y tienes la lista elementos = [“casa”, “avión”, “camino”, “barco”, “animal”], crea un programa que devuelva una sola lista que contenga los elementos de ambas ordenados de forma decreciente. Uno de los dos resultados posibles sería: [25, 21, 18, 16, 3, 2, 1, 'casa', 'camino', 'barco', 'avión', 'animal']."
   ]
  },
  {
   "cell_type": "code",
   "execution_count": 16,
   "id": "afa0b91b-2e35-44b0-abc4-601c66d8f1d9",
   "metadata": {},
   "outputs": [
    {
     "name": "stdout",
     "output_type": "stream",
     "text": [
      "[25, 21, 18, 16, 3, 2, 1, 'casa', 'camino', 'barco', 'avión', 'animal']\n"
     ]
    }
   ],
   "source": [
    "numeros = [25, 3, 16, 2, 21, 18, 1]\n",
    "elementos = ['casa', 'avión', 'camino', 'barco', 'animal']\n",
    "numeros.sort(reverse = True)\n",
    "elementos.sort(reverse = True)\n",
    "numeros_elementos = numeros + elementos\n",
    "print(numeros_elementos)"
   ]
  },
  {
   "cell_type": "markdown",
   "id": "80b40de9-7ecf-4f24-8da2-7f1da0da1d33",
   "metadata": {},
   "source": [
    "### Ejercicio 1.5.15.\n",
    "\n",
    "#### Crea un programa en el que pidas al usuario que introduzca un color y, si el color está en la lista [\"rojo\",\"verde\",\"amarillo\",\"azul\",\"blanco\",\"negro\"], que devuelva la posición en la que se encuentra dicho color seguido de la frase “El color xxxx está en la posición:”, si el color no está en la lista, devolverá la frase “El color xxxx no está en la lista”.\n",
    "\n",
    "#### Prueba a ejecutarlo con un color que esté en la lista y otro que no esté"
   ]
  },
  {
   "cell_type": "code",
   "execution_count": 31,
   "id": "7b0eed7a-e99f-4ac6-94d8-86ca1f1bf4db",
   "metadata": {},
   "outputs": [
    {
     "name": "stdin",
     "output_type": "stream",
     "text": [
      "Introduce un color: naranja atardecer\n"
     ]
    },
    {
     "name": "stdout",
     "output_type": "stream",
     "text": [
      "El color naranja atardecer no está en la lista\n"
     ]
    }
   ],
   "source": [
    "color_usuario = input('Introduce un color:').lower()\n",
    "lista = [\"rojo\",\"verde\",\"amarillo\",\"azul\",\"blanco\",\"negro\"]\n",
    "\n",
    "if color_usuario in lista:\n",
    "    print(f'El color {color_usuario} está en la posicion {lista.index(color_usuario)}')\n",
    "if color_usuario not in lista:\n",
    "    print(f'El color {color_usuario} no está en la lista')"
   ]
  },
  {
   "cell_type": "markdown",
   "id": "10d30eaa-4dfc-4aa5-85d0-341c5ab16dc2",
   "metadata": {},
   "source": [
    "### *Ejercicio 1.5.16.*\n",
    "\n",
    "#### Crea un programa que pida un número al usuario entre el 1 y el 30 e inserte ese número en la lista [1, 2, 3, 16, 18, 21, 25] en el orden que corresponda, siempre que el número no esté ya en la lista. Si el número está en la lista que devuelva el mensaje “El número x ya está en la lista.”."
   ]
  },
  {
   "cell_type": "code",
   "execution_count": 44,
   "id": "194b8990-8eeb-4894-a389-a9904b8f23ce",
   "metadata": {},
   "outputs": [
    {
     "name": "stdin",
     "output_type": "stream",
     "text": [
      "Ingrese un número entre el 1 y el 30, pudiendo ser 1 o 30, o cualquiera entre ellos: 0\n",
      "Ingrese un número entre el 1 y el 30, pudiendo ser 1 o 30, o cualquiera entre ellos: 31\n",
      "Ingrese un número entre el 1 y el 30, pudiendo ser 1 o 30, o cualquiera entre ellos: -10\n",
      "Ingrese un número entre el 1 y el 30, pudiendo ser 1 o 30, o cualquiera entre ellos: 15\n"
     ]
    },
    {
     "name": "stdout",
     "output_type": "stream",
     "text": [
      "[1, 2, 3, 15, 16, 18, 21, 25]\n"
     ]
    }
   ],
   "source": [
    "lista = [1, 2, 3, 16, 18, 21, 25]\n",
    "\n",
    "numero_usuario = int(input('Ingrese un número entre el 1 y el 30, pudiendo ser 1 o 30, o cualquiera entre ellos:'))\n",
    "\n",
    "while numero_usuario > 30 or numero_usuario < 1:\n",
    "    numero_usuario = int(input('Ingrese un número entre el 1 y el 30, pudiendo ser 1 o 30, o cualquiera entre ellos:'))\n",
    "\n",
    "if numero_usuario in lista:\n",
    "    print(f'\"El número {numero_usuario} ya está en la lista.\"')\n",
    "else:\n",
    "    lista.append(numero_usuario)\n",
    "    lista.sort()\n",
    "    print(lista)\n",
    "        "
   ]
  },
  {
   "cell_type": "markdown",
   "id": "bb4302ce-f5af-41ac-85b2-1e20200c2b7a",
   "metadata": {},
   "source": [
    "### *Ejercicio 1.5.17.*\n",
    "\n",
    "#### Crea un programa que solicite al usuario que introduzca un número y, utilizando listas, indícale si dicho número es capicúa."
   ]
  },
  {
   "cell_type": "code",
   "execution_count": 42,
   "id": "76b8fec6-5b3f-4290-b307-402693219761",
   "metadata": {},
   "outputs": [
    {
     "name": "stdin",
     "output_type": "stream",
     "text": [
      "Ingrese un número: 123454321\n"
     ]
    },
    {
     "name": "stdout",
     "output_type": "stream",
     "text": [
      "El número 123454321 es capicúa\n"
     ]
    },
    {
     "name": "stdin",
     "output_type": "stream",
     "text": [
      "Ingrese un número 1221\n"
     ]
    },
    {
     "name": "stdout",
     "output_type": "stream",
     "text": [
      "El número es capicúa\n"
     ]
    }
   ],
   "source": [
    "# De una forma\n",
    "numero = input('Ingrese un número:')\n",
    "numero_invertido = numero[::-1] \n",
    "\n",
    "if numero == numero_invertido:\n",
    "    print(f'El número {numero} es capicúa')\n",
    "else:\n",
    "    print(f'El número {numero} no es capicúa')\n",
    "\n",
    "# # De otra forma    \n",
    "lista = list(input('Ingrese un número'))\n",
    "lista_copia = lista.copy()\n",
    "lista_copia.reverse() # retorna None por eso no puede guardarse en una variable\n",
    "\n",
    "if lista == lista_copia:\n",
    "    print('El número es capicúa')\n",
    "else:\n",
    "    print('El número no es capicúa')\n"
   ]
  }
 ],
 "metadata": {
  "kernelspec": {
   "display_name": "Python 3 (ipykernel)",
   "language": "python",
   "name": "python3"
  },
  "language_info": {
   "codemirror_mode": {
    "name": "ipython",
    "version": 3
   },
   "file_extension": ".py",
   "mimetype": "text/x-python",
   "name": "python",
   "nbconvert_exporter": "python",
   "pygments_lexer": "ipython3",
   "version": "3.9.13"
  }
 },
 "nbformat": 4,
 "nbformat_minor": 5
}
