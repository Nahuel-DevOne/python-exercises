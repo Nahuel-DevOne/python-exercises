{
 "cells": [
  {
   "cell_type": "markdown",
   "id": "f659783d-7056-411e-9c22-87deef11dcba",
   "metadata": {},
   "source": [
    "# **`Ejercicios 4: tuplas, diccionarios y sets... + listas`**"
   ]
  },
  {
   "cell_type": "markdown",
   "id": "8d307e24-12e3-4cd9-8895-a93a03f5db04",
   "metadata": {},
   "source": [
    "### *Ejercicio 1.6.1.*\n",
    "\n",
    "#### Crea un programa que, teniendo una tupla que contiene los meses del año, devuelva el mes que está guardado en una posición introducida por el usuario."
   ]
  },
  {
   "cell_type": "code",
   "execution_count": 13,
   "id": "6db2a850-f050-4176-98e0-ffbe7847afdc",
   "metadata": {},
   "outputs": [
    {
     "name": "stdin",
     "output_type": "stream",
     "text": [
      "Ingrese un número entero entre 0 y 11, para que se le devuelva el mes correspondiente: 2\n"
     ]
    },
    {
     "name": "stdout",
     "output_type": "stream",
     "text": [
      "En la posición 2 se encuentra el mes: Marzo\n"
     ]
    }
   ],
   "source": [
    "meses = ('Enero', 'Febrero', 'Marzo', 'Abril', 'Mayo', 'Junio', 'Julio', 'Agosto', 'Septiembre', 'Octubre', 'Noviembre', 'Diciembre')\n",
    "posicion = int(input('Ingrese un número entero entre 0 y 11, para que se le devuelva el mes correspondiente:'))\n",
    "\n",
    "while posicion >= 12 or posicion < 0:\n",
    "    posicion = int(input('Ingrese un número entero entre 0 y 11, para que se le devuelva el mes correspondiente:'))\n",
    "\n",
    "mes = meses[posicion]    \n",
    "print(f'En la posición {posicion} se encuentra el mes: {mes}')    "
   ]
  },
  {
   "cell_type": "markdown",
   "id": "9c0afc6f-9c1b-413e-94f9-4cc26b613c11",
   "metadata": {},
   "source": [
    "### *Ejercicio 1.6.2.*\n",
    "\n",
    "#### Si tienes la tupla numeros = (5, 6, 4, 8, 19, 0, 4, 6, 6, 5, 4, 8, 3, 5, 6, 0), crea un programa que le solicite al usuario un número y le indique cuántas veces está ese número en la tupla."
   ]
  },
  {
   "cell_type": "code",
   "execution_count": 24,
   "id": "cf109659-bbcd-4705-a11c-b579654aec5e",
   "metadata": {},
   "outputs": [
    {
     "name": "stdin",
     "output_type": "stream",
     "text": [
      "Ingrese un número entero: 0\n"
     ]
    },
    {
     "name": "stdout",
     "output_type": "stream",
     "text": [
      "El número 0 se encuentra: 2 veces\n",
      "El número 0 se encuentra: 2 veces\n"
     ]
    }
   ],
   "source": [
    "numeros = (5, 6, 4, 8, 19, 0, 4, 6, 6, 5, 4, 8, 3, 5, 6, 0)\n",
    "numero_usuario = int(input('Ingrese un número entero:'))\n",
    "contador = 0\n",
    "\n",
    "for num in numeros:\n",
    "    if num == numero_usuario:\n",
    "        contador += 1\n",
    "\n",
    "if contador > 0 :    \n",
    "    print(f'El número {numero_usuario} se encuentra: {contador} veces')  \n",
    "else:\n",
    "    print(f'El número {numero_usuario} no se encuentra en la tupla números')\n",
    "\n",
    "# lo mismo de otra manera más corta:\n",
    "# no requiere de la variable auxiliar contador, por lo tanto tampoco del for ni los if - else\n",
    "# solo usa la tupla numeros y la entrada numero_usuario\n",
    "print(f'El número {numero_usuario} se encuentra:', numeros.count(numero_usuario), 'veces')"
   ]
  },
  {
   "cell_type": "markdown",
   "id": "db5f4773-fd11-40e9-b865-f43b2fbb8c34",
   "metadata": {},
   "source": [
    "### Ejercicio 1.6.3.\n",
    "\n",
    "#### Si tienes la tupla numeros anterior, numeros = (5, 6, 4, 8, 19, 0, 4, 6, 6, 5, 4, 8, 3, 5, 6, 0), crea un programa que la recorra y te devuelva el máximo valor de la tupla y el mínimo."
   ]
  },
  {
   "cell_type": "code",
   "execution_count": 5,
   "id": "b68fd238-a58e-4c8f-a454-93b8933035e1",
   "metadata": {},
   "outputs": [
    {
     "name": "stdout",
     "output_type": "stream",
     "text": [
      "El máximo valor es 19 y el minimo valor es 0\n",
      "El máximo valor es 19 y el minimo valor es 0\n"
     ]
    }
   ],
   "source": [
    "numeros = (5, 6, 4, 8, 19, 0, 4, 6, 6, 5, 4, 8, 3, 5, 6, 0)\n",
    "maximo = max(numeros)\n",
    "minimo = min(numeros)\n",
    "\n",
    "print(f'El máximo valor es {maximo} y el minimo valor es {minimo}')\n",
    "\n",
    "# Lo mismo pero recorriendo la tupla con un for\n",
    "maximo = minimo = numeros[0]\n",
    "for num in numeros:\n",
    "    if num > maximo:\n",
    "        maximo = num\n",
    "    if num < minimo:\n",
    "        minimo = num\n",
    "\n",
    "print(f'El máximo valor es {maximo} y el minimo valor es {minimo}')        "
   ]
  },
  {
   "cell_type": "markdown",
   "id": "cbcae09a-223e-430b-b0cc-22f6a6180410",
   "metadata": {},
   "source": [
    "### *Ejercicio 1.6.5.*\n",
    "\n",
    "#### Si tienes la frase “Estoy muy contento”, crea un conjunto que esté formado por las letras de esta frase y muéstralo por pantalla."
   ]
  },
  {
   "cell_type": "code",
   "execution_count": 7,
   "id": "206219cb-cf71-4b00-82e0-859cde94098f",
   "metadata": {},
   "outputs": [
    {
     "name": "stdout",
     "output_type": "stream",
     "text": [
      "{' ', 'y', 'o', 'n', 'E', 'm', 'c', 't', 's', 'u', 'e'}\n"
     ]
    }
   ],
   "source": [
    "frase = 'Estoy muy contento'\n",
    "set_frase = set(frase)\n",
    "print(set_frase)"
   ]
  },
  {
   "cell_type": "markdown",
   "id": "41516eef-1f39-4189-bec4-bb36bcc3c65c",
   "metadata": {},
   "source": [
    "### *Ejercicio 1.6.6.*\n",
    "\n",
    "#### Si tienes un conjunto numeros = {1, 3, 9, 3, 1, 2}, crea un programa que recorra todos los elementos y los muestre por pantalla."
   ]
  },
  {
   "cell_type": "code",
   "execution_count": 8,
   "id": "904b24c3-8cd2-4586-b8bc-b262241867f9",
   "metadata": {},
   "outputs": [
    {
     "name": "stdout",
     "output_type": "stream",
     "text": [
      "1 2 3 9 "
     ]
    }
   ],
   "source": [
    "numeros = {1, 3, 9, 3, 1, 2}\n",
    "for num in numeros:\n",
    "    print(num, end = ' ')\n",
    "    "
   ]
  },
  {
   "cell_type": "markdown",
   "id": "069cd078-e591-451b-ac15-46b286368e45",
   "metadata": {},
   "source": [
    "### *Ejercicio 1.6.8.*\n",
    "\n",
    "#### Si tienes el siguiente conjunto, mezcla = {\"azul\", \"verde\", 1, 6, \"rojo\", 3, 3, \"verde\", \"azul\", 1, \"blanco\"}, crea un programa que añada al conjunto el color negro y un número introducido por el usuario, y que elimine el número 3, mostrando por pantalla el conjunto resultante."
   ]
  },
  {
   "cell_type": "code",
   "execution_count": 9,
   "id": "a810b6a9-c404-4a31-abc5-3f61b3c06002",
   "metadata": {},
   "outputs": [
    {
     "name": "stdin",
     "output_type": "stream",
     "text": [
      "Por favor, ingrese un número: 3.14\n"
     ]
    },
    {
     "name": "stdout",
     "output_type": "stream",
     "text": [
      "{1, 3.14, 6, 'negro', 'rojo', 'blanco', 'azul', 'verde'}\n"
     ]
    }
   ],
   "source": [
    "mezcla = {\"azul\", \"verde\", 1, 6, \"rojo\", 3, 3, \"verde\", \"azul\", 1, \"blanco\"}\n",
    "nro_usuario = float(input('Por favor, ingrese un número:'))\n",
    "\n",
    "mezcla.add('negro')\n",
    "mezcla.add(nro_usuario)\n",
    "mezcla.remove(3)\n",
    "\n",
    "print(mezcla)"
   ]
  },
  {
   "cell_type": "markdown",
   "id": "5c4db8d4-a390-4000-83d8-ae9e459660a1",
   "metadata": {},
   "source": [
    "### *Ejercicio 1.6.9.*\n",
    "\n",
    "#### Crea un programa que combine los conjuntos numeros = {1, 4, 4, 8, 1, 6} y colores = {“verde”, “rojo”, “azul”, “verde”, “blanco”} y muestra por pantalla el nuevo conjunto que se crearía al combinarlos."
   ]
  },
  {
   "cell_type": "code",
   "execution_count": 19,
   "id": "7903ff18-0dae-4eea-9623-66304771e1b6",
   "metadata": {},
   "outputs": [
    {
     "name": "stdout",
     "output_type": "stream",
     "text": [
      "{'azul', 1, 4, 6, 8, 'verde', 'rojo', 'blanco'}\n"
     ]
    }
   ],
   "source": [
    "numeros = {1, 4, 4, 8, 1, 6}\n",
    "colores = {'verde', 'rojo', 'azul', 'verde', 'blanco'}\n",
    "\n",
    "numeros_colores = numeros.union(colores)\n",
    "print(numeros_colores)"
   ]
  },
  {
   "cell_type": "code",
   "execution_count": 23,
   "id": "6bce559b-b9bc-4202-ae14-88cb1919b225",
   "metadata": {},
   "outputs": [
    {
     "name": "stdout",
     "output_type": "stream",
     "text": [
      "{'azul', 1, 4, 6, 8, 'verde', 'rojo', 'blanco'}\n",
      "{'azul', 1, 4, 6, 8, 'verde', 'rojo', 'blanco'}\n",
      "{8, 1, 4, 6}\n"
     ]
    }
   ],
   "source": [
    "numeros = {1, 4, 4, 8, 1, 6}\n",
    "colores = {\"verde\", \"rojo\", \"azul\", \"verde\", \"blanco\"}\n",
    "colores.update(numeros)\n",
    "print(colores)\n",
    "\n",
    "print(colores)\n",
    "print(numeros)"
   ]
  },
  {
   "cell_type": "markdown",
   "id": "83d5736f-ad1e-4926-a459-1e5398a0834f",
   "metadata": {},
   "source": [
    "### *Ejercicio 1.6.11.*\n",
    "\n",
    "#### Crea un programa que compruebe si en el conjunto mezcla = {1, 'blanco', 4, 'verde', 6, 8, 'rojo', 'azul', 4, 1, 'verde'} está el elemento ‘verde’."
   ]
  },
  {
   "cell_type": "code",
   "execution_count": 26,
   "id": "ae870621-2e14-4fbf-b4a8-095701dc0c2d",
   "metadata": {},
   "outputs": [
    {
     "name": "stdout",
     "output_type": "stream",
     "text": [
      "El elemento \"verde\" se encuentra en el conjunto\n"
     ]
    }
   ],
   "source": [
    "mezcla = {1, 'blanco', 4, 'verde', 6, 8, 'rojo', 'azul', 4, 1, 'verde'}\n",
    "\n",
    "if 'verde' in mezcla:\n",
    "    print('El elemento \"verde\" se encuentra en el conjunto')\n",
    "else:\n",
    "    print('El elemento \"verde\" no se encuentra en el conjunto')\n",
    "        "
   ]
  },
  {
   "cell_type": "markdown",
   "id": "e657c772-0d42-4177-b25a-fd1af2f8ae39",
   "metadata": {},
   "source": [
    "### *Ejercicio 1.6.12.*\n",
    "\n",
    "#### Dado el diccionario animales = {\"perro\":\"galgo\", \"gato\":\"siamés\", \"pájaro\":\"canario\"}, crea un programa que te devuelva por pantalla lo siguiente:\n",
    "\n",
    "#### perro - galgo \n",
    "\n",
    "#### gato - siamés \n",
    "\n",
    "#### pájaro – canario "
   ]
  },
  {
   "cell_type": "code",
   "execution_count": 17,
   "id": "79dc417b-0cb7-44dd-9dcd-d18f1e990267",
   "metadata": {},
   "outputs": [
    {
     "name": "stdout",
     "output_type": "stream",
     "text": [
      "***** Usando un ciclo for: *****\n",
      "perro - galgo\n",
      "\n",
      "gato - siamés\n",
      "\n",
      "pájaro - canario\n",
      "\n",
      "***** Con enumerate: *****\n",
      "perro - galgo\n",
      "\n",
      "gato - siamés\n",
      "\n",
      "pájaro - canario\n",
      "\n"
     ]
    }
   ],
   "source": [
    "animales = {\"perro\":\"galgo\", \"gato\":\"siamés\", \"pájaro\":\"canario\"}\n",
    "\n",
    "print('***** Usando un ciclo for: *****')\n",
    "# con for\n",
    "for animal in animales:\n",
    "    print(f'{animal} - {animales[animal]}')\n",
    "    print()\n",
    "\n",
    "print('***** Con enumerate: *****')    \n",
    "# con enumerate\n",
    "for indice, llave in enumerate(animales):\n",
    "    print(f'{llave} - {animales[llave]}')\n",
    "    print()\n",
    "    "
   ]
  },
  {
   "cell_type": "markdown",
   "id": "50d76241-d490-4db9-9431-130c2a693197",
   "metadata": {},
   "source": [
    "### *Ejercicio 1.6.13.*\n",
    "\n",
    "#### Añade otro tipo de animal junto con una raza al diccionario anterior y muéstralo separado por guiones, tal y como lo has hecho en el listado anterior."
   ]
  },
  {
   "cell_type": "code",
   "execution_count": 19,
   "id": "23b43aa3-bf06-4c5a-a66a-d95e6a82f67c",
   "metadata": {},
   "outputs": [
    {
     "name": "stdout",
     "output_type": "stream",
     "text": [
      "perro - galgo\n",
      "\n",
      "gato - siamés\n",
      "\n",
      "pájaro - canario\n",
      "\n",
      "tigre - bengala\n",
      "\n"
     ]
    }
   ],
   "source": [
    "animales = {\"perro\":\"galgo\", \"gato\":\"siamés\", \"pájaro\":\"canario\"}\n",
    "animales[\"tigre\"] = \"bengala\"\n",
    "\n",
    "for animal in animales:\n",
    "    print(f'{animal} - {animales[animal]}')\n",
    "    print()"
   ]
  },
  {
   "cell_type": "markdown",
   "id": "d2091e5a-6b2b-45b5-8762-88bf42fdb2ba",
   "metadata": {},
   "source": [
    "### *Ejercicio 1.6.14.*\n",
    "\n",
    "#### Sustituye la raza de perro del diccionario anterior por pitbull. Muestra el listado separado por guiones como en el ejercicio anterior."
   ]
  },
  {
   "cell_type": "code",
   "execution_count": 23,
   "id": "2df020b2-8fde-4914-9526-b7f049ef0a28",
   "metadata": {},
   "outputs": [
    {
     "name": "stdout",
     "output_type": "stream",
     "text": [
      "perro - pitbull\n",
      "\n",
      "gato - siamés\n",
      "\n",
      "pájaro - canario\n",
      "\n",
      "tigre - bengala\n",
      "\n"
     ]
    }
   ],
   "source": [
    "animales = {\"perro\":\"galgo\", \"gato\":\"siamés\", \"pájaro\":\"canario\"}\n",
    "animales[\"tigre\"] = \"bengala\"\n",
    "animales[\"perro\"] = \"pitbull\"\n",
    "\n",
    "for animal, raza in animales.items():\n",
    "    print(f'{animal} - {raza}')\n",
    "    print()"
   ]
  },
  {
   "cell_type": "markdown",
   "id": "78074fd9-c858-45d3-b3dc-549bbfbeb4d5",
   "metadata": {},
   "source": [
    "### *Ejercicio 1.6.15.*\n",
    "\n",
    "#### Dado el diccionario del ejercicio anterior, animales = {\"perro\":\"pitbull\", \"gato\":\"siamés\", \"pájaro\":\"canario\", \"insecto\":\"mosquito\"}, elimina el elemento con clave “pájaro”. Muestra la lista resultante por pantalla."
   ]
  },
  {
   "cell_type": "code",
   "execution_count": 24,
   "id": "ba1d91d0-5419-4928-8525-1c269a912d4d",
   "metadata": {},
   "outputs": [
    {
     "name": "stdout",
     "output_type": "stream",
     "text": [
      "perro - pitbull\n",
      "\n",
      "gato - siamés\n",
      "\n",
      "insecto - mosquito\n",
      "\n"
     ]
    }
   ],
   "source": [
    "animales = {\"perro\":\"pitbull\", \"gato\":\"siamés\", \"pájaro\":\"canario\", \"insecto\":\"mosquito\"}\n",
    "animales.pop(\"pájaro\")\n",
    "\n",
    "for animal, raza in animales.items():\n",
    "    print(f'{animal} - {raza}')\n",
    "    print()\n",
    "    "
   ]
  },
  {
   "cell_type": "markdown",
   "id": "1224bf79-0a6d-453d-b13c-a6cd68a26c5d",
   "metadata": {},
   "source": [
    "### *Ejercicio 1.6.16.*\n",
    "\n",
    "#### Haz lo mismo que en el ejercicio anterior, pero utilizando otro método. Si en el ejercicio anterior has utilizado pop, aquí utiliza del, y viceversa. Muestra el resultada por pantalla."
   ]
  },
  {
   "cell_type": "code",
   "execution_count": 27,
   "id": "e357da4c-25ae-4051-a9c1-71c029954c34",
   "metadata": {},
   "outputs": [
    {
     "name": "stdout",
     "output_type": "stream",
     "text": [
      "perro - pitbull\n",
      "\n",
      "gato - siamés\n",
      "\n",
      "insecto - mosquito\n",
      "\n"
     ]
    }
   ],
   "source": [
    "animales = {\"perro\":\"pitbull\", \"gato\":\"siamés\", \"pájaro\":\"canario\", \"insecto\":\"mosquito\"}\n",
    "del animales[\"pájaro\"]\n",
    "\n",
    "for animal, raza in animales.items():\n",
    "    print(f'{animal} - {raza}')\n",
    "    print()\n",
    "    "
   ]
  },
  {
   "cell_type": "markdown",
   "id": "ed969b87-d0ba-44ab-adcc-e3607c4a3008",
   "metadata": {},
   "source": [
    "### *Ejercicio 1.6.17.*\n",
    "\n",
    "#### Crea un diccionario con los datos de un usuario. Para ello pregunta al usuario por su nombre, apellidos, edad, ciudad en la que vive y su número de teléfono. Una vez recogidos todos los datos muestra por pantalla una frase similar a “Nombre Apellidos tiene x años, vive en ciudad y su número de teléfono es número” sustituyendo las palabras en cursiva por los datos del diccionario."
   ]
  },
  {
   "cell_type": "code",
   "execution_count": 16,
   "id": "7b1b5c5b-15d5-40eb-a09a-bfae1980e354",
   "metadata": {},
   "outputs": [
    {
     "name": "stdin",
     "output_type": "stream",
     "text": [
      "¿Cúal es su nombre? Nahuel\n",
      "¿Cuál es o cuales son sus apellidos? Lopez\n",
      "¿Cuál es su edad? 18\n",
      "¿En qué ciudad vive? Ituzaingó\n",
      "¿Cuál es su número de teléfono o celular? 1168076800\n"
     ]
    },
    {
     "name": "stdout",
     "output_type": "stream",
     "text": [
      "Nahuel Lopez tiene 18 años, vive en Ituzaingó y su número de teléfono es 1168076800\n"
     ]
    }
   ],
   "source": [
    "nombre = input('¿Cúal es su nombre?')\n",
    "apellidos = input('¿Cuál es o cuales son sus apellidos?')\n",
    "edad = int(input('¿Cuál es su edad?'))\n",
    "ciudad = input('¿En qué ciudad vive?')\n",
    "tel = int(input('¿Cuál es su número de teléfono o celular?'))\n",
    "\n",
    "persona = {\n",
    "    \"nombre\": nombre,\n",
    "    \"apellidos\": apellidos,\n",
    "    \"edad\": edad,\n",
    "    \"ciudad\": ciudad,\n",
    "    \"tel\": tel\n",
    "}\n",
    "\n",
    "nombre_persona = persona['nombre']\n",
    "apellidos_persona = persona['apellidos']\n",
    "edad_persona = persona['edad']\n",
    "ciudad_persona = persona['ciudad']\n",
    "tel_persona = persona['tel']\n",
    "\n",
    "print(f'{nombre_persona} {apellidos_persona} tiene {edad_persona} años, vive en {ciudad_persona} y su número de teléfono es {tel_persona}')\n"
   ]
  },
  {
   "cell_type": "markdown",
   "id": "50bae9c2-0459-4bca-8a64-3f2fc765d112",
   "metadata": {},
   "source": [
    "### *Ejercicio 1.6.18.*\n",
    "\n",
    "#### Crea un programa que vaya generando una agenda en un diccionario vacío y que incluya la información que el usuario quiera introducir. Para ello se le preguntará al usuario qué dato quiere incluir, se le pedirá el dato y se guardará el que introduzca en el diccionario. Después, se le preguntará al usuario si quiere incluir algún dato más, si dice que sí se le volverá a preguntar qué dato quiere incluir, se le pedirá el dato y se guardará en el diccionario. Le volveremos a preguntar si quiere incluir algún dato más, y seguiremos guardando datos hasta que conteste que no. Cuando el usuario no quiera incluir más datos, se mostrará por pantalla el diccionario con todos los datos incluidos.\n",
    "\n",
    "#### Un ejemplo sería:\n",
    "\n",
    "- ¿Qué dato quieres incluir? Nombre\n",
    "\n",
    "- Introduce Nombre: Gemma\n",
    "\n",
    "- ¿Quieres introducir otro dato (responde solo Si o No)? Si\n",
    "\n",
    "- ¿Qué dato quieres incluir? Teléfono\n",
    "\n",
    "- Introduce Teléfono: 111111111\n",
    "\n",
    "- ¿Quieres introducir otro dato? (responde solo Si o No) No\n",
    "\n",
    "#### {“Nombre”: “Gemma”, “Teléfono”: 111111111}\n",
    "\n",
    "#### Ejecuta el programa introduciendo dos o tres campos"
   ]
  },
  {
   "cell_type": "code",
   "execution_count": 23,
   "id": "ff29f3f0-fd9f-4a0a-8926-d94b16ed67c1",
   "metadata": {},
   "outputs": [
    {
     "name": "stdin",
     "output_type": "stream",
     "text": [
      "¿Qúe tipo de dato quieres incluir? nombre\n",
      "Introduce el dato nombre: Nahuel\n",
      "¿Quieres seguir introduciendo otros datos? Ingrese sí o no: si\n",
      "¿Qúe tipo de dato quieres incluir? edad\n",
      "Introduce el dato edad: 18\n",
      "¿Quieres seguir introduciendo otros datos? Ingrese sí o no: si\n",
      "¿Qúe tipo de dato quieres incluir? profesion\n",
      "Introduce el dato profesion: Python Data Analyst\n",
      "¿Quieres seguir introduciendo otros datos? Ingrese sí o no: si\n",
      "¿Qúe tipo de dato quieres incluir? empresa\n",
      "Introduce el dato empresa: NTT Data\n",
      "¿Quieres seguir introduciendo otros datos? Ingrese sí o no: si\n",
      "¿Qúe tipo de dato quieres incluir? hijos\n",
      "Introduce el dato hijos: no\n",
      "¿Quieres seguir introduciendo otros datos? Ingrese sí o no: no\n"
     ]
    },
    {
     "name": "stdout",
     "output_type": "stream",
     "text": [
      "{'nombre': 'Nahuel', 'edad': '18', 'profesion': 'Python Data Analyst', 'empresa': 'NTT Data', 'hijos': 'no'}\n"
     ]
    }
   ],
   "source": [
    "agenda = {}\n",
    "dato = input('¿Qúe tipo de dato quieres incluir?')\n",
    "valor = input(f'Introduce el dato {dato}:')\n",
    "agenda[dato] = valor\n",
    "\n",
    "respuesta = input('¿Quieres seguir introduciendo otros datos? Ingrese sí o no:').lower()\n",
    "while respuesta != 'no':\n",
    "    dato = input('¿Qúe tipo de dato quieres incluir?')\n",
    "    valor = input(f'Introduce el dato {dato}:')\n",
    "    agenda[dato] = valor\n",
    "    respuesta = input('¿Quieres seguir introduciendo otros datos? Ingrese sí o no:').lower()\n",
    "\n",
    "print(agenda)    "
   ]
  },
  {
   "cell_type": "markdown",
   "id": "29b2aea5-92da-42f9-9886-cc547a75252c",
   "metadata": {},
   "source": [
    "### Ejercicio 1.6.19.\n",
    "\n",
    "#### Crea un programa que te permita gestionar una lista de la compra. Para ello, los elementos que vamos a apuntar en nuestra lista se irán guardando en un diccionario. Los datos que tendremos serán el nombre del elemento y la cantidad de elementos que queremos comprar.\n",
    "\n",
    "#### Nuestro programa de gestión nos preguntará qué queremos hacer en nuestra lista de la compra, las opciones del menú serán: (1) Agregar un producto, (2) Eliminar un producto, (3) Listar todos los productos, (4) Cerrar. \n",
    "\n",
    "#### Según la opción elegida nuestro programa realizará las siguientes acciones:\n",
    "\n",
    "- (1) Agregar un producto. Nos permitirá agregar un producto a nuestra lista\n",
    "\n",
    "- (2) Eliminar un producto. Nos permitirá borrar un producto de nuestra lista\n",
    "\n",
    "- (3) Listar todos los productos. Nos mostrará todos los productos que tenemos en nuestra lista\n",
    "\n",
    "- (4) Cerrar. Terminará el programa.\n",
    "\n",
    "#### Realiza todas las acciones con varios productos"
   ]
  },
  {
   "cell_type": "code",
   "execution_count": null,
   "id": "01acc191-5337-4027-8b36-32d437d74a76",
   "metadata": {},
   "outputs": [],
   "source": []
  },
  {
   "cell_type": "code",
   "execution_count": 29,
   "id": "d7ce9779-20ea-40d0-9519-0f5291bc5feb",
   "metadata": {},
   "outputs": [
    {
     "name": "stdin",
     "output_type": "stream",
     "text": [
      "¿Qué te gustaría hacer? \n",
      "1. Agregar un producto \n",
      "2. Eliminar un producto \n",
      "3. Listar todos los productos \n",
      "4. Cerrar \n",
      " 1\n",
      "¿Qué producto quieres ingresar? café\n",
      "¿Qué cantidad del producto café quieres ingresar? 2\n",
      "¿Qué te gustaría hacer? \n",
      "1. Agregar un producto \n",
      "2. Eliminar un producto \n",
      "3. Listar todos los productos \n",
      "4. Cerrar \n",
      " 1\n",
      "¿Qué producto quieres ingresar? pan\n",
      "¿Qué cantidad del producto pan quieres ingresar? 1 kg\n",
      "¿Qué te gustaría hacer? \n",
      "1. Agregar un producto \n",
      "2. Eliminar un producto \n",
      "3. Listar todos los productos \n",
      "4. Cerrar \n",
      " 3\n"
     ]
    },
    {
     "name": "stdout",
     "output_type": "stream",
     "text": [
      "{'café': '2', 'pan': '1 kg'}\n"
     ]
    },
    {
     "name": "stdin",
     "output_type": "stream",
     "text": [
      "¿Qué te gustaría hacer? \n",
      "1. Agregar un producto \n",
      "2. Eliminar un producto \n",
      "3. Listar todos los productos \n",
      "4. Cerrar \n",
      " 2\n",
      "Qué producto quieres eliminar? pan\n"
     ]
    },
    {
     "name": "stdout",
     "output_type": "stream",
     "text": [
      "El producto pan se ha eliminado correctamente de la lista\n"
     ]
    },
    {
     "name": "stdin",
     "output_type": "stream",
     "text": [
      "¿Qué te gustaría hacer? \n",
      "1. Agregar un producto \n",
      "2. Eliminar un producto \n",
      "3. Listar todos los productos \n",
      "4. Cerrar \n",
      " 3\n"
     ]
    },
    {
     "name": "stdout",
     "output_type": "stream",
     "text": [
      "{'café': '2'}\n"
     ]
    },
    {
     "name": "stdin",
     "output_type": "stream",
     "text": [
      "¿Qué te gustaría hacer? \n",
      "1. Agregar un producto \n",
      "2. Eliminar un producto \n",
      "3. Listar todos los productos \n",
      "4. Cerrar \n",
      " 4\n"
     ]
    },
    {
     "name": "stdout",
     "output_type": "stream",
     "text": [
      "El programa ha finalizado\n"
     ]
    }
   ],
   "source": [
    "lista_productos = {}\n",
    "\n",
    "while True:\n",
    "    opciones = int(input('¿Qué te gustaría hacer? \\n1. Agregar un producto \\n2. Eliminar un producto \\n3. Listar todos los productos \\n4. Cerrar \\n'))\n",
    "    if opciones == 1:\n",
    "        producto = input('¿Qué producto quieres ingresar?')\n",
    "        cantidad = input(f'¿Qué cantidad del producto {producto} quieres ingresar?')\n",
    "        lista_productos[producto] = cantidad\n",
    "    elif opciones == 2:\n",
    "        producto_eliminar = input('Qué producto quieres eliminar?')\n",
    "        lista_productos.pop(producto_eliminar)\n",
    "        print(f'El producto {producto_eliminar} se ha eliminado correctamente de la lista')\n",
    "    elif opciones == 3:\n",
    "        print(lista_productos)\n",
    "    elif opciones == 4:\n",
    "        print('El programa ha finalizado')\n",
    "        break\n",
    "    else: \n",
    "        print('Por favor ingrese una de las opciones de la lista')\n",
    "        "
   ]
  }
 ],
 "metadata": {
  "kernelspec": {
   "display_name": "Python 3 (ipykernel)",
   "language": "python",
   "name": "python3"
  },
  "language_info": {
   "codemirror_mode": {
    "name": "ipython",
    "version": 3
   },
   "file_extension": ".py",
   "mimetype": "text/x-python",
   "name": "python",
   "nbconvert_exporter": "python",
   "pygments_lexer": "ipython3",
   "version": "3.9.13"
  }
 },
 "nbformat": 4,
 "nbformat_minor": 5
}
