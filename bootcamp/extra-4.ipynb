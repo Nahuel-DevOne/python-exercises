{
 "cells": [
  {
   "cell_type": "markdown",
   "id": "29c5516b-736f-48ff-b252-3c4937bee478",
   "metadata": {},
   "source": [
    "# `Extra 5`"
   ]
  },
  {
   "cell_type": "code",
   "execution_count": 2,
   "id": "6ca390a9-a57f-4561-9b75-f9d95a8751a5",
   "metadata": {},
   "outputs": [
    {
     "name": "stdout",
     "output_type": "stream",
     "text": [
      "125\n"
     ]
    }
   ],
   "source": [
    "# defino la punción potencia\n",
    "def pot(valor, potencia):\n",
    "  resultado = valor**potencia\n",
    "  return resultado\n",
    "\n",
    "# queremos calcular la potencia 3 de 5:\n",
    "print(pot(5,3))"
   ]
  },
  {
   "cell_type": "code",
   "execution_count": null,
   "id": "8102cdb4-5c6f-4325-9065-3eb57ce44450",
   "metadata": {},
   "outputs": [],
   "source": [
    "print(pot(potencia=3,valor=5))"
   ]
  },
  {
   "cell_type": "code",
   "execution_count": 4,
   "id": "a4b2c35b-eb33-4dab-94ce-3c357c24369b",
   "metadata": {},
   "outputs": [
    {
     "name": "stdout",
     "output_type": "stream",
     "text": [
      "3.0 5.0\n"
     ]
    }
   ],
   "source": [
    "def raiz(valor, indice=2):\n",
    "  resultado = valor**(1/indice)\n",
    "  return resultado\n",
    "\n",
    "raiz1 = raiz(27,3)\n",
    "raiz2 = raiz(25) # por defecto es raíz cuadrada, porque el índice es 2 si no se le pasa o modifica.\n",
    "print(raiz1, raiz2)"
   ]
  },
  {
   "cell_type": "code",
   "execution_count": 1,
   "id": "dffd8315-440b-4366-8abb-10a8268495ce",
   "metadata": {},
   "outputs": [
    {
     "name": "stdout",
     "output_type": "stream",
     "text": [
      "21\n"
     ]
    }
   ],
   "source": [
    "def sumar(*args):\n",
    "  resultado = 0\n",
    "  for valor in args:\n",
    "      # resultado = resultado + valor\n",
    "      resultado += valor # lo mismo que arriba pero con sintaxis más corta\n",
    "  return resultado\n",
    "\n",
    "total = sumar(4, 2, 6, 9)\n",
    "print(total)"
   ]
  },
  {
   "cell_type": "markdown",
   "id": "e8f253be-0b19-471e-ab28-a5050a6651ce",
   "metadata": {},
   "source": [
    "#### Solicitar al usuario que ingrese su dirección email. Imprimir un mensaje indicando si la dirección es válida o no, valiéndose de una función para decidirlo. Una dirección de email se considerará válida si contiene el símbolo \"@\" y además incorpora un punto para separarlo del dominio."
   ]
  },
  {
   "cell_type": "code",
   "execution_count": 7,
   "id": "d91ecfa5-8ceb-4fba-9474-d585556b10ec",
   "metadata": {},
   "outputs": [
    {
     "name": "stdout",
     "output_type": "stream",
     "text": [
      "Ingrese su dirección: jflkdajfa@dfaf\n"
     ]
    },
    {
     "data": {
      "text/plain": [
       "False"
      ]
     },
     "execution_count": 7,
     "metadata": {},
     "output_type": "execute_result"
    }
   ],
   "source": [
    "def pedir_datos(direccion):\n",
    "    if \"@\" in direccion and \".\" in direccion.split(\"@\")[1]:\n",
    "        print(f'Sus dirección de email es: {direccion}')\n",
    "        return True\n",
    "    else:\n",
    "        return False\n",
    "\n",
    "direccion_usuario = input('Ingrese su dirección:')\n",
    "pedir_datos(direccion_usuario)"
   ]
  },
  {
   "cell_type": "markdown",
   "id": "e091533f-f7c0-42f0-850e-e0a83c07f709",
   "metadata": {},
   "source": [
    "#### Escribe una función que reciba por parámetro 2 listas y que devuelva un booleano. La función devolverá TRUE si todos los elementos de la lista son de tipo entero. FALSE en caso contrario. Recuerda que tienes que hacer el ejercicio con y sin return"
   ]
  },
  {
   "cell_type": "code",
   "execution_count": 15,
   "id": "054b2fc5-8f78-4628-8838-c214fe7fee0b",
   "metadata": {},
   "outputs": [
    {
     "name": "stdout",
     "output_type": "stream",
     "text": [
      "True\n",
      "True\n"
     ]
    }
   ],
   "source": [
    "numeros1 = [1,2,3,4,5]\n",
    "numeros2 = [6,7,8,9,10]\n",
    "\n",
    "def lista_enteros(lista1, lista2):\n",
    "    for num in lista1 + lista2:\n",
    "        if not isinstance(num, int):\n",
    "            return False\n",
    "    return True\n",
    "\n",
    "def lista_enteros_sin_return(lista1, lista2):\n",
    "    resultado = True\n",
    "    for num in lista1 + lista2:\n",
    "        if not isinstance(num, int):\n",
    "            resultado = False\n",
    "    print(resultado)\n",
    "    \n",
    "print(lista_enteros(numeros1, numeros2))    \n",
    "lista_enteros_sin_return(numeros1, numeros2)"
   ]
  },
  {
   "cell_type": "code",
   "execution_count": null,
   "id": "524a17b7-4014-424a-ba3a-af8a27e7a84b",
   "metadata": {},
   "outputs": [],
   "source": [
    "numeros1 = [1,2,3,4,5]\n",
    "numeros2 = [6,7,8,9,10]\n",
    "\n",
    "def lista_enteros(lista1, lista2):\n",
    "    for num in lista1 + lista2:\n",
    "        if not isinstance(num, int):\n",
    "            return False\n",
    "    return True\n",
    "\n",
    "def lista_enteros_sin_return(lista1, lista2):\n",
    "    resultado = True\n",
    "    for num in lista1 + lista2:\n",
    "        if not isinstance(num, int):\n",
    "            resultado = False\n",
    "    print(resultado)\n",
    "    \n",
    "print(lista_enteros(numeros1, numeros2))    \n",
    "lista_enteros_sin_return(numeros1, numeros2)"
   ]
  },
  {
   "cell_type": "code",
   "execution_count": 21,
   "id": "1b0c7f31-ebc5-46f9-9b72-06ea29aa7948",
   "metadata": {},
   "outputs": [
    {
     "name": "stdout",
     "output_type": "stream",
     "text": [
      "False\n"
     ]
    }
   ],
   "source": [
    "def lista2_enteros(lista1,lista2):\n",
    "    lista1.extend(lista2)\n",
    "    for num in lista1:\n",
    "        if type(num) is not int:\n",
    "            return True\n",
    "        else:\n",
    "            return False\n",
    "        \n",
    "numeros1 = [1,2,3,4,5]\n",
    "numeros2 = [6,7,8,9,'b']        \n",
    "print(lista2_enteros(numeros1, numeros2))        "
   ]
  },
  {
   "cell_type": "markdown",
   "id": "c80a8ebd-ca4c-4a6e-afe2-c96aaa067b9b",
   "metadata": {},
   "source": [
    "#### Crea un script que utilice los datos del servicio de de salud de San Francisco y que calcule el tiempo medio de respuesta.\n",
    "\n",
    "#### https://data.sfgov.org/Health-and-Social-Services/Call-Center-Metrics-for-the-Health-Service-System/qz8r-q5ne"
   ]
  },
  {
   "cell_type": "code",
   "execution_count": 24,
   "id": "f03eb427-1eb3-4220-931d-9e361cc5f8cb",
   "metadata": {},
   "outputs": [
    {
     "name": "stdout",
     "output_type": "stream",
     "text": [
      "40\n",
      "78\n",
      "69\n",
      "47\n",
      "75\n",
      "39\n",
      "130\n",
      "44\n",
      "24\n",
      "38\n",
      "33\n",
      "24\n",
      "20\n",
      "18\n",
      "18\n",
      "51\n",
      "227\n",
      "116\n",
      "85\n",
      "94\n",
      "42\n",
      "33\n",
      "11\n",
      "8\n"
     ]
    },
    {
     "ename": "KeyError",
     "evalue": "'average_speed_of_answer_in_secs'",
     "output_type": "error",
     "traceback": [
      "\u001b[1;31m---------------------------------------------------------------------------\u001b[0m",
      "\u001b[1;31mKeyError\u001b[0m                                  Traceback (most recent call last)",
      "\u001b[1;32m~\\AppData\\Local\\Temp\\ipykernel_40328\\3753951408.py\u001b[0m in \u001b[0;36m<module>\u001b[1;34m\u001b[0m\n\u001b[0;32m     14\u001b[0m \u001b[1;31m# print(datos_json)\u001b[0m\u001b[1;33m\u001b[0m\u001b[1;33m\u001b[0m\u001b[0m\n\u001b[0;32m     15\u001b[0m \u001b[1;32mfor\u001b[0m \u001b[0mdato\u001b[0m \u001b[1;32min\u001b[0m \u001b[0mdatos_json\u001b[0m\u001b[1;33m:\u001b[0m\u001b[1;33m\u001b[0m\u001b[1;33m\u001b[0m\u001b[0m\n\u001b[1;32m---> 16\u001b[1;33m         \u001b[0mprint\u001b[0m\u001b[1;33m(\u001b[0m\u001b[0mdato\u001b[0m\u001b[1;33m[\u001b[0m\u001b[1;34m'average_speed_of_answer_in_secs'\u001b[0m\u001b[1;33m]\u001b[0m\u001b[1;33m)\u001b[0m\u001b[1;33m\u001b[0m\u001b[1;33m\u001b[0m\u001b[0m\n\u001b[0m\u001b[0;32m     17\u001b[0m \u001b[1;33m\u001b[0m\u001b[0m\n\u001b[0;32m     18\u001b[0m \u001b[1;33m\u001b[0m\u001b[0m\n",
      "\u001b[1;31mKeyError\u001b[0m: 'average_speed_of_answer_in_secs'"
     ]
    }
   ],
   "source": [
    "# https://data.sfgov.org/Health-and-Social-Services/Call-Center-Metrics-for-the-Health-Service-System/qz8r-q5ne\n",
    "# https://data.sfgov.org/resource/qz8r-q5ne.json\n",
    "import urllib\n",
    "import json\n",
    "\n",
    "#Petición\n",
    "http_request = urllib.request.urlopen(\"https://data.sfgov.org/resource/qz8r-q5ne.json\")\n",
    "datos = http_request.read()\n",
    "#conversión a json\n",
    "datos_json = json.loads(datos)\n",
    "\n",
    "# print(datos_json)\n",
    "for dato in datos_json:\n",
    "        print(dato['average_speed_of_answer_in_secs'])\n",
    "\n",
    "\n",
    "\n"
   ]
  }
 ],
 "metadata": {
  "kernelspec": {
   "display_name": "Python 3 (ipykernel)",
   "language": "python",
   "name": "python3"
  },
  "language_info": {
   "codemirror_mode": {
    "name": "ipython",
    "version": 3
   },
   "file_extension": ".py",
   "mimetype": "text/x-python",
   "name": "python",
   "nbconvert_exporter": "python",
   "pygments_lexer": "ipython3",
   "version": "3.9.13"
  }
 },
 "nbformat": 4,
 "nbformat_minor": 5
}
