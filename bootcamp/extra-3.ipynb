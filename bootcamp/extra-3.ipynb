{
 "cells": [
  {
   "cell_type": "markdown",
   "id": "502839a4-7096-4ae5-9b54-3d9a4037fc83",
   "metadata": {},
   "source": [
    "# `Extra 3`"
   ]
  },
  {
   "cell_type": "code",
   "execution_count": 1,
   "id": "bcff1c45-a7b4-405b-acc5-5faecb471278",
   "metadata": {},
   "outputs": [
    {
     "name": "stdout",
     "output_type": "stream",
     "text": [
      "[1, 2, 3, 4, 5]\n"
     ]
    }
   ],
   "source": [
    "mi_lista = [1, 2, 2, 3, 4, 4, 5]\n",
    "lista_sin_duplicados = []\n",
    "\n",
    "for num in mi_lista:\n",
    "    if num not in lista_sin_duplicados:\n",
    "        lista_sin_duplicados.append(num)\n",
    "        \n",
    "print(lista_sin_duplicados)        "
   ]
  },
  {
   "cell_type": "markdown",
   "id": "38b6c7cd-d610-469c-be84-0732415fbb6e",
   "metadata": {},
   "source": [
    "Calcular la media, el máximo y el mínimo de la siguiente lista de números sin utilizar funciones. numeros = [3,2,5,3,8,4]"
   ]
  },
  {
   "cell_type": "code",
   "execution_count": 16,
   "id": "ffb583e5-cf38-437a-840c-65a9c234c2cd",
   "metadata": {},
   "outputs": [
    {
     "name": "stdout",
     "output_type": "stream",
     "text": [
      "4.166666666666667\n",
      "8\n",
      "2\n"
     ]
    }
   ],
   "source": [
    "numeros = [3,2,5,3,8,4]\n",
    "sumatoria = 0\n",
    "nro_maximo = numeros[0] \n",
    "nro_minimo = numeros[0] \n",
    "for numero in numeros:\n",
    "    if numero > nro_maximo:\n",
    "        nro_maximo = numero\n",
    "    if numero < nro_minimo:\n",
    "        nro_minimo = numero\n",
    "\n",
    "# media = sum(numeros) / len(numeros)        \n",
    "# print(media)\n",
    "\n",
    "for num in numeros:\n",
    "    sumatoria += num\n",
    "\n",
    "media = sumatoria / len(numeros)\n",
    "print(media)\n",
    "print(nro_maximo)\n",
    "print(nro_minimo)"
   ]
  },
  {
   "cell_type": "code",
   "execution_count": null,
   "id": "927de763-7f77-4a26-a3c4-bfc919ead2f8",
   "metadata": {},
   "outputs": [],
   "source": []
  },
  {
   "cell_type": "code",
   "execution_count": null,
   "id": "2ca960f7-c0e9-4b77-9ecf-6155b80d63cb",
   "metadata": {},
   "outputs": [],
   "source": []
  },
  {
   "cell_type": "code",
   "execution_count": null,
   "id": "7ae75c7a-a1f3-437c-b58e-a90f5dd23857",
   "metadata": {},
   "outputs": [],
   "source": []
  },
  {
   "cell_type": "code",
   "execution_count": null,
   "id": "cab9efbc-39f6-4549-a0e0-b741abad97a4",
   "metadata": {},
   "outputs": [],
   "source": []
  },
  {
   "cell_type": "code",
   "execution_count": null,
   "id": "e39f9112-44dd-48de-b132-049b9d213e99",
   "metadata": {},
   "outputs": [],
   "source": []
  },
  {
   "cell_type": "code",
   "execution_count": null,
   "id": "25864aeb-7aa8-48b4-9c9a-f818b46100ed",
   "metadata": {},
   "outputs": [],
   "source": []
  },
  {
   "cell_type": "code",
   "execution_count": null,
   "id": "5438723c-8bb3-40ab-8b58-51406d48875d",
   "metadata": {},
   "outputs": [],
   "source": []
  }
 ],
 "metadata": {
  "kernelspec": {
   "display_name": "Python 3 (ipykernel)",
   "language": "python",
   "name": "python3"
  },
  "language_info": {
   "codemirror_mode": {
    "name": "ipython",
    "version": 3
   },
   "file_extension": ".py",
   "mimetype": "text/x-python",
   "name": "python",
   "nbconvert_exporter": "python",
   "pygments_lexer": "ipython3",
   "version": "3.9.13"
  }
 },
 "nbformat": 4,
 "nbformat_minor": 5
}
