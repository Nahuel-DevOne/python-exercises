{
 "cells": [
  {
   "cell_type": "markdown",
   "metadata": {},
   "source": [
    "# `Ejercicios de las clases y complementarios`"
   ]
  },
  {
   "cell_type": "markdown",
   "metadata": {},
   "source": [
    "### `Clase 1`"
   ]
  },
  {
   "cell_type": "markdown",
   "metadata": {},
   "source": [
    "### Consigna\n",
    "\n",
    "Trabajas en Coderhouse y te piden crear un programa que calcule la nota final de estudiantes del curso de Python. La nota final se calcula basándonos en tres notas previas de las cuales, cada una corresponde un porcentaje distinto de la nota final. Los porcentajes se detallan a continuación:  \n",
    "Los porcentajes asociados que debemos considerar de cada nota se detallan a continuación: \n",
    "- nota_1  cuenta como el 20% de la nota final\n",
    "- nota_2 cuenta como el 30% de la nota final\n",
    "- nota_3 cuenta como el 50% de la nota final\n"
   ]
  },
  {
   "cell_type": "code",
   "execution_count": 6,
   "metadata": {},
   "outputs": [
    {
     "name": "stdout",
     "output_type": "stream",
     "text": [
      "Su primera nota tiene un valor de: 1.6\n",
      "Su segunda nota tiene un valor de: 2.7\n",
      "Su tercera nota tiene un valor de: 5.0\n",
      "Su nota final es: 9.3\n"
     ]
    }
   ],
   "source": [
    "nota1 = int(input('Ingresa la primera nota en valor entero:'))\n",
    "nota2 = int(input('Ingresa la segunda nota en valor entero:'))\n",
    "nota3 = int(input('Ingresa la tercera nota en valor entero:'))\n",
    "\n",
    "valor_nota1 = round(nota1 * 0.2, 2)\n",
    "valor_nota2 = round(nota2 * 0.3, 2)\n",
    "valor_nota3 = round(nota3 * 0.5, 2)\n",
    "\n",
    "nota_final = valor_nota1 + valor_nota2 + valor_nota3\n",
    "\n",
    "print(f'Su primera nota tiene un valor de: {valor_nota1}')\n",
    "print(f'Su segunda nota tiene un valor de: {valor_nota2}')\n",
    "print(f'Su tercera nota tiene un valor de: {valor_nota3}')\n",
    "print(f'Su nota final es: {nota_final}')"
   ]
  },
  {
   "cell_type": "markdown",
   "metadata": {},
   "source": [
    "### `Clase 2`"
   ]
  },
  {
   "cell_type": "markdown",
   "metadata": {},
   "source": [
    "1) Identifica el tipo de dato (int, float, string, list o touple) de los siguientes valores literales.\n",
    "Dato Tipo - de datos\n",
    "- \"Hola Mundo\" --> str\n",
    "- [1, 10, 100] --> list\n",
    "- -25 --> int\n",
    "- (8, 100, -12) --> tuple\n",
    "- 1.167 --> float\n",
    "- [\"Hola\", \"Mundo\"] --> list\n",
    "- ' ' --> str\n",
    "- (1, -5, \"Hola!\") --> tuple\n",
    "\n",
    "2) Determina mentalmente (sin programar) el resultado que aparecerá por pantalla a partir de las \n",
    "siguientes variables:\n",
    "\n",
    "    ✓ a = 10\n",
    "    \n",
    "    ✓ b = -5\n",
    "    \n",
    "    ✓ c = \"Hola\"\n",
    "    \n",
    "    ✓ d = [1, 2, 3]\n",
    "    \n",
    "    ✓ e= (4,5,6)\n",
    "\n",
    "Ejecutar --> Resultado\n",
    "- print(a * 5) \n",
    "- print(a - b) \n",
    "- print(c + \"Mundo\") \n",
    "- print(c * 2) \n",
    "- print(c[-1]) \n",
    "- print(c[1:]) \n",
    "- print(d + d) \n",
    "- print(e[1])\n",
    "- print(e+(7,8,9))\n",
    "\n",
    "\n",
    "3) El siguiente código pretende realizar una media entre 3 números, pero no funciona \n",
    "correctamente. \n",
    "¿Eres capaz de identificar el problema y solucionarlo?\n",
    "\n",
    "In [1]:\n",
    "\n",
    "numero_1 = 9\n",
    "\n",
    "numero_2 = 3\n",
    "\n",
    "numero_3 = 6\n",
    "\n",
    "media = numero_1 + numero_2 + numero_3 / 3\n",
    "\n",
    "print(\"La nota media es\", media)\n",
    "\n",
    "La nota media es 14.0\n",
    "\n",
    "\n",
    "4) A partir del ejercicio anterior, desarrolla un programa para calcular la nota final. \n",
    "Para ello \n",
    "vamos a suponer que cada número es una nota y que queremos obtener la nota media. Cada \n",
    "\n",
    "nota tiene un valor porcentual:\n",
    "\n",
    "✓ La primera nota vale un 15% del total\n",
    "\n",
    "✓ La segunda nota vale un 35% del total\n",
    "\n",
    "✓ La tercera nota vale un 50% del total\n",
    "\n",
    "Ejemplos:\n",
    "\n",
    "✓ nota_1 = 10\n",
    "\n",
    "✓ nota_2 = 7\n",
    "\n",
    "✓ nota_3 = 4\n",
    "\n",
    "\n",
    "5) La siguiente matriz (o lista con listas anidadas) debe cumplir una condición: en cada fila el \n",
    "cuarto elemento siempre debe ser el resultado de sumar los tres primeros. ¿Eres capaz de \n",
    "modificar las sumas incorrectas utilizando la técnica del slicing?\n",
    "\n",
    "Ayuda: La función llamada sum(lista) devuelve una suma de todos los elementos de la \n",
    "lista\n"
   ]
  },
  {
   "cell_type": "code",
   "execution_count": null,
   "metadata": {},
   "outputs": [],
   "source": []
  },
  {
   "cell_type": "markdown",
   "metadata": {},
   "source": [
    "### `Clase 3`"
   ]
  },
  {
   "cell_type": "code",
   "execution_count": null,
   "metadata": {},
   "outputs": [],
   "source": [
    "# A partir de dos variables llamadas NOMBRE y EDAD, debes crear una variable que almacene si se cumplen todas las siguientes condiciones, encadenando operadores lógicos en una sola línea:\n",
    "\n",
    "# NOMBRE sea diferente de cuatro asteriscos “****”\n",
    "# EDAD sea mayor que 5 y a su vez menor que 20\n",
    "# Que la longitud de NOMBRE sea mayor o igual a 4  pero a la vez menor que 8\n",
    "# EDAD multiplicada por 3 sea mayor que 35\n",
    "# Desde un input conseguir las variables:\n",
    "# nombre = INPUT!!!\n",
    "# edad = INPUT!!!!\n",
    "\n",
    "\n"
   ]
  },
  {
   "cell_type": "markdown",
   "metadata": {},
   "source": [
    "### `Clase 4`"
   ]
  },
  {
   "cell_type": "code",
   "execution_count": null,
   "metadata": {},
   "outputs": [],
   "source": [
    "# Aprobación de Crédito bancario\n",
    "# Descripción de la actividad. \n",
    "\n",
    "# Para aprobar un crédito, el cliente debe ser mayor de edad. Además, debe tener una antigüedad en el sistema financiero de mínimo 3 años y un ingreso mayor a 2500 dólares.  En caso no tenga la antigüedad suficiente, su ingreso mensual debe ser como mínimo 4000 dólares. Si no cumple ninguna de las condiciones, no se aprueba el crédito\n",
    "\n",
    "# Datos iniciales:\n",
    "# edad = 15\n",
    "# antigüedad = 10\n",
    "# ingreso = 1500\n"
   ]
  },
  {
   "cell_type": "code",
   "execution_count": null,
   "metadata": {},
   "outputs": [],
   "source": [
    "# Marvel vs. Capcom\n",
    "# Un curso se ha dividido en dos grupos diferentes: A y B de acuerdo al nombre y a una preferencia (Marvel o Capcom). El grupo A está formado por fans de Marvel con un nombre anterior a la M y los fans de Capcom con un nombre posterior a la N y el grupo B por el resto. Escribir un programa que pregunte al usuario su nombre y preferencia, y muestre por pantalla el grupo que le corresponde.\n",
    "# Ej.:\n",
    "# ¿Cómo te llamas?  Alan\n",
    "# ¿Cuál es tu preferencia (M o C)?  C\n",
    "# Tu grupo es B\n",
    "# Para preguntarle al usuario, recuerda usar input.\n",
    "\n",
    "\n"
   ]
  },
  {
   "cell_type": "markdown",
   "metadata": {},
   "source": [
    "### `Clase 5`"
   ]
  },
  {
   "cell_type": "code",
   "execution_count": null,
   "metadata": {},
   "outputs": [],
   "source": [
    "# ¡Solicitud de nros al usuario!\n",
    "\n",
    "# Descripción de la actividad. \n",
    "# Calcular la suma de una cantidad de números enteros ingresados por el usuario directamente utilizando la función input (). \n",
    "# Para finalizar la ejecución del programa, el usuario debe escribir la palabra exit(). El programa debe validar dicha acción. \n",
    "# Finalmente, el algoritmo debe mostrar la suma parcial y total obtenida.\n"
   ]
  },
  {
   "cell_type": "code",
   "execution_count": null,
   "metadata": {},
   "outputs": [],
   "source": [
    "# Canción - Me Gusta\n",
    "\n",
    "# Descripción de la actividad. \n",
    "\n",
    "# Escribir la letra de la canción Me gusta de Manu Chao, utilizando la sentencia de iteración for: \n",
    "#  https://www.letras.com/manu-chao/7352/\n",
    "\n",
    "# Importante: Deberán crear también una lista con los párrafos de la canción para poder imprimirlos correctamente por pantalla.\n",
    "\n",
    "# Ejemplo: \n",
    "# Me gustan los aviones, me gustas tú\n",
    "# Me gusta viajar, me gustas tú\n",
    "# Me gusta la mañana, me gustas tú\n",
    "# Me gusta el viento, me gustas tú\n",
    "# Me gusta soñar, me gustas tú\n",
    "# Me gusta la mar, me gustas tú"
   ]
  },
  {
   "cell_type": "markdown",
   "metadata": {},
   "source": [
    "### `Clase 6`"
   ]
  },
  {
   "cell_type": "markdown",
   "metadata": {},
   "source": [
    "Crear un conjunto en Python que posea los siguientes elementos: \n",
    "- Colores: Rojo, Blanco, Azul.\n",
    "- Posteriormente, agrega nuestro set de colores, los valores de: Violeta y Dorado\n",
    "- Elimina a los colores: Celeste, Blanco y Dorado\n",
    "- Pregunta: ¿Qué pasa si queremos eliminar el color Celeste utilizando el método discard??"
   ]
  },
  {
   "cell_type": "code",
   "execution_count": 13,
   "metadata": {},
   "outputs": [
    {
     "name": "stdout",
     "output_type": "stream",
     "text": [
      "{'Blanco', 'Azul', 'Rojo'}\n"
     ]
    }
   ],
   "source": [
    "colores = {'Rojo', 'Blanco', 'Azul'}\n",
    "print(colores)"
   ]
  },
  {
   "cell_type": "code",
   "execution_count": 14,
   "metadata": {},
   "outputs": [
    {
     "name": "stdout",
     "output_type": "stream",
     "text": [
      "{'Dorado', 'Blanco', 'Azul', 'Violeta', 'Rojo'}\n"
     ]
    }
   ],
   "source": [
    "# colores.add('Violeta')\n",
    "# colores.add('Dorado')\n",
    "colores_nuevos = {'Violeta', 'Dorado'}\n",
    "colores.update(colores_nuevos)\n",
    "print(colores)"
   ]
  },
  {
   "cell_type": "code",
   "execution_count": 15,
   "metadata": {},
   "outputs": [
    {
     "name": "stdout",
     "output_type": "stream",
     "text": [
      "{'Azul', 'Violeta', 'Rojo'}\n"
     ]
    }
   ],
   "source": [
    "# colores.remove('Celeste') # tira error porque \"Celeste\" no existe\n",
    "# colores.remove('Blanco')\n",
    "# colores.remove('Dorado')\n",
    "colores.discard('Celeste')\n",
    "colores.remove('Blanco')\n",
    "colores.remove('Dorado')\n",
    "print(colores)"
   ]
  },
  {
   "cell_type": "code",
   "execution_count": null,
   "metadata": {},
   "outputs": [],
   "source": [
    "# Consigna Dicts\n",
    "# Escribir un programa que le solicite al usuario su nombre, edad, dirección y que, posteriormente, lo muestre por pantalla:\n",
    "# Ejemplo del output solicitado: \n",
    "# Juan tiene 25 años, y vive en Carrera 7 - Bogotá\n"
   ]
  },
  {
   "cell_type": "markdown",
   "metadata": {},
   "source": [
    "### `Ejercicio extra`\n",
    "Ejercicio simple y para toda la familia:\n",
    "\n",
    "Nos proporcionaron las nacionalidades de alumnos inscriptos en un curso de Programacion en Python en la siguiente lsta:\n",
    "\n",
    "lista_alumnos = [\"Argentina\", \"Argentina\", \"Peru\", \"Peru\", \"Uruguay\", \"Uruguay\", \"Argentina\", \"Paraguay\", \"Chile\", \"Bolivia\", \"Bolivia\", \"Chile\", \"Chile\", \"Venezuela\", \"Colombia\", \"Paraguay\", \"Chile\", \"Peru\", \"Uruguay\"]\n",
    "\n",
    "y se nos solicito que quieren saber cuales son las nacionalidades, pero de forma \"limpia\", que solo se muestre una vez cada nacionalidad.\n",
    "\n",
    "Luego imprimir por pantalla.\n",
    "\n",
    "Mostrar por pantalla la nota de Historia del estudiante Juan\n",
    "\n",
    "datos_estudiante = {\n",
    "\n",
    "    \"clase\": {\n",
    "\n",
    "        \"estudiante\": {\n",
    "\n",
    "            \"nombre\": \"Juan\",\n",
    "\n",
    "            \"materias\": {\n",
    "\n",
    "                \"fisica\": 70,\n",
    "\n",
    "                \"historia\": 80\n",
    "\n",
    "            }\n",
    "\n",
    "        }\n",
    "\n",
    "    }\n",
    "\n",
    "}"
   ]
  },
  {
   "cell_type": "code",
   "execution_count": 1,
   "metadata": {},
   "outputs": [
    {
     "name": "stdout",
     "output_type": "stream",
     "text": [
      "['Uruguay', 'Bolivia', 'Chile', 'Argentina', 'Venezuela', 'Peru', 'Paraguay', 'Colombia']\n"
     ]
    }
   ],
   "source": [
    "lista_alumnos = [\"Argentina\", \"Argentina\", \"Peru\", \"Peru\", \"Uruguay\", \"Uruguay\", \"Argentina\", \"Paraguay\", \"Chile\", \"Bolivia\", \"Bolivia\", \"Chile\", \"Chile\", \"Venezuela\", \"Colombia\", \"Paraguay\", \"Chile\", \"Peru\", \"Uruguay\"]\n",
    "lista_alumnos_sin_repetir = list(set(lista_alumnos))\n",
    "print(lista_alumnos_sin_repetir)"
   ]
  },
  {
   "cell_type": "code",
   "execution_count": 5,
   "metadata": {},
   "outputs": [
    {
     "name": "stdout",
     "output_type": "stream",
     "text": [
      "Nota de historia de Juan: 80\n"
     ]
    }
   ],
   "source": [
    "datos_estudiante = {\n",
    "    \"clase\": {\n",
    "        \"estudiante\": {\n",
    "            \"nombre\": \"Juan\",\n",
    "            \"materias\": {\n",
    "                \"fisica\": 70,\n",
    "                \"historia\": 80\n",
    "            }\n",
    "        }\n",
    "    }\n",
    "}\n",
    "\n",
    "print('Nota de historia de Juan:', datos_estudiante['clase']['estudiante']['materias']['historia'])"
   ]
  },
  {
   "cell_type": "markdown",
   "metadata": {},
   "source": [
    "### `Clase 7`"
   ]
  },
  {
   "cell_type": "code",
   "execution_count": null,
   "metadata": {},
   "outputs": [],
   "source": [
    "# Ejecuta el código para analizar cada una de las salidas! \n",
    "\n",
    "Ejemplo 1:\n",
    "my_set_1 = set([1, 2, 3])\n",
    "my_set_2 = set([3, 4, 5])\n",
    "my_new_set = my_set_1.union(my_set_2)\n",
    "print(my_new_set)\n",
    "\n",
    "Ejemplo 2:\n",
    "my_set_1 = set([1, 2, 3])\n",
    "my_set_2 = set([3, 4, 5])\n",
    "my_new_set = my_set_1.intersection(my_set_2)\n",
    "print(my_new_set)\n",
    "\n",
    "Ejemplo 3:\n",
    "my_set_1 = set([1, 2, 3])\n",
    "my_set_2 = set([3, 4, 5])\n",
    "my_new_set = my_set_1.difference(my_set_2)\n",
    "print(my_new_set)\n"
   ]
  },
  {
   "cell_type": "code",
   "execution_count": 8,
   "metadata": {},
   "outputs": [
    {
     "name": "stdout",
     "output_type": "stream",
     "text": [
      "['gordon lanzó su curva', 'strawberry ha fallado por un pie!-gritó Joe Castiglione', 'dos pies -le corrigió Troop', 'strawberry menea la cabeza como disgustado… -agrega el comentarista']\n"
     ]
    }
   ],
   "source": [
    "texto= 'gordon lanzó su curva&strawberry ha fallado por un pie!-gritó Joe Castiglione&dos pies -le corrigió Troop&strawberry menea la cabeza como disgustado… -agrega el comentarista'\n",
    "\n",
    "lineas = texto.split('&')\n",
    "print(lineas)"
   ]
  },
  {
   "cell_type": "code",
   "execution_count": null,
   "metadata": {},
   "outputs": [],
   "source": [
    "# Descripción de la actividad. \n",
    "\n",
    "# Escribir un programa que guarde en una variable en un diccionario {'Dolar':'$','Euro':'€', 'Libra':'£'}. \n",
    "\n",
    "# Luego se le deberá solicitar al usuario que ingrese la divisa que desea visualizar. \n",
    "\n",
    "# En el caso de ingresar una divisa no existente en nuestro diccionario, deberemos indicarle con un mensaje de notificación que la divisa no se encuentra disponible. \n"
   ]
  },
  {
   "cell_type": "markdown",
   "metadata": {},
   "source": [
    "### `Clase 8`"
   ]
  },
  {
   "cell_type": "code",
   "execution_count": null,
   "metadata": {},
   "outputs": [],
   "source": []
  },
  {
   "cell_type": "markdown",
   "metadata": {},
   "source": [
    "### `Clase 9`"
   ]
  },
  {
   "cell_type": "markdown",
   "metadata": {},
   "source": [
    "### Welcome\n",
    "Escribir una función a la que se le pase una cadena del nombre de una ciudad <ciudad> y muestre por pantalla el saludo ¡hola bienvenidx a <nombre>!."
   ]
  },
  {
   "cell_type": "code",
   "execution_count": 1,
   "metadata": {},
   "outputs": [
    {
     "name": "stdout",
     "output_type": "stream",
     "text": [
      "¡Hola bienvenidx a Buenos aires!\n"
     ]
    }
   ],
   "source": [
    "def saludar_ciudad(ciudad):\n",
    "    nombre = ciudad.capitalize()  # Capitalizamos el nombre de la ciudad\n",
    "    print(f\"¡Hola bienvenidx a {nombre}!\")\n",
    "\n",
    "ciudad = input(\"Ingresa el nombre de la ciudad: \")\n",
    "saludar_ciudad(ciudad)"
   ]
  },
  {
   "cell_type": "markdown",
   "metadata": {},
   "source": [
    "### Media\n",
    "Escribir una función que reciba una muestra de números en una lista y devuelva su media.\n"
   ]
  },
  {
   "cell_type": "code",
   "execution_count": 2,
   "metadata": {},
   "outputs": [
    {
     "name": "stdout",
     "output_type": "stream",
     "text": [
      "La media es: 2.5\n"
     ]
    }
   ],
   "source": [
    "def media(lista):\n",
    "    if not lista:\n",
    "        raise ValueError(\"La lista de muestra está vacía\")\n",
    "    \n",
    "    total = sum(lista)\n",
    "    media = total / len(lista)\n",
    "    return media\n",
    "\n",
    "lista = [1,2,3,4]\n",
    "calculo_media = media(lista)\n",
    "print(f\"La media es: {calculo_media}\")"
   ]
  },
  {
   "cell_type": "code",
   "execution_count": 3,
   "metadata": {},
   "outputs": [
    {
     "name": "stdout",
     "output_type": "stream",
     "text": [
      "2.5\n"
     ]
    }
   ],
   "source": [
    "def media(lista):\n",
    "    media = sum(lista)/len(lista)\n",
    "    return media\n",
    "\n",
    "print(media([1,2,3,4]))"
   ]
  },
  {
   "cell_type": "markdown",
   "metadata": {},
   "source": [
    "### es_multiplo\n",
    "Crea un programa que le pida dos números enteros al usuario y diga por consola, si alguno de ellos es múltiplo del otro. La función debe llamarse es_multiplo()."
   ]
  },
  {
   "cell_type": "code",
   "execution_count": 4,
   "metadata": {},
   "outputs": [
    {
     "name": "stdout",
     "output_type": "stream",
     "text": [
      "¡Al menos uno de los números es múltiplo del otro!\n"
     ]
    }
   ],
   "source": [
    "def es_multiplo(numero1, numero2):\n",
    "    if numero1 % numero2 == 0 or numero2 % numero1 == 0:\n",
    "        return True\n",
    "    else:\n",
    "        return False\n",
    "\n",
    "numero1 = int(input(\"Ingresa el primer número entero: \"))\n",
    "numero2 = int(input(\"Ingresa el segundo número entero: \"))\n",
    "\n",
    "if es_multiplo(numero1, numero2):\n",
    "    print(\"¡Al menos uno de los números es múltiplo del otro!\")\n",
    "else:\n",
    "    print(\"Ninguno de los números es múltiplo del otro.\")"
   ]
  },
  {
   "cell_type": "markdown",
   "metadata": {},
   "source": [
    "### `Clase 10`"
   ]
  },
  {
   "cell_type": "code",
   "execution_count": null,
   "metadata": {},
   "outputs": [],
   "source": []
  },
  {
   "cell_type": "markdown",
   "metadata": {},
   "source": [
    "### `Clase 11`"
   ]
  },
  {
   "cell_type": "code",
   "execution_count": null,
   "metadata": {},
   "outputs": [],
   "source": []
  },
  {
   "cell_type": "markdown",
   "metadata": {},
   "source": [
    "### `Clase 12`"
   ]
  },
  {
   "cell_type": "code",
   "execution_count": null,
   "metadata": {},
   "outputs": [],
   "source": []
  },
  {
   "cell_type": "markdown",
   "metadata": {},
   "source": [
    "### `Clase 13`"
   ]
  },
  {
   "cell_type": "code",
   "execution_count": null,
   "metadata": {},
   "outputs": [],
   "source": []
  },
  {
   "cell_type": "markdown",
   "metadata": {},
   "source": [
    "### `Clase 14`"
   ]
  },
  {
   "cell_type": "code",
   "execution_count": null,
   "metadata": {},
   "outputs": [],
   "source": []
  },
  {
   "cell_type": "markdown",
   "metadata": {},
   "source": [
    "### `Clase 15`"
   ]
  },
  {
   "cell_type": "code",
   "execution_count": null,
   "metadata": {},
   "outputs": [],
   "source": []
  },
  {
   "cell_type": "markdown",
   "metadata": {},
   "source": [
    "### `Clase 16`"
   ]
  },
  {
   "cell_type": "code",
   "execution_count": null,
   "metadata": {},
   "outputs": [],
   "source": []
  },
  {
   "cell_type": "markdown",
   "metadata": {},
   "source": [
    "### `Clase 17`"
   ]
  },
  {
   "cell_type": "code",
   "execution_count": null,
   "metadata": {},
   "outputs": [],
   "source": []
  },
  {
   "cell_type": "markdown",
   "metadata": {},
   "source": [
    "### `Clase 18`"
   ]
  },
  {
   "cell_type": "code",
   "execution_count": null,
   "metadata": {},
   "outputs": [],
   "source": []
  },
  {
   "cell_type": "markdown",
   "metadata": {},
   "source": [
    "### `Clase 19`"
   ]
  },
  {
   "cell_type": "code",
   "execution_count": null,
   "metadata": {},
   "outputs": [],
   "source": []
  },
  {
   "cell_type": "markdown",
   "metadata": {},
   "source": [
    "### `Clase 20`"
   ]
  },
  {
   "cell_type": "code",
   "execution_count": null,
   "metadata": {},
   "outputs": [],
   "source": []
  },
  {
   "cell_type": "markdown",
   "metadata": {},
   "source": [
    "### `Clase 21`"
   ]
  },
  {
   "cell_type": "code",
   "execution_count": null,
   "metadata": {},
   "outputs": [],
   "source": []
  },
  {
   "cell_type": "markdown",
   "metadata": {},
   "source": [
    "### `Clase 22`"
   ]
  },
  {
   "cell_type": "code",
   "execution_count": null,
   "metadata": {},
   "outputs": [],
   "source": []
  },
  {
   "cell_type": "markdown",
   "metadata": {},
   "source": [
    "### `Clase 23`"
   ]
  },
  {
   "cell_type": "code",
   "execution_count": null,
   "metadata": {},
   "outputs": [],
   "source": []
  },
  {
   "cell_type": "markdown",
   "metadata": {},
   "source": [
    "### `Clase 24`"
   ]
  },
  {
   "cell_type": "code",
   "execution_count": null,
   "metadata": {},
   "outputs": [],
   "source": []
  },
  {
   "cell_type": "markdown",
   "metadata": {},
   "source": [
    "### `Clase 25`"
   ]
  },
  {
   "cell_type": "code",
   "execution_count": null,
   "metadata": {},
   "outputs": [],
   "source": []
  }
 ],
 "metadata": {
  "kernelspec": {
   "display_name": "Python 3",
   "language": "python",
   "name": "python3"
  },
  "language_info": {
   "codemirror_mode": {
    "name": "ipython",
    "version": 3
   },
   "file_extension": ".py",
   "mimetype": "text/x-python",
   "name": "python",
   "nbconvert_exporter": "python",
   "pygments_lexer": "ipython3",
   "version": "3.11.1"
  },
  "orig_nbformat": 4
 },
 "nbformat": 4,
 "nbformat_minor": 2
}
