{
 "cells": [
  {
   "cell_type": "markdown",
   "metadata": {},
   "source": [
    "# `Ejercicios de clase`"
   ]
  },
  {
   "cell_type": "markdown",
   "metadata": {},
   "source": [
    "### `Clase 6`"
   ]
  },
  {
   "cell_type": "markdown",
   "metadata": {},
   "source": [
    "Crear un conjunto en Python que posea los siguientes elementos: \n",
    "- Colores: Rojo, Blanco, Azul.\n",
    "- Posteriormente, agrega nuestro set de colores, los valores de: Violeta y Dorado\n",
    "- Elimina a los colores: Celeste, Blanco y Dorado\n",
    "- Pregunta: ¿Qué pasa si queremos eliminar el color Celeste utilizando el método discard??"
   ]
  },
  {
   "cell_type": "code",
   "execution_count": 13,
   "metadata": {},
   "outputs": [
    {
     "name": "stdout",
     "output_type": "stream",
     "text": [
      "{'Blanco', 'Azul', 'Rojo'}\n"
     ]
    }
   ],
   "source": [
    "colores = {'Rojo', 'Blanco', 'Azul'}\n",
    "print(colores)"
   ]
  },
  {
   "cell_type": "code",
   "execution_count": 14,
   "metadata": {},
   "outputs": [
    {
     "name": "stdout",
     "output_type": "stream",
     "text": [
      "{'Dorado', 'Blanco', 'Azul', 'Violeta', 'Rojo'}\n"
     ]
    }
   ],
   "source": [
    "# colores.add('Violeta')\n",
    "# colores.add('Dorado')\n",
    "colores_nuevos = {'Violeta', 'Dorado'}\n",
    "colores.update(colores_nuevos)\n",
    "print(colores)"
   ]
  },
  {
   "cell_type": "code",
   "execution_count": 15,
   "metadata": {},
   "outputs": [
    {
     "name": "stdout",
     "output_type": "stream",
     "text": [
      "{'Azul', 'Violeta', 'Rojo'}\n"
     ]
    }
   ],
   "source": [
    "# colores.remove('Celeste') # tira error porque \"Celeste\" no existe\n",
    "# colores.remove('Blanco')\n",
    "# colores.remove('Dorado')\n",
    "colores.discard('Celeste')\n",
    "colores.remove('Blanco')\n",
    "colores.remove('Dorado')\n",
    "print(colores)"
   ]
  },
  {
   "cell_type": "markdown",
   "metadata": {},
   "source": [
    "### `Otro ejercicio`"
   ]
  },
  {
   "cell_type": "code",
   "execution_count": null,
   "metadata": {},
   "outputs": [],
   "source": [
    "# persona = {\n",
    "#     \"nombre\": \"Fulanito\",\n",
    "#     \"apellido\": \"Cosme\"\n",
    "# }\n",
    "\n"
   ]
  }
 ],
 "metadata": {
  "kernelspec": {
   "display_name": "Python 3",
   "language": "python",
   "name": "python3"
  },
  "language_info": {
   "codemirror_mode": {
    "name": "ipython",
    "version": 3
   },
   "file_extension": ".py",
   "mimetype": "text/x-python",
   "name": "python",
   "nbconvert_exporter": "python",
   "pygments_lexer": "ipython3",
   "version": "3.11.1"
  },
  "orig_nbformat": 4
 },
 "nbformat": 4,
 "nbformat_minor": 2
}
