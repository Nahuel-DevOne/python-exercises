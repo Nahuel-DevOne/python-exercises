{
 "cells": [
  {
   "cell_type": "markdown",
   "metadata": {},
   "source": [
    "# `Ejercicios de las clases y complementarios`"
   ]
  },
  {
   "cell_type": "markdown",
   "metadata": {},
   "source": [
    "### `Clase 1`"
   ]
  },
  {
   "cell_type": "markdown",
   "metadata": {},
   "source": [
    "### Consigna\n",
    "\n",
    "Trabajas en Coderhouse y te piden crear un programa que calcule la nota final de estudiantes del curso de Python. La nota final se calcula basándonos en tres notas previas de las cuales, cada una corresponde un porcentaje distinto de la nota final. Los porcentajes se detallan a continuación:  \n",
    "Los porcentajes asociados que debemos considerar de cada nota se detallan a continuación: \n",
    "- nota_1  cuenta como el 20% de la nota final\n",
    "- nota_2 cuenta como el 30% de la nota final\n",
    "- nota_3 cuenta como el 50% de la nota final\n"
   ]
  },
  {
   "cell_type": "code",
   "execution_count": 6,
   "metadata": {},
   "outputs": [
    {
     "name": "stdout",
     "output_type": "stream",
     "text": [
      "Su primera nota tiene un valor de: 1.6\n",
      "Su segunda nota tiene un valor de: 2.7\n",
      "Su tercera nota tiene un valor de: 5.0\n",
      "Su nota final es: 9.3\n"
     ]
    }
   ],
   "source": [
    "nota1 = int(input('Ingresa la primera nota en valor entero:'))\n",
    "nota2 = int(input('Ingresa la segunda nota en valor entero:'))\n",
    "nota3 = int(input('Ingresa la tercera nota en valor entero:'))\n",
    "\n",
    "valor_nota1 = round(nota1 * 0.2, 2)\n",
    "valor_nota2 = round(nota2 * 0.3, 2)\n",
    "valor_nota3 = round(nota3 * 0.5, 2)\n",
    "\n",
    "nota_final = valor_nota1 + valor_nota2 + valor_nota3\n",
    "\n",
    "print(f'Su primera nota tiene un valor de: {valor_nota1}')\n",
    "print(f'Su segunda nota tiene un valor de: {valor_nota2}')\n",
    "print(f'Su tercera nota tiene un valor de: {valor_nota3}')\n",
    "print(f'Su nota final es: {nota_final}')"
   ]
  },
  {
   "cell_type": "markdown",
   "metadata": {},
   "source": [
    "### `Clase 2`"
   ]
  },
  {
   "cell_type": "code",
   "execution_count": null,
   "metadata": {},
   "outputs": [],
   "source": []
  },
  {
   "cell_type": "markdown",
   "metadata": {},
   "source": [
    "### `Clase 3`"
   ]
  },
  {
   "cell_type": "code",
   "execution_count": null,
   "metadata": {},
   "outputs": [],
   "source": []
  },
  {
   "cell_type": "markdown",
   "metadata": {},
   "source": [
    "### `Clase 4`"
   ]
  },
  {
   "cell_type": "code",
   "execution_count": null,
   "metadata": {},
   "outputs": [],
   "source": []
  },
  {
   "cell_type": "markdown",
   "metadata": {},
   "source": [
    "### `Clase 5`"
   ]
  },
  {
   "cell_type": "code",
   "execution_count": null,
   "metadata": {},
   "outputs": [],
   "source": []
  },
  {
   "cell_type": "markdown",
   "metadata": {},
   "source": [
    "### `Clase 6`"
   ]
  },
  {
   "cell_type": "markdown",
   "metadata": {},
   "source": [
    "Crear un conjunto en Python que posea los siguientes elementos: \n",
    "- Colores: Rojo, Blanco, Azul.\n",
    "- Posteriormente, agrega nuestro set de colores, los valores de: Violeta y Dorado\n",
    "- Elimina a los colores: Celeste, Blanco y Dorado\n",
    "- Pregunta: ¿Qué pasa si queremos eliminar el color Celeste utilizando el método discard??"
   ]
  },
  {
   "cell_type": "code",
   "execution_count": 13,
   "metadata": {},
   "outputs": [
    {
     "name": "stdout",
     "output_type": "stream",
     "text": [
      "{'Blanco', 'Azul', 'Rojo'}\n"
     ]
    }
   ],
   "source": [
    "colores = {'Rojo', 'Blanco', 'Azul'}\n",
    "print(colores)"
   ]
  },
  {
   "cell_type": "code",
   "execution_count": 14,
   "metadata": {},
   "outputs": [
    {
     "name": "stdout",
     "output_type": "stream",
     "text": [
      "{'Dorado', 'Blanco', 'Azul', 'Violeta', 'Rojo'}\n"
     ]
    }
   ],
   "source": [
    "# colores.add('Violeta')\n",
    "# colores.add('Dorado')\n",
    "colores_nuevos = {'Violeta', 'Dorado'}\n",
    "colores.update(colores_nuevos)\n",
    "print(colores)"
   ]
  },
  {
   "cell_type": "code",
   "execution_count": 15,
   "metadata": {},
   "outputs": [
    {
     "name": "stdout",
     "output_type": "stream",
     "text": [
      "{'Azul', 'Violeta', 'Rojo'}\n"
     ]
    }
   ],
   "source": [
    "# colores.remove('Celeste') # tira error porque \"Celeste\" no existe\n",
    "# colores.remove('Blanco')\n",
    "# colores.remove('Dorado')\n",
    "colores.discard('Celeste')\n",
    "colores.remove('Blanco')\n",
    "colores.remove('Dorado')\n",
    "print(colores)"
   ]
  },
  {
   "cell_type": "markdown",
   "metadata": {},
   "source": [
    "### `Ejercicio extra`\n",
    "Ejercicio simple y para toda la familia:\n",
    "\n",
    "Nos proporcionaron las nacionalidades de alumnos inscriptos en un curso de Programacion en Python en la siguiente lsta:\n",
    "\n",
    "lista_alumnos = [\"Argentina\", \"Argentina\", \"Peru\", \"Peru\", \"Uruguay\", \"Uruguay\", \"Argentina\", \"Paraguay\", \"Chile\", \"Bolivia\", \"Bolivia\", \"Chile\", \"Chile\", \"Venezuela\", \"Colombia\", \"Paraguay\", \"Chile\", \"Peru\", \"Uruguay\"]\n",
    "\n",
    "y se nos solicito que quieren saber cuales son las nacionalidades, pero de forma \"limpia\", que solo se muestre una vez cada nacionalidad.\n",
    "\n",
    "Luego imprimir por pantalla.\n",
    "\n",
    "Mostrar por pantalla la nota de Historia del estudiante Juan\n",
    "\n",
    "datos_estudiante = {\n",
    "\n",
    "    \"clase\": {\n",
    "\n",
    "        \"estudiante\": {\n",
    "\n",
    "            \"nombre\": \"Juan\",\n",
    "\n",
    "            \"materias\": {\n",
    "\n",
    "                \"fisica\": 70,\n",
    "\n",
    "                \"historia\": 80\n",
    "\n",
    "            }\n",
    "\n",
    "        }\n",
    "\n",
    "    }\n",
    "\n",
    "}"
   ]
  },
  {
   "cell_type": "code",
   "execution_count": 1,
   "metadata": {},
   "outputs": [
    {
     "name": "stdout",
     "output_type": "stream",
     "text": [
      "['Uruguay', 'Bolivia', 'Chile', 'Argentina', 'Venezuela', 'Peru', 'Paraguay', 'Colombia']\n"
     ]
    }
   ],
   "source": [
    "lista_alumnos = [\"Argentina\", \"Argentina\", \"Peru\", \"Peru\", \"Uruguay\", \"Uruguay\", \"Argentina\", \"Paraguay\", \"Chile\", \"Bolivia\", \"Bolivia\", \"Chile\", \"Chile\", \"Venezuela\", \"Colombia\", \"Paraguay\", \"Chile\", \"Peru\", \"Uruguay\"]\n",
    "lista_alumnos_sin_repetir = list(set(lista_alumnos))\n",
    "print(lista_alumnos_sin_repetir)"
   ]
  },
  {
   "cell_type": "code",
   "execution_count": 5,
   "metadata": {},
   "outputs": [
    {
     "name": "stdout",
     "output_type": "stream",
     "text": [
      "Nota de historia de Juan: 80\n"
     ]
    }
   ],
   "source": [
    "datos_estudiante = {\n",
    "    \"clase\": {\n",
    "        \"estudiante\": {\n",
    "            \"nombre\": \"Juan\",\n",
    "            \"materias\": {\n",
    "                \"fisica\": 70,\n",
    "                \"historia\": 80\n",
    "            }\n",
    "        }\n",
    "    }\n",
    "}\n",
    "\n",
    "print('Nota de historia de Juan:', datos_estudiante['clase']['estudiante']['materias']['historia'])"
   ]
  }
 ],
 "metadata": {
  "kernelspec": {
   "display_name": "Python 3",
   "language": "python",
   "name": "python3"
  },
  "language_info": {
   "codemirror_mode": {
    "name": "ipython",
    "version": 3
   },
   "file_extension": ".py",
   "mimetype": "text/x-python",
   "name": "python",
   "nbconvert_exporter": "python",
   "pygments_lexer": "ipython3",
   "version": "3.11.1"
  },
  "orig_nbformat": 4
 },
 "nbformat": 4,
 "nbformat_minor": 2
}
